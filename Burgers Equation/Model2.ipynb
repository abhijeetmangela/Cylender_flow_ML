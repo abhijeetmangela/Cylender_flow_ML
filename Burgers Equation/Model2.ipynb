{
 "cells": [
  {
   "cell_type": "code",
   "execution_count": 176,
   "metadata": {},
   "outputs": [
    {
     "data": {
      "text/plain": [
       "<torch._C.Generator at 0x1831d9c1a90>"
      ]
     },
     "execution_count": 176,
     "metadata": {},
     "output_type": "execute_result"
    }
   ],
   "source": [
    "import numpy as np\n",
    "import matplotlib.pyplot as plt\n",
    "import pandas as pd\n",
    "import torch\n",
    "from torch.utils.data import DataLoader,Dataset\n",
    "import torch.nn as nn\n",
    "import torch.nn.functional as F\n",
    "import math\n",
    "\n",
    "torch.manual_seed(0)"
   ]
  },
  {
   "cell_type": "code",
   "execution_count": 177,
   "metadata": {},
   "outputs": [],
   "source": [
    "device = torch.device('cuda' if torch.cuda.is_available() else 'cpu')\n",
    "mu = torch.tensor(0.01)"
   ]
  },
  {
   "cell_type": "code",
   "execution_count": 178,
   "metadata": {},
   "outputs": [],
   "source": [
    "class DeepONet(nn.Module):\n",
    "    def __init__(self):\n",
    "        super(DeepONet,self).__init__()\n",
    "        self.Branch_L1 = nn.Linear(100,100)\n",
    "        self.Branch_L2 = nn.Linear(100,100)\n",
    "        self.Branch_L3 = nn.Linear(100,100)\n",
    "        self.Branch_L4 = nn.Linear(100,100)\n",
    "        self.Branch_L5 = nn.Linear(100,100)\n",
    "        self.Branch_L6 = nn.Linear(100,100)\n",
    "        self.Branch_L7 = nn.Linear(100,100)\n",
    "\n",
    "        self.Trunk_L1 = nn.Linear(2,20)\n",
    "        self.Trunk_L2 = nn.Linear(20,20)\n",
    "        self.Trunk_L3 = nn.Linear(20,20)\n",
    "        self.Trunk_L4 = nn.Linear(20,20)\n",
    "        self.Trunk_L5 = nn.Linear(20,100)\n",
    "\n",
    "    def forward(self,y_0,x_loc_and_time):\n",
    "        # Branch\n",
    "        b = F.tanh(self.Branch_L1(y_0))\n",
    "        b = F.tanh(self.Branch_L2(b))\n",
    "        b = F.tanh(self.Branch_L3(b))\n",
    "        b = F.tanh(self.Branch_L4(b))\n",
    "        b = F.tanh(self.Branch_L5(b))\n",
    "        b = F.tanh(self.Branch_L6(b))\n",
    "        b = self.Branch_L7(b)\n",
    "\n",
    "        tr = F.tanh(self.Trunk_L1(x_loc_and_time))\n",
    "        tr = F.tanh(self.Trunk_L2(tr))\n",
    "        tr = F.tanh(self.Trunk_L3(tr))\n",
    "        tr = F.tanh(self.Trunk_L4(tr))\n",
    "        tr = self.Trunk_L5(tr)\n",
    "\n",
    "        #output = torch.matmul(b,tr.t()).sum(dim=0)\n",
    "        output = torch.sum(b * tr, dim=1)\n",
    "\n",
    "        return output\n",
    "\n",
    "model = DeepONet().to(device)"
   ]
  },
  {
   "cell_type": "code",
   "execution_count": 179,
   "metadata": {},
   "outputs": [],
   "source": [
    "model = DeepONet().to(device)"
   ]
  },
  {
   "cell_type": "code",
   "execution_count": 180,
   "metadata": {},
   "outputs": [],
   "source": [
    "database = pd.read_csv('sin_pix.csv',index_col=0).dropna().to_numpy(dtype='float32')"
   ]
  },
  {
   "cell_type": "code",
   "execution_count": 181,
   "metadata": {},
   "outputs": [
    {
     "data": {
      "text/plain": [
       "(33000, 103)"
      ]
     },
     "execution_count": 181,
     "metadata": {},
     "output_type": "execute_result"
    }
   ],
   "source": [
    "database.shape"
   ]
  },
  {
   "cell_type": "code",
   "execution_count": 182,
   "metadata": {},
   "outputs": [],
   "source": [
    "class Data(Dataset):\n",
    "    def __init__(self,transform=None):\n",
    "        self.initial_conditions = torch.from_numpy(database[:,0:100])#.requires_grad_(True)\n",
    "        self.x_location = torch.from_numpy(database[:,[100]])#.requires_grad_(True)\n",
    "        self.time_vale = torch.from_numpy(database[:,[101]]).requires_grad_(True)\n",
    "        self.true_y_value = torch.from_numpy(database[:,[102]])#.requires_grad_(True)\n",
    "        self.n_samples = database.shape[0]\n",
    "\n",
    "    def __getitem__(self, index):\n",
    "        return self.initial_conditions[index] , self.x_location[index] , self.time_vale[index] , self.true_y_value[index]\n",
    "    \n",
    "    def __len__(self):\n",
    "        return self.n_samples"
   ]
  },
  {
   "cell_type": "code",
   "execution_count": 183,
   "metadata": {},
   "outputs": [],
   "source": [
    "dataset_data = Data()"
   ]
  },
  {
   "cell_type": "code",
   "execution_count": 184,
   "metadata": {},
   "outputs": [
    {
     "data": {
      "text/plain": [
       "33000"
      ]
     },
     "execution_count": 184,
     "metadata": {},
     "output_type": "execute_result"
    }
   ],
   "source": [
    "dataset_data.__len__()"
   ]
  },
  {
   "cell_type": "code",
   "execution_count": 185,
   "metadata": {},
   "outputs": [],
   "source": [
    "y,_,_,_ = dataset_data.__getitem__(1)\n",
    "#plt.plot(y)\n",
    "#plt.grid()"
   ]
  },
  {
   "cell_type": "code",
   "execution_count": 186,
   "metadata": {},
   "outputs": [],
   "source": [
    "train_size = int(0.6*dataset_data.__len__())\n",
    "test_size = dataset_data.__len__() - train_size\n",
    "\n",
    "batch_size = 500\n",
    "\n",
    "Burger_train_data , Burger_test_data = torch.utils.data.random_split(Data(),[train_size,test_size])\n",
    "\n",
    "train_loader = DataLoader(dataset=Burger_train_data,batch_size=batch_size,shuffle=True)"
   ]
  },
  {
   "cell_type": "code",
   "execution_count": 187,
   "metadata": {},
   "outputs": [
    {
     "data": {
      "text/plain": [
       "19800"
      ]
     },
     "execution_count": 187,
     "metadata": {},
     "output_type": "execute_result"
    }
   ],
   "source": [
    "train_size"
   ]
  },
  {
   "cell_type": "code",
   "execution_count": 188,
   "metadata": {},
   "outputs": [],
   "source": [
    "data_iter = iter(train_loader)\n",
    "data = data_iter.__next__()\n",
    "Init_val , x_loc, time, y_value = data"
   ]
  },
  {
   "cell_type": "code",
   "execution_count": 189,
   "metadata": {},
   "outputs": [
    {
     "name": "stdout",
     "output_type": "stream",
     "text": [
      "40 1\n"
     ]
    }
   ],
   "source": [
    "num_epoch = 10\n",
    "total_samples = len(train_loader)\n",
    "n_iterations = math.ceil(total_samples/300)\n",
    "print(total_samples,n_iterations)\n",
    "learning_rate = 0.0000001\n",
    "\n",
    "criterion = nn.MSELoss()\n",
    "optimiser = torch.optim.Adam(model.parameters(), lr=0.00001)\n",
    "\n",
    "loss_rec = []"
   ]
  },
  {
   "cell_type": "code",
   "execution_count": 190,
   "metadata": {},
   "outputs": [],
   "source": [
    "def grad(outputs,inputs):\n",
    "    return torch.autograd.grad(outputs,inputs,grad_outputs=torch.ones_like(outputs),create_graph=True)"
   ]
  },
  {
   "cell_type": "code",
   "execution_count": 191,
   "metadata": {},
   "outputs": [],
   "source": [
    "x_locations_for_computation = torch.linspace(0,1,300,dtype=torch.float32).requires_grad_(True)\n",
    "\n",
    "def Physics_loss_Burgers(init_conditions,time_input_physics,x_locations):\n",
    "    total_temp = torch.tensor(0)\n",
    "    for j in range(len(time_input_physics)):\n",
    "        # Set up the input x locations as a range from 0 to 1\n",
    "        # x_locations = torch.linspace(0,1,300,dtype=torch.float32).requires_grad_(True)\n",
    "\n",
    "        # We will calculate gradients on every time given\n",
    "        time_input = time_input_physics[j]*torch.ones_like(x_locations,dtype=torch.float32)\n",
    "\n",
    "        # Taking the slice of the initial conditions associated with that time step. Can be used in future where not just sinx is taken.\n",
    "        input_1_physics = init_conditions[j,:].unsqueeze(0)\n",
    "        input2_physics = torch.cat((x_locations.unsqueeze(-1),time_input.unsqueeze(-1)),-1)\n",
    "\n",
    "        # Getting output \n",
    "        output_physics = model(input_1_physics.expand(len(input2_physics),-1),input2_physics)\n",
    "\n",
    "        # Getting required gradients\n",
    "        du_dt = grad(output_physics,time_input)[0]\n",
    "        du_dx = grad(output_physics,x_locations)[0]\n",
    "        du2_dx2 = grad(du_dx,x_locations)[0]\n",
    "\n",
    "        # Getting the physics loss and summing it up \n",
    "        temp = torch.mean(du_dt + output_physics*du_dx - mu*du2_dx2)\n",
    "        total_temp = total_temp + temp\n",
    "\n",
    "    return total_temp"
   ]
  },
  {
   "cell_type": "code",
   "execution_count": 192,
   "metadata": {},
   "outputs": [],
   "source": [
    "x_locations = torch.linspace(0,1,300,dtype=torch.float32).requires_grad_(True)"
   ]
  },
  {
   "cell_type": "code",
   "execution_count": 193,
   "metadata": {},
   "outputs": [
    {
     "name": "stdout",
     "output_type": "stream",
     "text": [
      "tensor([0.2000, 0.2000, 0.2000, 0.2000, 0.2000, 0.2000, 0.2000, 0.2000, 0.2000,\n",
      "        0.2000, 0.2000, 0.2000, 0.2000, 0.2000, 0.2000, 0.2000, 0.2000, 0.2000,\n",
      "        0.2000, 0.2000, 0.2000, 0.2000, 0.2000, 0.2000, 0.2000, 0.2000, 0.2000,\n",
      "        0.2000, 0.2000, 0.2000, 0.2000, 0.2000, 0.2000, 0.2000, 0.2000, 0.2000,\n",
      "        0.2000, 0.2000, 0.2000, 0.2000, 0.2000, 0.2000, 0.2000, 0.2000, 0.2000,\n",
      "        0.2000, 0.2000, 0.2000, 0.2000, 0.2000, 0.2000, 0.2000, 0.2000, 0.2000,\n",
      "        0.2000, 0.2000, 0.2000, 0.2000, 0.2000, 0.2000, 0.2000, 0.2000, 0.2000,\n",
      "        0.2000, 0.2000, 0.2000, 0.2000, 0.2000, 0.2000, 0.2000, 0.2000, 0.2000,\n",
      "        0.2000, 0.2000, 0.2000, 0.2000, 0.2000, 0.2000, 0.2000, 0.2000, 0.2000,\n",
      "        0.2000, 0.2000, 0.2000, 0.2000, 0.2000, 0.2000, 0.2000, 0.2000, 0.2000,\n",
      "        0.2000, 0.2000, 0.2000, 0.2000, 0.2000, 0.2000, 0.2000, 0.2000, 0.2000,\n",
      "        0.2000, 0.2000, 0.2000, 0.2000, 0.2000, 0.2000, 0.2000, 0.2000, 0.2000,\n",
      "        0.2000, 0.2000, 0.2000, 0.2000, 0.2000, 0.2000, 0.2000, 0.2000, 0.2000,\n",
      "        0.2000, 0.2000, 0.2000, 0.2000, 0.2000, 0.2000, 0.2000, 0.2000, 0.2000,\n",
      "        0.2000, 0.2000, 0.2000, 0.2000, 0.2000, 0.2000, 0.2000, 0.2000, 0.2000,\n",
      "        0.2000, 0.2000, 0.2000, 0.2000, 0.2000, 0.2000, 0.2000, 0.2000, 0.2000,\n",
      "        0.2000, 0.2000, 0.2000, 0.2000, 0.2000, 0.2000, 0.2000, 0.2000, 0.2000,\n",
      "        0.2000, 0.2000, 0.2000, 0.2000, 0.2000, 0.2000, 0.2000, 0.2000, 0.2000,\n",
      "        0.2000, 0.2000, 0.2000, 0.2000, 0.2000, 0.2000, 0.2000, 0.2000, 0.2000,\n",
      "        0.2000, 0.2000, 0.2000, 0.2000, 0.2000, 0.2000, 0.2000, 0.2000, 0.2000,\n",
      "        0.2000, 0.2000, 0.2000, 0.2000, 0.2000, 0.2000, 0.2000, 0.2000, 0.2000,\n",
      "        0.2000, 0.2000, 0.2000, 0.2000, 0.2000, 0.2000, 0.2000, 0.2000, 0.2000,\n",
      "        0.2000, 0.2000, 0.2000, 0.2000, 0.2000, 0.2000, 0.2000, 0.2000, 0.2000,\n",
      "        0.2000, 0.2000, 0.2000, 0.2000, 0.2000, 0.2000, 0.2000, 0.2000, 0.2000,\n",
      "        0.2000, 0.2000, 0.2000, 0.2000, 0.2000, 0.2000, 0.2000, 0.2000, 0.2000,\n",
      "        0.2000, 0.2000, 0.2000, 0.2000, 0.2000, 0.2000, 0.2000, 0.2000, 0.2000,\n",
      "        0.2000, 0.2000, 0.2000, 0.2000, 0.2000, 0.2000, 0.2000, 0.2000, 0.2000,\n",
      "        0.2000, 0.2000, 0.2000, 0.2000, 0.2000, 0.2000, 0.2000, 0.2000, 0.2000,\n",
      "        0.2000, 0.2000, 0.2000, 0.2000, 0.2000, 0.2000, 0.2000, 0.2000, 0.2000,\n",
      "        0.2000, 0.2000, 0.2000, 0.2000, 0.2000, 0.2000, 0.2000, 0.2000, 0.2000,\n",
      "        0.2000, 0.2000, 0.2000, 0.2000, 0.2000, 0.2000, 0.2000, 0.2000, 0.2000,\n",
      "        0.2000, 0.2000, 0.2000, 0.2000, 0.2000, 0.2000, 0.2000, 0.2000, 0.2000,\n",
      "        0.2000, 0.2000, 0.2000, 0.2000, 0.2000, 0.2000, 0.2000, 0.2000, 0.2000,\n",
      "        0.2000, 0.2000, 0.2000], grad_fn=<MulBackward0>)\n"
     ]
    }
   ],
   "source": [
    "time_input_physics = torch.tensor(0.2)\n",
    "time_input = time_input_physics*torch.ones_like(x_locations,dtype=torch.float32).requires_grad_(True)\n",
    "print(time_input)"
   ]
  },
  {
   "cell_type": "code",
   "execution_count": 194,
   "metadata": {},
   "outputs": [
    {
     "name": "stdout",
     "output_type": "stream",
     "text": [
      "tensor([[0.0000, 0.2000],\n",
      "        [0.0033, 0.2000],\n",
      "        [0.0067, 0.2000],\n",
      "        [0.0100, 0.2000],\n",
      "        [0.0134, 0.2000],\n",
      "        [0.0167, 0.2000],\n",
      "        [0.0201, 0.2000],\n",
      "        [0.0234, 0.2000],\n",
      "        [0.0268, 0.2000],\n",
      "        [0.0301, 0.2000],\n",
      "        [0.0334, 0.2000],\n",
      "        [0.0368, 0.2000],\n",
      "        [0.0401, 0.2000],\n",
      "        [0.0435, 0.2000],\n",
      "        [0.0468, 0.2000],\n",
      "        [0.0502, 0.2000],\n",
      "        [0.0535, 0.2000],\n",
      "        [0.0569, 0.2000],\n",
      "        [0.0602, 0.2000],\n",
      "        [0.0635, 0.2000],\n",
      "        [0.0669, 0.2000],\n",
      "        [0.0702, 0.2000],\n",
      "        [0.0736, 0.2000],\n",
      "        [0.0769, 0.2000],\n",
      "        [0.0803, 0.2000],\n",
      "        [0.0836, 0.2000],\n",
      "        [0.0870, 0.2000],\n",
      "        [0.0903, 0.2000],\n",
      "        [0.0936, 0.2000],\n",
      "        [0.0970, 0.2000],\n",
      "        [0.1003, 0.2000],\n",
      "        [0.1037, 0.2000],\n",
      "        [0.1070, 0.2000],\n",
      "        [0.1104, 0.2000],\n",
      "        [0.1137, 0.2000],\n",
      "        [0.1171, 0.2000],\n",
      "        [0.1204, 0.2000],\n",
      "        [0.1237, 0.2000],\n",
      "        [0.1271, 0.2000],\n",
      "        [0.1304, 0.2000],\n",
      "        [0.1338, 0.2000],\n",
      "        [0.1371, 0.2000],\n",
      "        [0.1405, 0.2000],\n",
      "        [0.1438, 0.2000],\n",
      "        [0.1472, 0.2000],\n",
      "        [0.1505, 0.2000],\n",
      "        [0.1538, 0.2000],\n",
      "        [0.1572, 0.2000],\n",
      "        [0.1605, 0.2000],\n",
      "        [0.1639, 0.2000],\n",
      "        [0.1672, 0.2000],\n",
      "        [0.1706, 0.2000],\n",
      "        [0.1739, 0.2000],\n",
      "        [0.1773, 0.2000],\n",
      "        [0.1806, 0.2000],\n",
      "        [0.1839, 0.2000],\n",
      "        [0.1873, 0.2000],\n",
      "        [0.1906, 0.2000],\n",
      "        [0.1940, 0.2000],\n",
      "        [0.1973, 0.2000],\n",
      "        [0.2007, 0.2000],\n",
      "        [0.2040, 0.2000],\n",
      "        [0.2074, 0.2000],\n",
      "        [0.2107, 0.2000],\n",
      "        [0.2140, 0.2000],\n",
      "        [0.2174, 0.2000],\n",
      "        [0.2207, 0.2000],\n",
      "        [0.2241, 0.2000],\n",
      "        [0.2274, 0.2000],\n",
      "        [0.2308, 0.2000],\n",
      "        [0.2341, 0.2000],\n",
      "        [0.2375, 0.2000],\n",
      "        [0.2408, 0.2000],\n",
      "        [0.2441, 0.2000],\n",
      "        [0.2475, 0.2000],\n",
      "        [0.2508, 0.2000],\n",
      "        [0.2542, 0.2000],\n",
      "        [0.2575, 0.2000],\n",
      "        [0.2609, 0.2000],\n",
      "        [0.2642, 0.2000],\n",
      "        [0.2676, 0.2000],\n",
      "        [0.2709, 0.2000],\n",
      "        [0.2742, 0.2000],\n",
      "        [0.2776, 0.2000],\n",
      "        [0.2809, 0.2000],\n",
      "        [0.2843, 0.2000],\n",
      "        [0.2876, 0.2000],\n",
      "        [0.2910, 0.2000],\n",
      "        [0.2943, 0.2000],\n",
      "        [0.2977, 0.2000],\n",
      "        [0.3010, 0.2000],\n",
      "        [0.3043, 0.2000],\n",
      "        [0.3077, 0.2000],\n",
      "        [0.3110, 0.2000],\n",
      "        [0.3144, 0.2000],\n",
      "        [0.3177, 0.2000],\n",
      "        [0.3211, 0.2000],\n",
      "        [0.3244, 0.2000],\n",
      "        [0.3278, 0.2000],\n",
      "        [0.3311, 0.2000],\n",
      "        [0.3344, 0.2000],\n",
      "        [0.3378, 0.2000],\n",
      "        [0.3411, 0.2000],\n",
      "        [0.3445, 0.2000],\n",
      "        [0.3478, 0.2000],\n",
      "        [0.3512, 0.2000],\n",
      "        [0.3545, 0.2000],\n",
      "        [0.3579, 0.2000],\n",
      "        [0.3612, 0.2000],\n",
      "        [0.3645, 0.2000],\n",
      "        [0.3679, 0.2000],\n",
      "        [0.3712, 0.2000],\n",
      "        [0.3746, 0.2000],\n",
      "        [0.3779, 0.2000],\n",
      "        [0.3813, 0.2000],\n",
      "        [0.3846, 0.2000],\n",
      "        [0.3880, 0.2000],\n",
      "        [0.3913, 0.2000],\n",
      "        [0.3946, 0.2000],\n",
      "        [0.3980, 0.2000],\n",
      "        [0.4013, 0.2000],\n",
      "        [0.4047, 0.2000],\n",
      "        [0.4080, 0.2000],\n",
      "        [0.4114, 0.2000],\n",
      "        [0.4147, 0.2000],\n",
      "        [0.4181, 0.2000],\n",
      "        [0.4214, 0.2000],\n",
      "        [0.4247, 0.2000],\n",
      "        [0.4281, 0.2000],\n",
      "        [0.4314, 0.2000],\n",
      "        [0.4348, 0.2000],\n",
      "        [0.4381, 0.2000],\n",
      "        [0.4415, 0.2000],\n",
      "        [0.4448, 0.2000],\n",
      "        [0.4482, 0.2000],\n",
      "        [0.4515, 0.2000],\n",
      "        [0.4548, 0.2000],\n",
      "        [0.4582, 0.2000],\n",
      "        [0.4615, 0.2000],\n",
      "        [0.4649, 0.2000],\n",
      "        [0.4682, 0.2000],\n",
      "        [0.4716, 0.2000],\n",
      "        [0.4749, 0.2000],\n",
      "        [0.4783, 0.2000],\n",
      "        [0.4816, 0.2000],\n",
      "        [0.4849, 0.2000],\n",
      "        [0.4883, 0.2000],\n",
      "        [0.4916, 0.2000],\n",
      "        [0.4950, 0.2000],\n",
      "        [0.4983, 0.2000],\n",
      "        [0.5017, 0.2000],\n",
      "        [0.5050, 0.2000],\n",
      "        [0.5084, 0.2000],\n",
      "        [0.5117, 0.2000],\n",
      "        [0.5151, 0.2000],\n",
      "        [0.5184, 0.2000],\n",
      "        [0.5217, 0.2000],\n",
      "        [0.5251, 0.2000],\n",
      "        [0.5284, 0.2000],\n",
      "        [0.5318, 0.2000],\n",
      "        [0.5351, 0.2000],\n",
      "        [0.5385, 0.2000],\n",
      "        [0.5418, 0.2000],\n",
      "        [0.5452, 0.2000],\n",
      "        [0.5485, 0.2000],\n",
      "        [0.5518, 0.2000],\n",
      "        [0.5552, 0.2000],\n",
      "        [0.5585, 0.2000],\n",
      "        [0.5619, 0.2000],\n",
      "        [0.5652, 0.2000],\n",
      "        [0.5686, 0.2000],\n",
      "        [0.5719, 0.2000],\n",
      "        [0.5753, 0.2000],\n",
      "        [0.5786, 0.2000],\n",
      "        [0.5819, 0.2000],\n",
      "        [0.5853, 0.2000],\n",
      "        [0.5886, 0.2000],\n",
      "        [0.5920, 0.2000],\n",
      "        [0.5953, 0.2000],\n",
      "        [0.5987, 0.2000],\n",
      "        [0.6020, 0.2000],\n",
      "        [0.6054, 0.2000],\n",
      "        [0.6087, 0.2000],\n",
      "        [0.6120, 0.2000],\n",
      "        [0.6154, 0.2000],\n",
      "        [0.6187, 0.2000],\n",
      "        [0.6221, 0.2000],\n",
      "        [0.6254, 0.2000],\n",
      "        [0.6288, 0.2000],\n",
      "        [0.6321, 0.2000],\n",
      "        [0.6355, 0.2000],\n",
      "        [0.6388, 0.2000],\n",
      "        [0.6421, 0.2000],\n",
      "        [0.6455, 0.2000],\n",
      "        [0.6488, 0.2000],\n",
      "        [0.6522, 0.2000],\n",
      "        [0.6555, 0.2000],\n",
      "        [0.6589, 0.2000],\n",
      "        [0.6622, 0.2000],\n",
      "        [0.6656, 0.2000],\n",
      "        [0.6689, 0.2000],\n",
      "        [0.6722, 0.2000],\n",
      "        [0.6756, 0.2000],\n",
      "        [0.6789, 0.2000],\n",
      "        [0.6823, 0.2000],\n",
      "        [0.6856, 0.2000],\n",
      "        [0.6890, 0.2000],\n",
      "        [0.6923, 0.2000],\n",
      "        [0.6957, 0.2000],\n",
      "        [0.6990, 0.2000],\n",
      "        [0.7023, 0.2000],\n",
      "        [0.7057, 0.2000],\n",
      "        [0.7090, 0.2000],\n",
      "        [0.7124, 0.2000],\n",
      "        [0.7157, 0.2000],\n",
      "        [0.7191, 0.2000],\n",
      "        [0.7224, 0.2000],\n",
      "        [0.7258, 0.2000],\n",
      "        [0.7291, 0.2000],\n",
      "        [0.7324, 0.2000],\n",
      "        [0.7358, 0.2000],\n",
      "        [0.7391, 0.2000],\n",
      "        [0.7425, 0.2000],\n",
      "        [0.7458, 0.2000],\n",
      "        [0.7492, 0.2000],\n",
      "        [0.7525, 0.2000],\n",
      "        [0.7559, 0.2000],\n",
      "        [0.7592, 0.2000],\n",
      "        [0.7625, 0.2000],\n",
      "        [0.7659, 0.2000],\n",
      "        [0.7692, 0.2000],\n",
      "        [0.7726, 0.2000],\n",
      "        [0.7759, 0.2000],\n",
      "        [0.7793, 0.2000],\n",
      "        [0.7826, 0.2000],\n",
      "        [0.7860, 0.2000],\n",
      "        [0.7893, 0.2000],\n",
      "        [0.7926, 0.2000],\n",
      "        [0.7960, 0.2000],\n",
      "        [0.7993, 0.2000],\n",
      "        [0.8027, 0.2000],\n",
      "        [0.8060, 0.2000],\n",
      "        [0.8094, 0.2000],\n",
      "        [0.8127, 0.2000],\n",
      "        [0.8161, 0.2000],\n",
      "        [0.8194, 0.2000],\n",
      "        [0.8227, 0.2000],\n",
      "        [0.8261, 0.2000],\n",
      "        [0.8294, 0.2000],\n",
      "        [0.8328, 0.2000],\n",
      "        [0.8361, 0.2000],\n",
      "        [0.8395, 0.2000],\n",
      "        [0.8428, 0.2000],\n",
      "        [0.8462, 0.2000],\n",
      "        [0.8495, 0.2000],\n",
      "        [0.8528, 0.2000],\n",
      "        [0.8562, 0.2000],\n",
      "        [0.8595, 0.2000],\n",
      "        [0.8629, 0.2000],\n",
      "        [0.8662, 0.2000],\n",
      "        [0.8696, 0.2000],\n",
      "        [0.8729, 0.2000],\n",
      "        [0.8763, 0.2000],\n",
      "        [0.8796, 0.2000],\n",
      "        [0.8829, 0.2000],\n",
      "        [0.8863, 0.2000],\n",
      "        [0.8896, 0.2000],\n",
      "        [0.8930, 0.2000],\n",
      "        [0.8963, 0.2000],\n",
      "        [0.8997, 0.2000],\n",
      "        [0.9030, 0.2000],\n",
      "        [0.9064, 0.2000],\n",
      "        [0.9097, 0.2000],\n",
      "        [0.9130, 0.2000],\n",
      "        [0.9164, 0.2000],\n",
      "        [0.9197, 0.2000],\n",
      "        [0.9231, 0.2000],\n",
      "        [0.9264, 0.2000],\n",
      "        [0.9298, 0.2000],\n",
      "        [0.9331, 0.2000],\n",
      "        [0.9365, 0.2000],\n",
      "        [0.9398, 0.2000],\n",
      "        [0.9431, 0.2000],\n",
      "        [0.9465, 0.2000],\n",
      "        [0.9498, 0.2000],\n",
      "        [0.9532, 0.2000],\n",
      "        [0.9565, 0.2000],\n",
      "        [0.9599, 0.2000],\n",
      "        [0.9632, 0.2000],\n",
      "        [0.9666, 0.2000],\n",
      "        [0.9699, 0.2000],\n",
      "        [0.9732, 0.2000],\n",
      "        [0.9766, 0.2000],\n",
      "        [0.9799, 0.2000],\n",
      "        [0.9833, 0.2000],\n",
      "        [0.9866, 0.2000],\n",
      "        [0.9900, 0.2000],\n",
      "        [0.9933, 0.2000],\n",
      "        [0.9967, 0.2000],\n",
      "        [1.0000, 0.2000]], grad_fn=<CatBackward0>)\n"
     ]
    }
   ],
   "source": [
    "input2_physics = torch.cat((x_locations.unsqueeze(-1),time_input.unsqueeze(-1)),-1)\n",
    "print(input2_physics)"
   ]
  },
  {
   "cell_type": "code",
   "execution_count": 195,
   "metadata": {},
   "outputs": [],
   "source": [
    "#input_1_physics = input1[1,:].unsqueeze(0)\n",
    "#input_1_physics.shape"
   ]
  },
  {
   "cell_type": "code",
   "execution_count": 196,
   "metadata": {},
   "outputs": [],
   "source": [
    "#output_physics = model(input_1_physics,input2_physics)"
   ]
  },
  {
   "cell_type": "code",
   "execution_count": 197,
   "metadata": {},
   "outputs": [],
   "source": [
    "#du_dt = grad(output_physics,time_input)[0]\n",
    "#du_dx = grad(output_physics,x_locations)[0]\n",
    "#du2_dx2 = grad(du_dx,x_locations)[0]\n",
    "#loss_physics_burgers = torch.mean(du_dt + x_locations*du_dx - mu*du2_dx2)\n",
    "#loss_physics_burgers"
   ]
  },
  {
   "cell_type": "code",
   "execution_count": 198,
   "metadata": {},
   "outputs": [],
   "source": [
    "#input1[3]"
   ]
  },
  {
   "cell_type": "code",
   "execution_count": 199,
   "metadata": {},
   "outputs": [],
   "source": [
    "#Physics_loss_rec = Physics_loss(input1,input_time[3])\n",
    "#Physics_loss_rec"
   ]
  },
  {
   "cell_type": "code",
   "execution_count": 200,
   "metadata": {},
   "outputs": [
    {
     "name": "stdout",
     "output_type": "stream",
     "text": [
      "Epoch [1/10] , Step [10/40] , Loss: 0.5824672579765320 , Physics loss : -0.2503941059112549\n",
      "Epoch [1/10] , Step [20/40] , Loss: 0.5908364653587341 , Physics loss : 0.2129090875387192\n",
      "Epoch [1/10] , Step [30/40] , Loss: 0.5631366968154907 , Physics loss : -0.1058596968650818\n",
      "Epoch [1/10] , Step [40/40] , Loss: 0.5330834984779358 , Physics loss : -0.0061876056715846\n",
      "Epoch [2/10] , Step [10/40] , Loss: 0.5270480513572693 , Physics loss : -0.0147858234122396\n",
      "Epoch [2/10] , Step [20/40] , Loss: 0.5277228951454163 , Physics loss : 0.0910220071673393\n",
      "Epoch [2/10] , Step [30/40] , Loss: 0.5285397171974182 , Physics loss : 0.0224484708160162\n",
      "Epoch [2/10] , Step [40/40] , Loss: 0.5243427753448486 , Physics loss : -0.0133449127897620\n",
      "Epoch [3/10] , Step [10/40] , Loss: 0.5302234888076782 , Physics loss : 0.0105220610275865\n",
      "Epoch [3/10] , Step [20/40] , Loss: 0.5118844509124756 , Physics loss : -0.0302715096622705\n",
      "Epoch [3/10] , Step [30/40] , Loss: 0.5013914108276367 , Physics loss : -0.1311701387166977\n",
      "Epoch [3/10] , Step [40/40] , Loss: 0.4889200329780579 , Physics loss : -0.0185620188713074\n",
      "Epoch [4/10] , Step [10/40] , Loss: 0.5112974643707275 , Physics loss : -0.0272675249725580\n",
      "Epoch [4/10] , Step [20/40] , Loss: 0.5110796093940735 , Physics loss : 0.0192371793091297\n",
      "Epoch [4/10] , Step [30/40] , Loss: 0.5035504102706909 , Physics loss : -0.0152638657018542\n",
      "Epoch [4/10] , Step [40/40] , Loss: 0.5011373162269592 , Physics loss : -0.0178812444210052\n",
      "Epoch [5/10] , Step [10/40] , Loss: 0.4922418594360352 , Physics loss : -0.0808850675821304\n",
      "Epoch [5/10] , Step [20/40] , Loss: 0.4711926579475403 , Physics loss : -0.0072349668480456\n",
      "Epoch [5/10] , Step [30/40] , Loss: 0.4959412515163422 , Physics loss : -0.0238944813609123\n",
      "Epoch [5/10] , Step [40/40] , Loss: 0.5025361180305481 , Physics loss : 0.0232105664908886\n",
      "Epoch [6/10] , Step [10/40] , Loss: 0.5132307410240173 , Physics loss : -0.0685800686478615\n",
      "Epoch [6/10] , Step [20/40] , Loss: 0.4593921601772308 , Physics loss : -0.0769917890429497\n",
      "Epoch [6/10] , Step [30/40] , Loss: 0.5111671686172485 , Physics loss : -0.0352065078914165\n",
      "Epoch [6/10] , Step [40/40] , Loss: 0.4425970017910004 , Physics loss : 0.0143681075423956\n",
      "Epoch [7/10] , Step [10/40] , Loss: 0.4698615074157715 , Physics loss : -0.0303699355572462\n",
      "Epoch [7/10] , Step [20/40] , Loss: 0.4942592978477478 , Physics loss : 0.0013072455767542\n",
      "Epoch [7/10] , Step [30/40] , Loss: 0.4829169511795044 , Physics loss : 0.0180228259414434\n",
      "Epoch [7/10] , Step [40/40] , Loss: 0.4482592940330505 , Physics loss : 0.0112974504008889\n",
      "Epoch [8/10] , Step [10/40] , Loss: 0.4729118645191193 , Physics loss : 0.0726046115159988\n",
      "Epoch [8/10] , Step [20/40] , Loss: 0.4615884721279144 , Physics loss : 0.0862284675240517\n",
      "Epoch [8/10] , Step [30/40] , Loss: 0.4908859729766846 , Physics loss : -0.0275036059319973\n",
      "Epoch [8/10] , Step [40/40] , Loss: 0.4974101185798645 , Physics loss : 0.0141116445884109\n",
      "Epoch [9/10] , Step [10/40] , Loss: 0.4790956974029541 , Physics loss : 0.0284975618124008\n",
      "Epoch [9/10] , Step [20/40] , Loss: 0.4584361910820007 , Physics loss : -0.0991059988737106\n",
      "Epoch [9/10] , Step [30/40] , Loss: 0.4624494016170502 , Physics loss : 0.0038288526702672\n",
      "Epoch [9/10] , Step [40/40] , Loss: 0.4773213863372803 , Physics loss : -0.0262595433741808\n",
      "Epoch [10/10] , Step [10/40] , Loss: 0.4698975384235382 , Physics loss : -0.0868006646633148\n",
      "Epoch [10/10] , Step [20/40] , Loss: 0.4905932843685150 , Physics loss : 0.0373079441487789\n",
      "Epoch [10/10] , Step [30/40] , Loss: 0.4792162477970123 , Physics loss : -0.0027789063751698\n",
      "Epoch [10/10] , Step [40/40] , Loss: 0.4593214988708496 , Physics loss : 0.0449381545186043\n"
     ]
    }
   ],
   "source": [
    "model.train()\n",
    "\n",
    "for epoch in range(num_epoch):\n",
    "    for i , (input_init_conditions,input_x_loc,input_time,Actual_y) in enumerate(train_loader):\n",
    "        input1 = input_init_conditions\n",
    "        input1 = input1.to(device)\n",
    "\n",
    "        input2 = torch.cat((input_x_loc,input_time),-1)\n",
    "        input2 = input2.to(device)\n",
    "\n",
    "        Actual_y = Actual_y.to(device)\n",
    "        input_time.to(device)\n",
    "\n",
    "        Outputs = model(input1,input2)\n",
    "\n",
    "        #input2_BC1 = torch.cat((torch.zeros(input_time.size(0),1),input_time),-1).to(device)\n",
    "        #target_BC1 = torch.zeros(input_time.size(0),device=device)#.to(device)\n",
    "        #predicted_BC1 = model(input1,input2_BC1)\n",
    "        #loss_BC1 = torch.mean((predicted_BC1-target_BC1)**2)\n",
    "\n",
    "        #input2_BC2 = torch.cat((torch.ones(input_time.size(0),1),input_time),-1).to(device)\n",
    "        #target_BC2 = torch.zeros(input_time.size(0),device=device) #.to(device)\n",
    "        #predicted_BC2 = model(input1,input2_BC2)\n",
    "        #loss_BC2 = torch.mean((predicted_BC2-target_BC2)**2)\n",
    "\n",
    "        #Physics_loss = Physics_loss_Burgers(input1,input_time,x_locations_for_computation)\n",
    "        \n",
    "        loss = criterion(Outputs.unsqueeze(-1),Actual_y)  + (loss_BC1 + loss_BC2) + # 0.01*Physics_loss.abs()\n",
    "        \n",
    "        loss.backward()\n",
    "        optimiser.step()    \n",
    "        optimiser.zero_grad()\n",
    "        loss_rec.append(loss.item())\n",
    "\n",
    "        if (i+1) % 10 ==0:\n",
    "            print(f'Epoch [{epoch+1}/{num_epoch}] , Step [{i+1}/{total_samples}] , Loss: {loss.item():.16f} , Physics loss : {Physics_loss.item():.16f}')\n",
    "            #y_locations_test = model(input1[1],input2_physics)\n",
    "            #plt.plot(x_locations.detach().numpy(),y_locations_test.detach().numpy())"
   ]
  },
  {
   "cell_type": "code",
   "execution_count": 201,
   "metadata": {},
   "outputs": [
    {
     "data": {
      "text/plain": [
       "torch.Size([300])"
      ]
     },
     "execution_count": 201,
     "metadata": {},
     "output_type": "execute_result"
    }
   ],
   "source": [
    "Outputs.size()"
   ]
  },
  {
   "cell_type": "code",
   "execution_count": 202,
   "metadata": {},
   "outputs": [],
   "source": [
    "y_locations_test = model(input1[1].expand(len(input2_physics),-1),input2_physics.to(device))"
   ]
  },
  {
   "cell_type": "code",
   "execution_count": 203,
   "metadata": {},
   "outputs": [
    {
     "data": {
      "text/plain": [
       "tensor([[-1.2246e-16, -6.3424e-02, -1.2659e-01,  ...,  1.2659e-01,\n",
       "          6.3424e-02,  1.2246e-16],\n",
       "        [-1.2246e-16, -6.3424e-02, -1.2659e-01,  ...,  1.2659e-01,\n",
       "          6.3424e-02,  1.2246e-16],\n",
       "        [-1.2246e-16, -6.3424e-02, -1.2659e-01,  ...,  1.2659e-01,\n",
       "          6.3424e-02,  1.2246e-16],\n",
       "        ...,\n",
       "        [-1.2246e-16, -6.3424e-02, -1.2659e-01,  ...,  1.2659e-01,\n",
       "          6.3424e-02,  1.2246e-16],\n",
       "        [-1.2246e-16, -6.3424e-02, -1.2659e-01,  ...,  1.2659e-01,\n",
       "          6.3424e-02,  1.2246e-16],\n",
       "        [-1.2246e-16, -6.3424e-02, -1.2659e-01,  ...,  1.2659e-01,\n",
       "          6.3424e-02,  1.2246e-16]])"
      ]
     },
     "execution_count": 203,
     "metadata": {},
     "output_type": "execute_result"
    }
   ],
   "source": [
    "input1[1].expand(100,-1)"
   ]
  },
  {
   "cell_type": "code",
   "execution_count": 204,
   "metadata": {},
   "outputs": [
    {
     "data": {
      "text/plain": [
       "[<matplotlib.lines.Line2D at 0x18325111340>]"
      ]
     },
     "execution_count": 204,
     "metadata": {},
     "output_type": "execute_result"
    },
    {
     "data": {
      "image/png": "[encoded data removed]",
      "text/plain": [
       "<Figure size 640x480 with 1 Axes>"
      ]
     },
     "metadata": {},
     "output_type": "display_data"
    }
   ],
   "source": [
    "plt.plot(x_locations.cpu().detach().numpy(),y_locations_test.cpu().detach().numpy())        "
   ]
  },
  {
   "cell_type": "code",
   "execution_count": 205,
   "metadata": {},
   "outputs": [
    {
     "data": {
      "text/plain": [
       "300"
      ]
     },
     "execution_count": 205,
     "metadata": {},
     "output_type": "execute_result"
    }
   ],
   "source": [
    "input_time.size(0)"
   ]
  },
  {
   "cell_type": "code",
   "execution_count": 206,
   "metadata": {},
   "outputs": [],
   "source": [
    "input2_BC1 = torch.cat((torch.zeros(input_time.size(0),1),input_time),-1).to(device)"
   ]
  },
  {
   "cell_type": "code",
   "execution_count": 207,
   "metadata": {},
   "outputs": [],
   "source": [
    "target_BC1 = torch.zeros(input_time.size(0))"
   ]
  },
  {
   "cell_type": "code",
   "execution_count": 208,
   "metadata": {},
   "outputs": [
    {
     "data": {
      "text/plain": [
       "torch.Size([300, 2])"
      ]
     },
     "execution_count": 208,
     "metadata": {},
     "output_type": "execute_result"
    }
   ],
   "source": [
    "input2.size()"
   ]
  },
  {
   "cell_type": "code",
   "execution_count": 209,
   "metadata": {},
   "outputs": [
    {
     "data": {
      "image/png": "[encoded data removed]",
      "text/plain": [
       "<Figure size 640x480 with 1 Axes>"
      ]
     },
     "metadata": {},
     "output_type": "display_data"
    }
   ],
   "source": [
    "plt.plot(loss_rec)#[1000:])\n",
    "plt.grid()"
   ]
  },
  {
   "cell_type": "code",
   "execution_count": 210,
   "metadata": {},
   "outputs": [],
   "source": [
    "# model(y,torch.tensor([0,0]))"
   ]
  },
  {
   "cell_type": "code",
   "execution_count": 211,
   "metadata": {},
   "outputs": [
    {
     "data": {
      "text/plain": [
       "torch.Size([65])"
      ]
     },
     "execution_count": 211,
     "metadata": {},
     "output_type": "execute_result"
    }
   ],
   "source": [
    "trial_input_1 = torch.tensor(np.random.rand(65,100),dtype=torch.float32).to(device)\n",
    "trial_input_2 = torch.tensor(np.random.rand(65,2),dtype=torch.float32).to(device)\n",
    "model(trial_input_1,trial_input_2).mean()\n",
    "model(trial_input_1,trial_input_2).shape"
   ]
  }
 ],
 "metadata": {
  "kernelspec": {
   "display_name": "abhi",
   "language": "python",
   "name": "python3"
  },
  "language_info": {
   "codemirror_mode": {
    "name": "ipython",
    "version": 3
   },
   "file_extension": ".py",
   "mimetype": "text/x-python",
   "name": "python",
   "nbconvert_exporter": "python",
   "pygments_lexer": "ipython3",
   "version": "3.12.2"
  }
 },
 "nbformat": 4,
 "nbformat_minor": 2
}
