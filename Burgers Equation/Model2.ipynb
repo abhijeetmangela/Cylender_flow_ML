{
 "cells": [
  {
   "cell_type": "code",
   "execution_count": 35,
   "metadata": {},
   "outputs": [
    {
     "data": {
      "text/plain": [
       "<torch._C.Generator at 0x19e8bf3d910>"
      ]
     },
     "execution_count": 35,
     "metadata": {},
     "output_type": "execute_result"
    }
   ],
   "source": [
    "import numpy as np\n",
    "import matplotlib.pyplot as plt\n",
    "import pandas as pd\n",
    "import torch\n",
    "from torch.utils.data import DataLoader,Dataset\n",
    "import torch.nn as nn\n",
    "import torch.nn.functional as F\n",
    "import math\n",
    "\n",
    "torch.manual_seed(0)"
   ]
  },
  {
   "cell_type": "code",
   "execution_count": 36,
   "metadata": {},
   "outputs": [],
   "source": [
    "device = torch.device('cuda' if torch.cuda.is_available() else 'cpu')\n",
    "mu = torch.tensor(0.01)"
   ]
  },
  {
   "cell_type": "code",
   "execution_count": 37,
   "metadata": {},
   "outputs": [],
   "source": [
    "class DeepONet(nn.Module):\n",
    "    def __init__(self):\n",
    "        super(DeepONet,self).__init__()\n",
    "        self.Branch_L1 = nn.Linear(2001,100)\n",
    "        self.Branch_L2 = nn.Linear(100,100)\n",
    "        self.Branch_L3 = nn.Linear(100,100)\n",
    "        self.Branch_L4 = nn.Linear(100,100)\n",
    "        self.Branch_L5 = nn.Linear(100,100)\n",
    "\n",
    "        self.Trunk_L1 = nn.Linear(2,100)\n",
    "        self.Trunk_L2 = nn.Linear(100,100)\n",
    "        self.Trunk_L3 = nn.Linear(100,100)\n",
    "        self.Trunk_L4 = nn.Linear(100,20)\n",
    "        self.Trunk_L5 = nn.Linear(20,100)\n",
    "\n",
    "    def forward(self,y_0,x_loc_and_time):\n",
    "        # Branch\n",
    "        b = F.tanh(self.Branch_L1(y_0))\n",
    "        b = F.tanh(self.Branch_L2(b))\n",
    "        b = F.tanh(self.Branch_L3(b))\n",
    "        b = F.tanh(self.Branch_L4(b))\n",
    "#        b = F.tanh(self.Branch_L5(b))\n",
    "#        b = F.tanh(self.Branch_L6(b))\n",
    "        b = self.Branch_L5(b)\n",
    "\n",
    "        tr = F.tanh(self.Trunk_L1(x_loc_and_time))\n",
    "        tr = F.tanh(self.Trunk_L2(tr))\n",
    "        tr = F.tanh(self.Trunk_L3(tr))\n",
    "        tr = F.tanh(self.Trunk_L4(tr))\n",
    "        tr = self.Trunk_L5(tr)\n",
    "\n",
    "        #output = torch.matmul(b,tr.t()).sum(dim=0)\n",
    "        output = torch.sum(b * tr, dim=1)\n",
    "\n",
    "        return output\n",
    "    \n",
    "# model = torch.load(\"model_burgers_1.pt\",weights_only=False)\n",
    "\n",
    "model = DeepONet().to(device)\n",
    "#model.load_state_dict(torch.load('model_burgers_1.pt'))\n",
    "#model.eval().to(device)"
   ]
  },
  {
   "cell_type": "code",
   "execution_count": 38,
   "metadata": {},
   "outputs": [
    {
     "data": {
      "text/plain": [
       "Parameter containing:\n",
       "tensor([-0.0051, -0.0046,  0.0145, -0.0137, -0.0104, -0.0088, -0.0024,  0.0091,\n",
       "        -0.0031, -0.0167, -0.0067,  0.0207, -0.0055,  0.0054,  0.0030,  0.0025,\n",
       "         0.0167,  0.0128, -0.0104, -0.0120, -0.0033,  0.0002,  0.0076,  0.0010,\n",
       "         0.0035, -0.0163, -0.0172, -0.0092, -0.0074,  0.0204, -0.0057,  0.0078,\n",
       "         0.0170,  0.0004, -0.0205,  0.0121, -0.0118,  0.0215, -0.0101,  0.0025,\n",
       "        -0.0114,  0.0192, -0.0172,  0.0088, -0.0072,  0.0060,  0.0177, -0.0041,\n",
       "        -0.0105,  0.0122,  0.0080,  0.0091,  0.0159,  0.0003,  0.0116,  0.0162,\n",
       "         0.0108, -0.0038,  0.0121,  0.0016,  0.0198, -0.0057,  0.0130,  0.0109,\n",
       "         0.0087,  0.0019, -0.0074, -0.0195, -0.0040,  0.0144, -0.0173, -0.0163,\n",
       "         0.0102, -0.0019,  0.0205, -0.0124, -0.0014,  0.0210, -0.0169,  0.0164,\n",
       "        -0.0157,  0.0023, -0.0086,  0.0040, -0.0058,  0.0051, -0.0014,  0.0146,\n",
       "        -0.0215, -0.0123,  0.0134, -0.0008,  0.0151,  0.0223,  0.0132, -0.0165,\n",
       "        -0.0171, -0.0014, -0.0070, -0.0059], device='cuda:0',\n",
       "       requires_grad=True)"
      ]
     },
     "execution_count": 38,
     "metadata": {},
     "output_type": "execute_result"
    }
   ],
   "source": [
    "model.Branch_L1.bias\n"
   ]
  },
  {
   "cell_type": "code",
   "execution_count": 39,
   "metadata": {},
   "outputs": [],
   "source": [
    "# database = pd.read_csv('minus_sin_pix.csv',index_col=0).dropna().to_numpy(dtype='float32')\n",
    "# database = pd.read_pickle(\"test_df.pkl\") #pd.read_csv('minus_sin_pix.csv',index_col=0).dropna().to_numpy(dtype='float32')"
   ]
  },
  {
   "cell_type": "code",
   "execution_count": 40,
   "metadata": {},
   "outputs": [],
   "source": [
    "database = pd.DataFrame(database).to_numpy(dtype='float32')"
   ]
  },
  {
   "cell_type": "code",
   "execution_count": null,
   "metadata": {},
   "outputs": [],
   "source": []
  },
  {
   "cell_type": "code",
   "execution_count": 41,
   "metadata": {},
   "outputs": [],
   "source": [
    "class Data(Dataset):\n",
    "    def __init__(self,transform=None):\n",
    "        self.initial_conditions = torch.from_numpy(database[:,0:2001])#.requires_grad_(True)\n",
    "        self.x_location = torch.from_numpy(database[:,[2001]])#.requires_grad_(True)\n",
    "        self.time_vale = torch.from_numpy(database[:,[2002]])#.requires_grad_(True)\n",
    "        self.true_y_value = torch.from_numpy(database[:,[2003]])#.requires_grad_(True)\n",
    "        self.n_samples = database.shape[0]\n",
    "\n",
    "    def __getitem__(self, index):\n",
    "        return self.initial_conditions[index] , self.x_location[index] , self.time_vale[index] , self.true_y_value[index]\n",
    "    \n",
    "    def __len__(self):\n",
    "        return self.n_samples"
   ]
  },
  {
   "cell_type": "code",
   "execution_count": 42,
   "metadata": {},
   "outputs": [],
   "source": [
    "dataset_data = Data()"
   ]
  },
  {
   "cell_type": "code",
   "execution_count": 43,
   "metadata": {},
   "outputs": [
    {
     "data": {
      "text/plain": [
       "tensor([[ 1.2246e-16],\n",
       "        [ 3.1416e-03],\n",
       "        [ 6.2831e-03],\n",
       "        ...,\n",
       "        [-1.8882e-03],\n",
       "        [-1.1329e-03],\n",
       "        [-3.7764e-04]])"
      ]
     },
     "execution_count": 43,
     "metadata": {},
     "output_type": "execute_result"
    }
   ],
   "source": [
    "dataset_data.true_y_value"
   ]
  },
  {
   "cell_type": "code",
   "execution_count": 44,
   "metadata": {},
   "outputs": [
    {
     "data": {
      "text/plain": [
       "2003001"
      ]
     },
     "execution_count": 44,
     "metadata": {},
     "output_type": "execute_result"
    }
   ],
   "source": [
    "dataset_data.__len__()"
   ]
  },
  {
   "cell_type": "code",
   "execution_count": 45,
   "metadata": {},
   "outputs": [],
   "source": [
    "y,_,_,_ = dataset_data.__getitem__(1)\n",
    "#plt.plot(y)\n",
    "#plt.grid()"
   ]
  },
  {
   "cell_type": "code",
   "execution_count": 46,
   "metadata": {},
   "outputs": [],
   "source": [
    "train_size = int(0.6*dataset_data.__len__())\n",
    "test_size = dataset_data.__len__() - train_size\n",
    "\n",
    "batch_size = 5000\n",
    "\n",
    "Burger_train_data , Burger_test_data = torch.utils.data.random_split(Data(),[train_size,test_size])\n",
    "\n",
    "train_loader = DataLoader(dataset=Burger_train_data,batch_size=batch_size,shuffle=True)"
   ]
  },
  {
   "cell_type": "code",
   "execution_count": 47,
   "metadata": {},
   "outputs": [
    {
     "data": {
      "text/plain": [
       "1201800"
      ]
     },
     "execution_count": 47,
     "metadata": {},
     "output_type": "execute_result"
    }
   ],
   "source": [
    "train_size"
   ]
  },
  {
   "cell_type": "code",
   "execution_count": 48,
   "metadata": {},
   "outputs": [],
   "source": [
    "data_iter = iter(train_loader)\n",
    "data = data_iter.__next__()\n",
    "Init_val , x_loc, time, y_value = data"
   ]
  },
  {
   "cell_type": "code",
   "execution_count": 49,
   "metadata": {},
   "outputs": [
    {
     "name": "stdout",
     "output_type": "stream",
     "text": [
      "241 1\n"
     ]
    }
   ],
   "source": [
    "num_epoch = 5000\n",
    "total_samples = len(train_loader)\n",
    "n_iterations = math.ceil(total_samples/300)\n",
    "print(total_samples,n_iterations)\n",
    "learning_rate = 0.0000001\n",
    "\n",
    "criterion = nn.MSELoss()\n",
    "optimiser = torch.optim.Adam(model.parameters(), lr=1e-7)\n",
    "\n",
    "loss_rec = []"
   ]
  },
  {
   "cell_type": "code",
   "execution_count": 50,
   "metadata": {},
   "outputs": [],
   "source": [
    "def grad(outputs,inputs):\n",
    "    return torch.autograd.grad(outputs,inputs,grad_outputs=torch.ones_like(outputs),create_graph=True)"
   ]
  },
  {
   "cell_type": "code",
   "execution_count": 51,
   "metadata": {},
   "outputs": [],
   "source": [
    "x_locations_for_computation = torch.linspace(0,1,300,dtype=torch.float32).requires_grad_(True)\n",
    "\n",
    "def Physics_loss_Burgers(init_conditions,time_input_physics,x_locations):\n",
    "    total_temp = torch.tensor(0)\n",
    "    for j in range(len(time_input_physics)):\n",
    "        # Set up the input x locations as a range from 0 to 1\n",
    "        # x_locations = torch.linspace(0,1,300,dtype=torch.float32).requires_grad_(True)\n",
    "\n",
    "        # We will calculate gradients on every time given\n",
    "        time_input = time_input_physics[j]*torch.ones_like(x_locations,dtype=torch.float32)\n",
    "\n",
    "        # Taking the slice of the initial conditions associated with that time step. Can be used in future where not just sinx is taken.\n",
    "        input_1_physics = init_conditions[j,:].unsqueeze(0)\n",
    "        input2_physics = torch.cat((x_locations.unsqueeze(-1),time_input.unsqueeze(-1)),-1)\n",
    "\n",
    "        # Getting output \n",
    "        output_physics = model(input_1_physics.expand(len(input2_physics),-1),input2_physics)\n",
    "\n",
    "        # Getting required gradients\n",
    "        du_dt = grad(output_physics,time_input)[0]\n",
    "        du_dx = grad(output_physics,x_locations)[0]\n",
    "        du2_dx2 = grad(du_dx,x_locations)[0]\n",
    "\n",
    "        # Getting the physics loss and summing it up \n",
    "        temp = torch.mean(du_dt + output_physics*du_dx - mu*du2_dx2)\n",
    "        total_temp = total_temp + temp\n",
    "\n",
    "    return total_temp"
   ]
  },
  {
   "cell_type": "code",
   "execution_count": 52,
   "metadata": {},
   "outputs": [],
   "source": [
    "x_locations = torch.linspace(-1,1,300,dtype=torch.float32).requires_grad_(True)"
   ]
  },
  {
   "cell_type": "code",
   "execution_count": 53,
   "metadata": {},
   "outputs": [],
   "source": [
    "time_input_physics = torch.tensor(0.2)\n",
    "time_input = time_input_physics*torch.ones_like(x_locations,dtype=torch.float32).requires_grad_(True)\n",
    "#print(time_input)"
   ]
  },
  {
   "cell_type": "code",
   "execution_count": 54,
   "metadata": {},
   "outputs": [],
   "source": [
    "x_locations = torch.linspace(-1,1,300,dtype=torch.float32).requires_grad_(True)\n",
    "input2_physics = torch.cat((x_locations.unsqueeze(-1),time_input.unsqueeze(-1)),-1)\n",
    "#print(input2_physics)"
   ]
  },
  {
   "cell_type": "code",
   "execution_count": 55,
   "metadata": {},
   "outputs": [],
   "source": [
    "#input_1_physics = input1[1,:].unsqueeze(0)\n",
    "#input_1_physics.shape"
   ]
  },
  {
   "cell_type": "code",
   "execution_count": 56,
   "metadata": {},
   "outputs": [],
   "source": [
    "#output_physics = model(input_1_physics,input2_physics)"
   ]
  },
  {
   "cell_type": "code",
   "execution_count": 57,
   "metadata": {},
   "outputs": [],
   "source": [
    "#du_dt = grad(output_physics,time_input)[0]\n",
    "#du_dx = grad(output_physics,x_locations)[0]\n",
    "#du2_dx2 = grad(du_dx,x_locations)[0]\n",
    "#loss_physics_burgers = torch.mean(du_dt + x_locations*du_dx - mu*du2_dx2)\n",
    "#loss_physics_burgers"
   ]
  },
  {
   "cell_type": "code",
   "execution_count": 58,
   "metadata": {},
   "outputs": [],
   "source": [
    "#input1[3]"
   ]
  },
  {
   "cell_type": "code",
   "execution_count": 59,
   "metadata": {},
   "outputs": [],
   "source": [
    "#Physics_loss_rec = Physics_loss(input1,input_time[3])\n",
    "#Physics_loss_rec"
   ]
  },
  {
   "cell_type": "code",
   "execution_count": null,
   "metadata": {},
   "outputs": [
    {
     "name": "stdout",
     "output_type": "stream",
     "text": [
      "Epoch [1/5000] , Step [10/241] , Loss: 0.3842187523841858 \n",
      "Epoch [1/5000] , Step [20/241] , Loss: 0.3884279727935791 \n",
      "Epoch [1/5000] , Step [30/241] , Loss: 0.3855000138282776 \n",
      "Epoch [1/5000] , Step [40/241] , Loss: 0.3893726170063019 \n",
      "Epoch [1/5000] , Step [50/241] , Loss: 0.3857288062572479 \n",
      "Epoch [1/5000] , Step [60/241] , Loss: 0.3887381851673126 \n",
      "Epoch [1/5000] , Step [70/241] , Loss: 0.3782431483268738 \n",
      "Epoch [1/5000] , Step [80/241] , Loss: 0.3865750730037689 \n",
      "Epoch [1/5000] , Step [90/241] , Loss: 0.3866045176982880 \n",
      "Epoch [1/5000] , Step [100/241] , Loss: 0.3790165781974792 \n",
      "Epoch [1/5000] , Step [110/241] , Loss: 0.3821841478347778 \n",
      "Epoch [1/5000] , Step [120/241] , Loss: 0.3864835798740387 \n",
      "Epoch [1/5000] , Step [130/241] , Loss: 0.3843040466308594 \n",
      "Epoch [1/5000] , Step [140/241] , Loss: 0.3780087232589722 \n",
      "Epoch [1/5000] , Step [150/241] , Loss: 0.3851905763149261 \n"
     ]
    }
   ],
   "source": [
    "model.train()\n",
    "\n",
    "for epoch in range(num_epoch):\n",
    "    for i , (input_init_conditions,input_x_loc,input_time,Actual_y) in enumerate(train_loader):\n",
    "        input1 = input_init_conditions\n",
    "        input1 = input1.to(device)\n",
    "\n",
    "        input2 = torch.cat((input_x_loc,input_time),-1)\n",
    "        input2 = input2.to(device)\n",
    "\n",
    "        Actual_y = Actual_y.to(device)\n",
    "        input_time.to(device)\n",
    "\n",
    "        Outputs = model(input1,input2)\n",
    "\n",
    "        #input2_BC1 = torch.cat((torch.zeros(input_time.size(0),1),input_time),-1).to(device)\n",
    "        #target_BC1 = torch.zeros(input_time.size(0),device=device)#.to(device)\n",
    "        #predicted_BC1 = model(input1,input2_BC1)\n",
    "        #loss_BC1 = torch.mean((predicted_BC1-target_BC1)**2)\n",
    "\n",
    "        #input2_BC2 = torch.cat((torch.ones(input_time.size(0),1),input_time),-1).to(device)\n",
    "        #target_BC2 = torch.zeros(input_time.size(0),device=device) #.to(device)\n",
    "        #predicted_BC2 = model(input1,input2_BC2)\n",
    "        #loss_BC2 = torch.mean((predicted_BC2-target_BC2)**2)\n",
    "\n",
    "        #Physics_loss = Physics_loss_Burgers(input1,input_time,x_locations_for_computation)\n",
    "        \n",
    "        loss = criterion(Outputs.unsqueeze(-1),Actual_y) # + (loss_BC1 + loss_BC2) + # 0.01*Physics_loss.abs()\n",
    "        \n",
    "        loss.backward()\n",
    "        optimiser.step()    \n",
    "        optimiser.zero_grad()\n",
    "        loss_rec.append(loss.item())\n",
    "\n",
    "        if (i+1) % 10 ==0:\n",
    "            print(f'Epoch [{epoch+1}/{num_epoch}] , Step [{i+1}/{total_samples}] , Loss: {loss.item():.16f} ')#, Physics loss : {Physics_loss.item():.16f}')\n",
    "            #y_locations_test = model(input1[1],input2_physics)\n",
    "            #plt.plot(x_locations.detach().numpy(),y_locations_test.detach().numpy())"
   ]
  },
  {
   "cell_type": "code",
   "execution_count": 398,
   "metadata": {},
   "outputs": [
    {
     "data": {
      "text/plain": [
       "torch.Size([5000])"
      ]
     },
     "execution_count": 398,
     "metadata": {},
     "output_type": "execute_result"
    }
   ],
   "source": [
    "Outputs.size()"
   ]
  },
  {
   "cell_type": "code",
   "execution_count": 412,
   "metadata": {},
   "outputs": [],
   "source": [
    "torch.save(model.state_dict(),\"model_burgers_2.pt\") #this one"
   ]
  },
  {
   "cell_type": "code",
   "execution_count": null,
   "metadata": {},
   "outputs": [
    {
     "data": {
      "text/plain": [
       "tensor([[ 1.2246e-16,  3.1416e-03,  6.2831e-03,  ..., -6.2831e-03,\n",
       "         -3.1416e-03, -1.2246e-16],\n",
       "        [ 1.2246e-16,  3.1416e-03,  6.2831e-03,  ..., -6.2831e-03,\n",
       "         -3.1416e-03, -1.2246e-16],\n",
       "        [ 1.2246e-16,  3.1416e-03,  6.2831e-03,  ..., -6.2831e-03,\n",
       "         -3.1416e-03, -1.2246e-16],\n",
       "        ...,\n",
       "        [ 1.2246e-16,  3.1416e-03,  6.2831e-03,  ..., -6.2831e-03,\n",
       "         -3.1416e-03, -1.2246e-16],\n",
       "        [ 1.2246e-16,  3.1416e-03,  6.2831e-03,  ..., -6.2831e-03,\n",
       "         -3.1416e-03, -1.2246e-16],\n",
       "        [ 1.2246e-16,  3.1416e-03,  6.2831e-03,  ..., -6.2831e-03,\n",
       "         -3.1416e-03, -1.2246e-16]], device='cuda:0')"
      ]
     },
     "execution_count": 400,
     "metadata": {},
     "output_type": "execute_result"
    }
   ],
   "source": [
    "input1[1].expand(100,-1)"
   ]
  },
  {
   "cell_type": "code",
   "execution_count": 409,
   "metadata": {},
   "outputs": [],
   "source": [
    "time_input_physics = torch.tensor(0.5)\n",
    "time_input = time_input_physics*torch.ones_like(x_locations,dtype=torch.float32).requires_grad_(True)\n",
    "x_locations = torch.linspace(-1,1,300,dtype=torch.float32).requires_grad_(True)\n",
    "input2_physics = torch.cat((x_locations.unsqueeze(-1),time_input.unsqueeze(-1)),-1)\n",
    "#print(input2_physics)"
   ]
  },
  {
   "cell_type": "code",
   "execution_count": 410,
   "metadata": {},
   "outputs": [
    {
     "data": {
      "image/png": "[encoded data removed]",
      "text/plain": [
       "<Figure size 640x480 with 1 Axes>"
      ]
     },
     "metadata": {},
     "output_type": "display_data"
    }
   ],
   "source": [
    "y_locations_test = model((input1[1].to(device)).expand(len(input2_physics),-1),input2_physics.to(device))\n",
    "plt.plot(x_locations.cpu().detach().numpy(),y_locations_test.cpu().detach().numpy()) \n",
    "plt.grid()       "
   ]
  },
  {
   "cell_type": "code",
   "execution_count": 80,
   "metadata": {},
   "outputs": [
    {
     "data": {
      "text/plain": [
       "3000"
      ]
     },
     "execution_count": 80,
     "metadata": {},
     "output_type": "execute_result"
    }
   ],
   "source": [
    "input_time.size(0)"
   ]
  },
  {
   "cell_type": "code",
   "execution_count": 81,
   "metadata": {},
   "outputs": [],
   "source": [
    "input2_BC1 = torch.cat((torch.zeros(input_time.size(0),1),input_time),-1).to(device)"
   ]
  },
  {
   "cell_type": "code",
   "execution_count": 82,
   "metadata": {},
   "outputs": [],
   "source": [
    "target_BC1 = torch.zeros(input_time.size(0))"
   ]
  },
  {
   "cell_type": "code",
   "execution_count": 83,
   "metadata": {},
   "outputs": [
    {
     "data": {
      "text/plain": [
       "torch.Size([3000, 2])"
      ]
     },
     "execution_count": 83,
     "metadata": {},
     "output_type": "execute_result"
    }
   ],
   "source": [
    "input2.size()"
   ]
  },
  {
   "cell_type": "code",
   "execution_count": null,
   "metadata": {},
   "outputs": [
    {
     "data": {
      "image/png": "[encoded data removed]",
      "text/plain": [
       "<Figure size 640x480 with 1 Axes>"
      ]
     },
     "metadata": {},
     "output_type": "display_data"
    }
   ],
   "source": [
    "plt.plot(loss_rec)#[1000:])\n",
    "plt.grid()"
   ]
  },
  {
   "cell_type": "code",
   "execution_count": 139,
   "metadata": {},
   "outputs": [],
   "source": [
    "# model(y,torch.tensor([0,0]))"
   ]
  }
 ],
 "metadata": {
  "kernelspec": {
   "display_name": "Khushi",
   "language": "python",
   "name": "python3"
  },
  "language_info": {
   "codemirror_mode": {
    "name": "ipython",
    "version": 3
   },
   "file_extension": ".py",
   "mimetype": "text/x-python",
   "name": "python",
   "nbconvert_exporter": "python",
   "pygments_lexer": "ipython3",
   "version": "3.12.3"
  }
 },
 "nbformat": 4,
 "nbformat_minor": 2
}
