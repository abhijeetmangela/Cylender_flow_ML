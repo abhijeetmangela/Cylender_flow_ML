{
 "cells": [
  {
   "cell_type": "code",
   "execution_count": 105,
   "metadata": {},
   "outputs": [
    {
     "data": {
      "text/plain": [
       "<torch._C.Generator at 0x1e422189c70>"
      ]
     },
     "execution_count": 105,
     "metadata": {},
     "output_type": "execute_result"
    }
   ],
   "source": [
    "import numpy as np\n",
    "import matplotlib.pyplot as plt\n",
    "import pandas as pd\n",
    "import torch\n",
    "from torch.utils.data import DataLoader,Dataset\n",
    "import torch.nn as nn\n",
    "import torch.nn.functional as F\n",
    "import math\n",
    "\n",
    "torch.manual_seed(0)"
   ]
  },
  {
   "cell_type": "code",
   "execution_count": 106,
   "metadata": {},
   "outputs": [],
   "source": [
    "device = torch.device('cuda' if torch.cuda.is_available() else 'cpu')\n",
    "mu = torch.tensor(0.01)"
   ]
  },
  {
   "cell_type": "code",
   "execution_count": 107,
   "metadata": {},
   "outputs": [],
   "source": [
    "class DeepONet(nn.Module):\n",
    "    def __init__(self):\n",
    "        super(DeepONet,self).__init__()\n",
    "        self.Branch_L1 = nn.Linear(201,100)\n",
    "        self.Branch_L2 = nn.Linear(100,100)\n",
    "        self.Branch_L3 = nn.Linear(100,100)\n",
    "        self.Branch_L4 = nn.Linear(100,100)\n",
    "        self.Branch_L5 = nn.Linear(100,100)\n",
    "        self.Branch_L6 = nn.Linear(100,100)\n",
    "        self.Branch_L7 = nn.Linear(100,100)\n",
    "\n",
    "        self.Trunk_L1 = nn.Linear(2,20)\n",
    "        self.Trunk_L2 = nn.Linear(20,20)\n",
    "        self.Trunk_L3 = nn.Linear(20,20)\n",
    "        self.Trunk_L4 = nn.Linear(20,20)\n",
    "        self.Trunk_L5 = nn.Linear(20,100)\n",
    "\n",
    "    def forward(self,y_0,x_loc_and_time):\n",
    "        # Branch\n",
    "        b = F.tanh(self.Branch_L1(y_0))\n",
    "        b = F.tanh(self.Branch_L2(b))\n",
    "        b = F.tanh(self.Branch_L3(b))\n",
    "        b = F.tanh(self.Branch_L4(b))\n",
    "        b = F.tanh(self.Branch_L5(b))\n",
    "        b = F.tanh(self.Branch_L6(b))\n",
    "        b = self.Branch_L7(b)\n",
    "\n",
    "        tr = F.tanh(self.Trunk_L1(x_loc_and_time))\n",
    "        tr = F.tanh(self.Trunk_L2(tr))\n",
    "        tr = F.tanh(self.Trunk_L3(tr))\n",
    "        tr = F.tanh(self.Trunk_L4(tr))\n",
    "        tr = self.Trunk_L5(tr)\n",
    "\n",
    "        #output = torch.matmul(b,tr.t()).sum(dim=0)\n",
    "        output = torch.sum(b * tr, dim=1)\n",
    "\n",
    "        return output\n",
    "    \n",
    "model = torch.load(\"model_burgers_1.pt\",weights_only=False)\n",
    "\n",
    "model = DeepONet().to(device)"
   ]
  },
  {
   "cell_type": "code",
   "execution_count": 108,
   "metadata": {},
   "outputs": [],
   "source": [
    "database = pd.read_csv('minus_sin_pix.csv',index_col=0).dropna().to_numpy(dtype='float32')"
   ]
  },
  {
   "cell_type": "code",
   "execution_count": 109,
   "metadata": {},
   "outputs": [
    {
     "data": {
      "text/plain": [
       "(201201, 204)"
      ]
     },
     "execution_count": 109,
     "metadata": {},
     "output_type": "execute_result"
    }
   ],
   "source": [
    "database.shape"
   ]
  },
  {
   "cell_type": "code",
   "execution_count": 110,
   "metadata": {},
   "outputs": [],
   "source": [
    "class Data(Dataset):\n",
    "    def __init__(self,transform=None):\n",
    "        self.initial_conditions = torch.from_numpy(database[:,0:201])#.requires_grad_(True)\n",
    "        self.x_location = torch.from_numpy(database[:,[201]])#.requires_grad_(True)\n",
    "        self.time_vale = torch.from_numpy(database[:,[202]]).requires_grad_(True)\n",
    "        self.true_y_value = torch.from_numpy(database[:,[203]])#.requires_grad_(True)\n",
    "        self.n_samples = database.shape[0]\n",
    "\n",
    "    def __getitem__(self, index):\n",
    "        return self.initial_conditions[index] , self.x_location[index] , self.time_vale[index] , self.true_y_value[index]\n",
    "    \n",
    "    def __len__(self):\n",
    "        return self.n_samples"
   ]
  },
  {
   "cell_type": "code",
   "execution_count": 111,
   "metadata": {},
   "outputs": [],
   "source": [
    "dataset_data = Data()"
   ]
  },
  {
   "cell_type": "code",
   "execution_count": 112,
   "metadata": {},
   "outputs": [
    {
     "data": {
      "text/plain": [
       "201201"
      ]
     },
     "execution_count": 112,
     "metadata": {},
     "output_type": "execute_result"
    }
   ],
   "source": [
    "dataset_data.__len__()"
   ]
  },
  {
   "cell_type": "code",
   "execution_count": 113,
   "metadata": {},
   "outputs": [],
   "source": [
    "y,_,_,_ = dataset_data.__getitem__(1)\n",
    "#plt.plot(y)\n",
    "#plt.grid()"
   ]
  },
  {
   "cell_type": "code",
   "execution_count": 114,
   "metadata": {},
   "outputs": [],
   "source": [
    "train_size = int(0.6*dataset_data.__len__())\n",
    "test_size = dataset_data.__len__() - train_size\n",
    "\n",
    "batch_size = 500\n",
    "\n",
    "Burger_train_data , Burger_test_data = torch.utils.data.random_split(Data(),[train_size,test_size])\n",
    "\n",
    "train_loader = DataLoader(dataset=Burger_train_data,batch_size=batch_size,shuffle=True)"
   ]
  },
  {
   "cell_type": "code",
   "execution_count": 115,
   "metadata": {},
   "outputs": [
    {
     "data": {
      "text/plain": [
       "120720"
      ]
     },
     "execution_count": 115,
     "metadata": {},
     "output_type": "execute_result"
    }
   ],
   "source": [
    "train_size"
   ]
  },
  {
   "cell_type": "code",
   "execution_count": 116,
   "metadata": {},
   "outputs": [],
   "source": [
    "data_iter = iter(train_loader)\n",
    "data = data_iter.__next__()\n",
    "Init_val , x_loc, time, y_value = data"
   ]
  },
  {
   "cell_type": "code",
   "execution_count": 117,
   "metadata": {},
   "outputs": [
    {
     "name": "stdout",
     "output_type": "stream",
     "text": [
      "242 1\n"
     ]
    }
   ],
   "source": [
    "num_epoch = 1\n",
    "total_samples = len(train_loader)\n",
    "n_iterations = math.ceil(total_samples/300)\n",
    "print(total_samples,n_iterations)\n",
    "learning_rate = 0.0000001\n",
    "\n",
    "criterion = nn.MSELoss()\n",
    "optimiser = torch.optim.Adam(model.parameters(), lr=0.00001)\n",
    "\n",
    "loss_rec = []"
   ]
  },
  {
   "cell_type": "code",
   "execution_count": 118,
   "metadata": {},
   "outputs": [],
   "source": [
    "def grad(outputs,inputs):\n",
    "    return torch.autograd.grad(outputs,inputs,grad_outputs=torch.ones_like(outputs),create_graph=True)"
   ]
  },
  {
   "cell_type": "code",
   "execution_count": 119,
   "metadata": {},
   "outputs": [],
   "source": [
    "x_locations_for_computation = torch.linspace(0,1,300,dtype=torch.float32).requires_grad_(True)\n",
    "\n",
    "def Physics_loss_Burgers(init_conditions,time_input_physics,x_locations):\n",
    "    total_temp = torch.tensor(0)\n",
    "    for j in range(len(time_input_physics)):\n",
    "        # Set up the input x locations as a range from 0 to 1\n",
    "        # x_locations = torch.linspace(0,1,300,dtype=torch.float32).requires_grad_(True)\n",
    "\n",
    "        # We will calculate gradients on every time given\n",
    "        time_input = time_input_physics[j]*torch.ones_like(x_locations,dtype=torch.float32)\n",
    "\n",
    "        # Taking the slice of the initial conditions associated with that time step. Can be used in future where not just sinx is taken.\n",
    "        input_1_physics = init_conditions[j,:].unsqueeze(0)\n",
    "        input2_physics = torch.cat((x_locations.unsqueeze(-1),time_input.unsqueeze(-1)),-1)\n",
    "\n",
    "        # Getting output \n",
    "        output_physics = model(input_1_physics.expand(len(input2_physics),-1),input2_physics)\n",
    "\n",
    "        # Getting required gradients\n",
    "        du_dt = grad(output_physics,time_input)[0]\n",
    "        du_dx = grad(output_physics,x_locations)[0]\n",
    "        du2_dx2 = grad(du_dx,x_locations)[0]\n",
    "\n",
    "        # Getting the physics loss and summing it up \n",
    "        temp = torch.mean(du_dt + output_physics*du_dx - mu*du2_dx2)\n",
    "        total_temp = total_temp + temp\n",
    "\n",
    "    return total_temp"
   ]
  },
  {
   "cell_type": "code",
   "execution_count": 120,
   "metadata": {},
   "outputs": [],
   "source": [
    "x_locations = torch.linspace(-1,1,300,dtype=torch.float32).requires_grad_(True)"
   ]
  },
  {
   "cell_type": "code",
   "execution_count": null,
   "metadata": {},
   "outputs": [
    {
     "name": "stdout",
     "output_type": "stream",
     "text": [
      "tensor([0.2000, 0.2000, 0.2000, 0.2000, 0.2000, 0.2000, 0.2000, 0.2000, 0.2000,\n",
      "        0.2000, 0.2000, 0.2000, 0.2000, 0.2000, 0.2000, 0.2000, 0.2000, 0.2000,\n",
      "        0.2000, 0.2000, 0.2000, 0.2000, 0.2000, 0.2000, 0.2000, 0.2000, 0.2000,\n",
      "        0.2000, 0.2000, 0.2000, 0.2000, 0.2000, 0.2000, 0.2000, 0.2000, 0.2000,\n",
      "        0.2000, 0.2000, 0.2000, 0.2000, 0.2000, 0.2000, 0.2000, 0.2000, 0.2000,\n",
      "        0.2000, 0.2000, 0.2000, 0.2000, 0.2000, 0.2000, 0.2000, 0.2000, 0.2000,\n",
      "        0.2000, 0.2000, 0.2000, 0.2000, 0.2000, 0.2000, 0.2000, 0.2000, 0.2000,\n",
      "        0.2000, 0.2000, 0.2000, 0.2000, 0.2000, 0.2000, 0.2000, 0.2000, 0.2000,\n",
      "        0.2000, 0.2000, 0.2000, 0.2000, 0.2000, 0.2000, 0.2000, 0.2000, 0.2000,\n",
      "        0.2000, 0.2000, 0.2000, 0.2000, 0.2000, 0.2000, 0.2000, 0.2000, 0.2000,\n",
      "        0.2000, 0.2000, 0.2000, 0.2000, 0.2000, 0.2000, 0.2000, 0.2000, 0.2000,\n",
      "        0.2000, 0.2000, 0.2000, 0.2000, 0.2000, 0.2000, 0.2000, 0.2000, 0.2000,\n",
      "        0.2000, 0.2000, 0.2000, 0.2000, 0.2000, 0.2000, 0.2000, 0.2000, 0.2000,\n",
      "        0.2000, 0.2000, 0.2000, 0.2000, 0.2000, 0.2000, 0.2000, 0.2000, 0.2000,\n",
      "        0.2000, 0.2000, 0.2000, 0.2000, 0.2000, 0.2000, 0.2000, 0.2000, 0.2000,\n",
      "        0.2000, 0.2000, 0.2000, 0.2000, 0.2000, 0.2000, 0.2000, 0.2000, 0.2000,\n",
      "        0.2000, 0.2000, 0.2000, 0.2000, 0.2000, 0.2000, 0.2000, 0.2000, 0.2000,\n",
      "        0.2000, 0.2000, 0.2000, 0.2000, 0.2000, 0.2000, 0.2000, 0.2000, 0.2000,\n",
      "        0.2000, 0.2000, 0.2000, 0.2000, 0.2000, 0.2000, 0.2000, 0.2000, 0.2000,\n",
      "        0.2000, 0.2000, 0.2000, 0.2000, 0.2000, 0.2000, 0.2000, 0.2000, 0.2000,\n",
      "        0.2000, 0.2000, 0.2000, 0.2000, 0.2000, 0.2000, 0.2000, 0.2000, 0.2000,\n",
      "        0.2000, 0.2000, 0.2000, 0.2000, 0.2000, 0.2000, 0.2000, 0.2000, 0.2000,\n",
      "        0.2000, 0.2000, 0.2000, 0.2000, 0.2000, 0.2000, 0.2000, 0.2000, 0.2000,\n",
      "        0.2000, 0.2000, 0.2000, 0.2000, 0.2000, 0.2000, 0.2000, 0.2000, 0.2000,\n",
      "        0.2000, 0.2000, 0.2000, 0.2000, 0.2000, 0.2000, 0.2000, 0.2000, 0.2000,\n",
      "        0.2000, 0.2000, 0.2000, 0.2000, 0.2000, 0.2000, 0.2000, 0.2000, 0.2000,\n",
      "        0.2000, 0.2000, 0.2000, 0.2000, 0.2000, 0.2000, 0.2000, 0.2000, 0.2000,\n",
      "        0.2000, 0.2000, 0.2000, 0.2000, 0.2000, 0.2000, 0.2000, 0.2000, 0.2000,\n",
      "        0.2000, 0.2000, 0.2000, 0.2000, 0.2000, 0.2000, 0.2000, 0.2000, 0.2000,\n",
      "        0.2000, 0.2000, 0.2000, 0.2000, 0.2000, 0.2000, 0.2000, 0.2000, 0.2000,\n",
      "        0.2000, 0.2000, 0.2000, 0.2000, 0.2000, 0.2000, 0.2000, 0.2000, 0.2000,\n",
      "        0.2000, 0.2000, 0.2000, 0.2000, 0.2000, 0.2000, 0.2000, 0.2000, 0.2000,\n",
      "        0.2000, 0.2000, 0.2000, 0.2000, 0.2000, 0.2000, 0.2000, 0.2000, 0.2000,\n",
      "        0.2000, 0.2000, 0.2000], grad_fn=<MulBackward0>)\n"
     ]
    }
   ],
   "source": [
    "time_input_physics = torch.tensor(0.2)\n",
    "time_input = time_input_physics*torch.ones_like(x_locations,dtype=torch.float32).requires_grad_(True)\n",
    "#print(time_input)"
   ]
  },
  {
   "cell_type": "code",
   "execution_count": null,
   "metadata": {},
   "outputs": [
    {
     "name": "stdout",
     "output_type": "stream",
     "text": [
      "tensor([[-1.0000,  0.2000],\n",
      "        [-0.9933,  0.2000],\n",
      "        [-0.9866,  0.2000],\n",
      "        [-0.9799,  0.2000],\n",
      "        [-0.9732,  0.2000],\n",
      "        [-0.9666,  0.2000],\n",
      "        [-0.9599,  0.2000],\n",
      "        [-0.9532,  0.2000],\n",
      "        [-0.9465,  0.2000],\n",
      "        [-0.9398,  0.2000],\n",
      "        [-0.9331,  0.2000],\n",
      "        [-0.9264,  0.2000],\n",
      "        [-0.9197,  0.2000],\n",
      "        [-0.9130,  0.2000],\n",
      "        [-0.9064,  0.2000],\n",
      "        [-0.8997,  0.2000],\n",
      "        [-0.8930,  0.2000],\n",
      "        [-0.8863,  0.2000],\n",
      "        [-0.8796,  0.2000],\n",
      "        [-0.8729,  0.2000],\n",
      "        [-0.8662,  0.2000],\n",
      "        [-0.8595,  0.2000],\n",
      "        [-0.8528,  0.2000],\n",
      "        [-0.8462,  0.2000],\n",
      "        [-0.8395,  0.2000],\n",
      "        [-0.8328,  0.2000],\n",
      "        [-0.8261,  0.2000],\n",
      "        [-0.8194,  0.2000],\n",
      "        [-0.8127,  0.2000],\n",
      "        [-0.8060,  0.2000],\n",
      "        [-0.7993,  0.2000],\n",
      "        [-0.7926,  0.2000],\n",
      "        [-0.7860,  0.2000],\n",
      "        [-0.7793,  0.2000],\n",
      "        [-0.7726,  0.2000],\n",
      "        [-0.7659,  0.2000],\n",
      "        [-0.7592,  0.2000],\n",
      "        [-0.7525,  0.2000],\n",
      "        [-0.7458,  0.2000],\n",
      "        [-0.7391,  0.2000],\n",
      "        [-0.7324,  0.2000],\n",
      "        [-0.7258,  0.2000],\n",
      "        [-0.7191,  0.2000],\n",
      "        [-0.7124,  0.2000],\n",
      "        [-0.7057,  0.2000],\n",
      "        [-0.6990,  0.2000],\n",
      "        [-0.6923,  0.2000],\n",
      "        [-0.6856,  0.2000],\n",
      "        [-0.6789,  0.2000],\n",
      "        [-0.6722,  0.2000],\n",
      "        [-0.6656,  0.2000],\n",
      "        [-0.6589,  0.2000],\n",
      "        [-0.6522,  0.2000],\n",
      "        [-0.6455,  0.2000],\n",
      "        [-0.6388,  0.2000],\n",
      "        [-0.6321,  0.2000],\n",
      "        [-0.6254,  0.2000],\n",
      "        [-0.6187,  0.2000],\n",
      "        [-0.6120,  0.2000],\n",
      "        [-0.6054,  0.2000],\n",
      "        [-0.5987,  0.2000],\n",
      "        [-0.5920,  0.2000],\n",
      "        [-0.5853,  0.2000],\n",
      "        [-0.5786,  0.2000],\n",
      "        [-0.5719,  0.2000],\n",
      "        [-0.5652,  0.2000],\n",
      "        [-0.5585,  0.2000],\n",
      "        [-0.5518,  0.2000],\n",
      "        [-0.5452,  0.2000],\n",
      "        [-0.5385,  0.2000],\n",
      "        [-0.5318,  0.2000],\n",
      "        [-0.5251,  0.2000],\n",
      "        [-0.5184,  0.2000],\n",
      "        [-0.5117,  0.2000],\n",
      "        [-0.5050,  0.2000],\n",
      "        [-0.4983,  0.2000],\n",
      "        [-0.4916,  0.2000],\n",
      "        [-0.4849,  0.2000],\n",
      "        [-0.4783,  0.2000],\n",
      "        [-0.4716,  0.2000],\n",
      "        [-0.4649,  0.2000],\n",
      "        [-0.4582,  0.2000],\n",
      "        [-0.4515,  0.2000],\n",
      "        [-0.4448,  0.2000],\n",
      "        [-0.4381,  0.2000],\n",
      "        [-0.4314,  0.2000],\n",
      "        [-0.4247,  0.2000],\n",
      "        [-0.4181,  0.2000],\n",
      "        [-0.4114,  0.2000],\n",
      "        [-0.4047,  0.2000],\n",
      "        [-0.3980,  0.2000],\n",
      "        [-0.3913,  0.2000],\n",
      "        [-0.3846,  0.2000],\n",
      "        [-0.3779,  0.2000],\n",
      "        [-0.3712,  0.2000],\n",
      "        [-0.3645,  0.2000],\n",
      "        [-0.3579,  0.2000],\n",
      "        [-0.3512,  0.2000],\n",
      "        [-0.3445,  0.2000],\n",
      "        [-0.3378,  0.2000],\n",
      "        [-0.3311,  0.2000],\n",
      "        [-0.3244,  0.2000],\n",
      "        [-0.3177,  0.2000],\n",
      "        [-0.3110,  0.2000],\n",
      "        [-0.3043,  0.2000],\n",
      "        [-0.2977,  0.2000],\n",
      "        [-0.2910,  0.2000],\n",
      "        [-0.2843,  0.2000],\n",
      "        [-0.2776,  0.2000],\n",
      "        [-0.2709,  0.2000],\n",
      "        [-0.2642,  0.2000],\n",
      "        [-0.2575,  0.2000],\n",
      "        [-0.2508,  0.2000],\n",
      "        [-0.2441,  0.2000],\n",
      "        [-0.2375,  0.2000],\n",
      "        [-0.2308,  0.2000],\n",
      "        [-0.2241,  0.2000],\n",
      "        [-0.2174,  0.2000],\n",
      "        [-0.2107,  0.2000],\n",
      "        [-0.2040,  0.2000],\n",
      "        [-0.1973,  0.2000],\n",
      "        [-0.1906,  0.2000],\n",
      "        [-0.1839,  0.2000],\n",
      "        [-0.1773,  0.2000],\n",
      "        [-0.1706,  0.2000],\n",
      "        [-0.1639,  0.2000],\n",
      "        [-0.1572,  0.2000],\n",
      "        [-0.1505,  0.2000],\n",
      "        [-0.1438,  0.2000],\n",
      "        [-0.1371,  0.2000],\n",
      "        [-0.1304,  0.2000],\n",
      "        [-0.1237,  0.2000],\n",
      "        [-0.1171,  0.2000],\n",
      "        [-0.1104,  0.2000],\n",
      "        [-0.1037,  0.2000],\n",
      "        [-0.0970,  0.2000],\n",
      "        [-0.0903,  0.2000],\n",
      "        [-0.0836,  0.2000],\n",
      "        [-0.0769,  0.2000],\n",
      "        [-0.0702,  0.2000],\n",
      "        [-0.0635,  0.2000],\n",
      "        [-0.0569,  0.2000],\n",
      "        [-0.0502,  0.2000],\n",
      "        [-0.0435,  0.2000],\n",
      "        [-0.0368,  0.2000],\n",
      "        [-0.0301,  0.2000],\n",
      "        [-0.0234,  0.2000],\n",
      "        [-0.0167,  0.2000],\n",
      "        [-0.0100,  0.2000],\n",
      "        [-0.0033,  0.2000],\n",
      "        [ 0.0033,  0.2000],\n",
      "        [ 0.0100,  0.2000],\n",
      "        [ 0.0167,  0.2000],\n",
      "        [ 0.0234,  0.2000],\n",
      "        [ 0.0301,  0.2000],\n",
      "        [ 0.0368,  0.2000],\n",
      "        [ 0.0435,  0.2000],\n",
      "        [ 0.0502,  0.2000],\n",
      "        [ 0.0569,  0.2000],\n",
      "        [ 0.0635,  0.2000],\n",
      "        [ 0.0702,  0.2000],\n",
      "        [ 0.0769,  0.2000],\n",
      "        [ 0.0836,  0.2000],\n",
      "        [ 0.0903,  0.2000],\n",
      "        [ 0.0970,  0.2000],\n",
      "        [ 0.1037,  0.2000],\n",
      "        [ 0.1104,  0.2000],\n",
      "        [ 0.1171,  0.2000],\n",
      "        [ 0.1237,  0.2000],\n",
      "        [ 0.1304,  0.2000],\n",
      "        [ 0.1371,  0.2000],\n",
      "        [ 0.1438,  0.2000],\n",
      "        [ 0.1505,  0.2000],\n",
      "        [ 0.1572,  0.2000],\n",
      "        [ 0.1639,  0.2000],\n",
      "        [ 0.1706,  0.2000],\n",
      "        [ 0.1773,  0.2000],\n",
      "        [ 0.1839,  0.2000],\n",
      "        [ 0.1906,  0.2000],\n",
      "        [ 0.1973,  0.2000],\n",
      "        [ 0.2040,  0.2000],\n",
      "        [ 0.2107,  0.2000],\n",
      "        [ 0.2174,  0.2000],\n",
      "        [ 0.2241,  0.2000],\n",
      "        [ 0.2308,  0.2000],\n",
      "        [ 0.2375,  0.2000],\n",
      "        [ 0.2441,  0.2000],\n",
      "        [ 0.2508,  0.2000],\n",
      "        [ 0.2575,  0.2000],\n",
      "        [ 0.2642,  0.2000],\n",
      "        [ 0.2709,  0.2000],\n",
      "        [ 0.2776,  0.2000],\n",
      "        [ 0.2843,  0.2000],\n",
      "        [ 0.2910,  0.2000],\n",
      "        [ 0.2977,  0.2000],\n",
      "        [ 0.3043,  0.2000],\n",
      "        [ 0.3110,  0.2000],\n",
      "        [ 0.3177,  0.2000],\n",
      "        [ 0.3244,  0.2000],\n",
      "        [ 0.3311,  0.2000],\n",
      "        [ 0.3378,  0.2000],\n",
      "        [ 0.3445,  0.2000],\n",
      "        [ 0.3512,  0.2000],\n",
      "        [ 0.3579,  0.2000],\n",
      "        [ 0.3645,  0.2000],\n",
      "        [ 0.3712,  0.2000],\n",
      "        [ 0.3779,  0.2000],\n",
      "        [ 0.3846,  0.2000],\n",
      "        [ 0.3913,  0.2000],\n",
      "        [ 0.3980,  0.2000],\n",
      "        [ 0.4047,  0.2000],\n",
      "        [ 0.4114,  0.2000],\n",
      "        [ 0.4181,  0.2000],\n",
      "        [ 0.4247,  0.2000],\n",
      "        [ 0.4314,  0.2000],\n",
      "        [ 0.4381,  0.2000],\n",
      "        [ 0.4448,  0.2000],\n",
      "        [ 0.4515,  0.2000],\n",
      "        [ 0.4582,  0.2000],\n",
      "        [ 0.4649,  0.2000],\n",
      "        [ 0.4716,  0.2000],\n",
      "        [ 0.4783,  0.2000],\n",
      "        [ 0.4849,  0.2000],\n",
      "        [ 0.4916,  0.2000],\n",
      "        [ 0.4983,  0.2000],\n",
      "        [ 0.5050,  0.2000],\n",
      "        [ 0.5117,  0.2000],\n",
      "        [ 0.5184,  0.2000],\n",
      "        [ 0.5251,  0.2000],\n",
      "        [ 0.5318,  0.2000],\n",
      "        [ 0.5385,  0.2000],\n",
      "        [ 0.5452,  0.2000],\n",
      "        [ 0.5518,  0.2000],\n",
      "        [ 0.5585,  0.2000],\n",
      "        [ 0.5652,  0.2000],\n",
      "        [ 0.5719,  0.2000],\n",
      "        [ 0.5786,  0.2000],\n",
      "        [ 0.5853,  0.2000],\n",
      "        [ 0.5920,  0.2000],\n",
      "        [ 0.5987,  0.2000],\n",
      "        [ 0.6054,  0.2000],\n",
      "        [ 0.6120,  0.2000],\n",
      "        [ 0.6187,  0.2000],\n",
      "        [ 0.6254,  0.2000],\n",
      "        [ 0.6321,  0.2000],\n",
      "        [ 0.6388,  0.2000],\n",
      "        [ 0.6455,  0.2000],\n",
      "        [ 0.6522,  0.2000],\n",
      "        [ 0.6589,  0.2000],\n",
      "        [ 0.6656,  0.2000],\n",
      "        [ 0.6722,  0.2000],\n",
      "        [ 0.6789,  0.2000],\n",
      "        [ 0.6856,  0.2000],\n",
      "        [ 0.6923,  0.2000],\n",
      "        [ 0.6990,  0.2000],\n",
      "        [ 0.7057,  0.2000],\n",
      "        [ 0.7124,  0.2000],\n",
      "        [ 0.7191,  0.2000],\n",
      "        [ 0.7258,  0.2000],\n",
      "        [ 0.7324,  0.2000],\n",
      "        [ 0.7391,  0.2000],\n",
      "        [ 0.7458,  0.2000],\n",
      "        [ 0.7525,  0.2000],\n",
      "        [ 0.7592,  0.2000],\n",
      "        [ 0.7659,  0.2000],\n",
      "        [ 0.7726,  0.2000],\n",
      "        [ 0.7793,  0.2000],\n",
      "        [ 0.7860,  0.2000],\n",
      "        [ 0.7926,  0.2000],\n",
      "        [ 0.7993,  0.2000],\n",
      "        [ 0.8060,  0.2000],\n",
      "        [ 0.8127,  0.2000],\n",
      "        [ 0.8194,  0.2000],\n",
      "        [ 0.8261,  0.2000],\n",
      "        [ 0.8328,  0.2000],\n",
      "        [ 0.8395,  0.2000],\n",
      "        [ 0.8462,  0.2000],\n",
      "        [ 0.8528,  0.2000],\n",
      "        [ 0.8595,  0.2000],\n",
      "        [ 0.8662,  0.2000],\n",
      "        [ 0.8729,  0.2000],\n",
      "        [ 0.8796,  0.2000],\n",
      "        [ 0.8863,  0.2000],\n",
      "        [ 0.8930,  0.2000],\n",
      "        [ 0.8997,  0.2000],\n",
      "        [ 0.9064,  0.2000],\n",
      "        [ 0.9130,  0.2000],\n",
      "        [ 0.9197,  0.2000],\n",
      "        [ 0.9264,  0.2000],\n",
      "        [ 0.9331,  0.2000],\n",
      "        [ 0.9398,  0.2000],\n",
      "        [ 0.9465,  0.2000],\n",
      "        [ 0.9532,  0.2000],\n",
      "        [ 0.9599,  0.2000],\n",
      "        [ 0.9666,  0.2000],\n",
      "        [ 0.9732,  0.2000],\n",
      "        [ 0.9799,  0.2000],\n",
      "        [ 0.9866,  0.2000],\n",
      "        [ 0.9933,  0.2000],\n",
      "        [ 1.0000,  0.2000]], grad_fn=<CatBackward0>)\n"
     ]
    }
   ],
   "source": [
    "x_locations = torch.linspace(-1,1,300,dtype=torch.float32).requires_grad_(True)\n",
    "input2_physics = torch.cat((x_locations.unsqueeze(-1),time_input.unsqueeze(-1)),-1)\n",
    "#print(input2_physics)"
   ]
  },
  {
   "cell_type": "code",
   "execution_count": 123,
   "metadata": {},
   "outputs": [],
   "source": [
    "#input_1_physics = input1[1,:].unsqueeze(0)\n",
    "#input_1_physics.shape"
   ]
  },
  {
   "cell_type": "code",
   "execution_count": 124,
   "metadata": {},
   "outputs": [],
   "source": [
    "#output_physics = model(input_1_physics,input2_physics)"
   ]
  },
  {
   "cell_type": "code",
   "execution_count": 125,
   "metadata": {},
   "outputs": [],
   "source": [
    "#du_dt = grad(output_physics,time_input)[0]\n",
    "#du_dx = grad(output_physics,x_locations)[0]\n",
    "#du2_dx2 = grad(du_dx,x_locations)[0]\n",
    "#loss_physics_burgers = torch.mean(du_dt + x_locations*du_dx - mu*du2_dx2)\n",
    "#loss_physics_burgers"
   ]
  },
  {
   "cell_type": "code",
   "execution_count": 126,
   "metadata": {},
   "outputs": [],
   "source": [
    "#input1[3]"
   ]
  },
  {
   "cell_type": "code",
   "execution_count": 127,
   "metadata": {},
   "outputs": [],
   "source": [
    "#Physics_loss_rec = Physics_loss(input1,input_time[3])\n",
    "#Physics_loss_rec"
   ]
  },
  {
   "cell_type": "code",
   "execution_count": 128,
   "metadata": {},
   "outputs": [
    {
     "name": "stdout",
     "output_type": "stream",
     "text": [
      "Epoch [1/1] , Step [10/242] , Loss: 0.3653331100940704 \n",
      "Epoch [1/1] , Step [20/242] , Loss: 0.3808799386024475 \n",
      "Epoch [1/1] , Step [30/242] , Loss: 0.3633895814418793 \n",
      "Epoch [1/1] , Step [40/242] , Loss: 0.3687243461608887 \n",
      "Epoch [1/1] , Step [50/242] , Loss: 0.3773783445358276 \n",
      "Epoch [1/1] , Step [60/242] , Loss: 0.3585875332355499 \n",
      "Epoch [1/1] , Step [70/242] , Loss: 0.3803734183311462 \n",
      "Epoch [1/1] , Step [80/242] , Loss: 0.3991723358631134 \n",
      "Epoch [1/1] , Step [90/242] , Loss: 0.3720284998416901 \n",
      "Epoch [1/1] , Step [100/242] , Loss: 0.3594934940338135 \n",
      "Epoch [1/1] , Step [110/242] , Loss: 0.3650168478488922 \n",
      "Epoch [1/1] , Step [120/242] , Loss: 0.3877500295639038 \n",
      "Epoch [1/1] , Step [130/242] , Loss: 0.3679295480251312 \n",
      "Epoch [1/1] , Step [140/242] , Loss: 0.3519925177097321 \n",
      "Epoch [1/1] , Step [150/242] , Loss: 0.3500667214393616 \n",
      "Epoch [1/1] , Step [160/242] , Loss: 0.3325053751468658 \n",
      "Epoch [1/1] , Step [170/242] , Loss: 0.3672405481338501 \n",
      "Epoch [1/1] , Step [180/242] , Loss: 0.3544786274433136 \n",
      "Epoch [1/1] , Step [190/242] , Loss: 0.3350794613361359 \n",
      "Epoch [1/1] , Step [200/242] , Loss: 0.3421644568443298 \n",
      "Epoch [1/1] , Step [210/242] , Loss: 0.3470143377780914 \n",
      "Epoch [1/1] , Step [220/242] , Loss: 0.3500050008296967 \n",
      "Epoch [1/1] , Step [230/242] , Loss: 0.3536172509193420 \n",
      "Epoch [1/1] , Step [240/242] , Loss: 0.3413422107696533 \n"
     ]
    }
   ],
   "source": [
    "model.train()\n",
    "\n",
    "for epoch in range(num_epoch):\n",
    "    for i , (input_init_conditions,input_x_loc,input_time,Actual_y) in enumerate(train_loader):\n",
    "        input1 = input_init_conditions\n",
    "        input1 = input1.to(device)\n",
    "\n",
    "        input2 = torch.cat((input_x_loc,input_time),-1)\n",
    "        input2 = input2.to(device)\n",
    "\n",
    "        Actual_y = Actual_y.to(device)\n",
    "        input_time.to(device)\n",
    "\n",
    "        Outputs = model(input1,input2)\n",
    "\n",
    "        #input2_BC1 = torch.cat((torch.zeros(input_time.size(0),1),input_time),-1).to(device)\n",
    "        #target_BC1 = torch.zeros(input_time.size(0),device=device)#.to(device)\n",
    "        #predicted_BC1 = model(input1,input2_BC1)\n",
    "        #loss_BC1 = torch.mean((predicted_BC1-target_BC1)**2)\n",
    "\n",
    "        #input2_BC2 = torch.cat((torch.ones(input_time.size(0),1),input_time),-1).to(device)\n",
    "        #target_BC2 = torch.zeros(input_time.size(0),device=device) #.to(device)\n",
    "        #predicted_BC2 = model(input1,input2_BC2)\n",
    "        #loss_BC2 = torch.mean((predicted_BC2-target_BC2)**2)\n",
    "\n",
    "        #Physics_loss = Physics_loss_Burgers(input1,input_time,x_locations_for_computation)\n",
    "        \n",
    "        loss = criterion(Outputs.unsqueeze(-1),Actual_y) # + (loss_BC1 + loss_BC2) + # 0.01*Physics_loss.abs()\n",
    "        \n",
    "        loss.backward()\n",
    "        optimiser.step()    \n",
    "        optimiser.zero_grad()\n",
    "        loss_rec.append(loss.item())\n",
    "\n",
    "        if (i+1) % 10 ==0:\n",
    "            print(f'Epoch [{epoch+1}/{num_epoch}] , Step [{i+1}/{total_samples}] , Loss: {loss.item():.16f} ')#, Physics loss : {Physics_loss.item():.16f}')\n",
    "            #y_locations_test = model(input1[1],input2_physics)\n",
    "            #plt.plot(x_locations.detach().numpy(),y_locations_test.detach().numpy())"
   ]
  },
  {
   "cell_type": "code",
   "execution_count": 129,
   "metadata": {},
   "outputs": [
    {
     "data": {
      "text/plain": [
       "torch.Size([220])"
      ]
     },
     "execution_count": 129,
     "metadata": {},
     "output_type": "execute_result"
    }
   ],
   "source": [
    "Outputs.size()"
   ]
  },
  {
   "cell_type": "code",
   "execution_count": 130,
   "metadata": {},
   "outputs": [],
   "source": [
    "torch.save(model,\"model_burgers_1.pt\")"
   ]
  },
  {
   "cell_type": "code",
   "execution_count": 131,
   "metadata": {},
   "outputs": [
    {
     "data": {
      "text/plain": [
       "tensor([[ 1.2246e-16,  3.1411e-02,  6.2791e-02,  ..., -6.2791e-02,\n",
       "         -3.1411e-02, -1.2246e-16],\n",
       "        [ 1.2246e-16,  3.1411e-02,  6.2791e-02,  ..., -6.2791e-02,\n",
       "         -3.1411e-02, -1.2246e-16],\n",
       "        [ 1.2246e-16,  3.1411e-02,  6.2791e-02,  ..., -6.2791e-02,\n",
       "         -3.1411e-02, -1.2246e-16],\n",
       "        ...,\n",
       "        [ 1.2246e-16,  3.1411e-02,  6.2791e-02,  ..., -6.2791e-02,\n",
       "         -3.1411e-02, -1.2246e-16],\n",
       "        [ 1.2246e-16,  3.1411e-02,  6.2791e-02,  ..., -6.2791e-02,\n",
       "         -3.1411e-02, -1.2246e-16],\n",
       "        [ 1.2246e-16,  3.1411e-02,  6.2791e-02,  ..., -6.2791e-02,\n",
       "         -3.1411e-02, -1.2246e-16]])"
      ]
     },
     "execution_count": 131,
     "metadata": {},
     "output_type": "execute_result"
    }
   ],
   "source": [
    "input1[1].expand(100,-1)"
   ]
  },
  {
   "cell_type": "code",
   "execution_count": 132,
   "metadata": {},
   "outputs": [],
   "source": [
    "time_input_physics = torch.tensor(0.3)\n",
    "time_input = time_input_physics*torch.ones_like(x_locations,dtype=torch.float32).requires_grad_(True)\n",
    "x_locations = torch.linspace(-1,1,300,dtype=torch.float32).requires_grad_(True)\n",
    "input2_physics = torch.cat((x_locations.unsqueeze(-1),time_input.unsqueeze(-1)),-1)\n",
    "#print(input2_physics)"
   ]
  },
  {
   "cell_type": "code",
   "execution_count": 133,
   "metadata": {},
   "outputs": [
    {
     "data": {
      "image/png": "[encoded data removed]",
      "text/plain": [
       "<Figure size 640x480 with 1 Axes>"
      ]
     },
     "metadata": {},
     "output_type": "display_data"
    }
   ],
   "source": [
    "y_locations_test = model(input1[1].expand(len(input2_physics),-1),input2_physics.to(device))\n",
    "plt.plot(x_locations.cpu().detach().numpy(),y_locations_test.cpu().detach().numpy()) \n",
    "plt.grid()       "
   ]
  },
  {
   "cell_type": "code",
   "execution_count": 134,
   "metadata": {},
   "outputs": [
    {
     "data": {
      "text/plain": [
       "220"
      ]
     },
     "execution_count": 134,
     "metadata": {},
     "output_type": "execute_result"
    }
   ],
   "source": [
    "input_time.size(0)"
   ]
  },
  {
   "cell_type": "code",
   "execution_count": 135,
   "metadata": {},
   "outputs": [],
   "source": [
    "input2_BC1 = torch.cat((torch.zeros(input_time.size(0),1),input_time),-1).to(device)"
   ]
  },
  {
   "cell_type": "code",
   "execution_count": 136,
   "metadata": {},
   "outputs": [],
   "source": [
    "target_BC1 = torch.zeros(input_time.size(0))"
   ]
  },
  {
   "cell_type": "code",
   "execution_count": 137,
   "metadata": {},
   "outputs": [
    {
     "data": {
      "text/plain": [
       "torch.Size([220, 2])"
      ]
     },
     "execution_count": 137,
     "metadata": {},
     "output_type": "execute_result"
    }
   ],
   "source": [
    "input2.size()"
   ]
  },
  {
   "cell_type": "code",
   "execution_count": 138,
   "metadata": {},
   "outputs": [
    {
     "data": {
      "image/png": "[encoded data removed]",
      "text/plain": [
       "<Figure size 640x480 with 1 Axes>"
      ]
     },
     "metadata": {},
     "output_type": "display_data"
    }
   ],
   "source": [
    "plt.plot(loss_rec)#[1000:])\n",
    "plt.grid()"
   ]
  },
  {
   "cell_type": "code",
   "execution_count": 139,
   "metadata": {},
   "outputs": [],
   "source": [
    "# model(y,torch.tensor([0,0]))"
   ]
  }
 ],
 "metadata": {
  "kernelspec": {
   "display_name": "abhi",
   "language": "python",
   "name": "python3"
  },
  "language_info": {
   "codemirror_mode": {
    "name": "ipython",
    "version": 3
   },
   "file_extension": ".py",
   "mimetype": "text/x-python",
   "name": "python",
   "nbconvert_exporter": "python",
   "pygments_lexer": "ipython3",
   "version": "3.12.2"
  }
 },
 "nbformat": 4,
 "nbformat_minor": 2
}
