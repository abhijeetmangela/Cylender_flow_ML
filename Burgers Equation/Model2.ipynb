{
 "cells": [
  {
   "cell_type": "code",
   "execution_count": 41,
   "metadata": {},
   "outputs": [
    {
     "data": {
      "text/plain": [
       "<torch._C.Generator at 0x18bb53e5930>"
      ]
     },
     "execution_count": 41,
     "metadata": {},
     "output_type": "execute_result"
    }
   ],
   "source": [
    "import numpy as np\n",
    "import matplotlib.pyplot as plt\n",
    "import pandas as pd\n",
    "import torch\n",
    "from torch.utils.data import DataLoader,Dataset\n",
    "import torch.nn as nn\n",
    "import torch.nn.functional as F\n",
    "import math\n",
    "\n",
    "torch.manual_seed(0)"
   ]
  },
  {
   "cell_type": "code",
   "execution_count": 42,
   "metadata": {},
   "outputs": [],
   "source": [
    "device = torch.device('cuda' if torch.cuda.is_available() else 'cpu')\n",
    "mu = torch.tensor(0.01)"
   ]
  },
  {
   "cell_type": "code",
   "execution_count": 43,
   "metadata": {},
   "outputs": [],
   "source": [
    "class DeepONet(nn.Module):\n",
    "    def __init__(self):\n",
    "        super(DeepONet,self).__init__()\n",
    "        self.Branch_L1 = nn.Linear(100,100)\n",
    "        self.Branch_L2 = nn.Linear(100,100)\n",
    "        self.Branch_L3 = nn.Linear(100,100)\n",
    "        self.Branch_L4 = nn.Linear(100,100)\n",
    "        self.Branch_L5 = nn.Linear(100,100)\n",
    "        self.Branch_L6 = nn.Linear(100,100)\n",
    "        self.Branch_L7 = nn.Linear(100,100)\n",
    "\n",
    "        self.Trunk_L1 = nn.Linear(2,20)\n",
    "        self.Trunk_L2 = nn.Linear(20,20)\n",
    "        self.Trunk_L3 = nn.Linear(20,20)\n",
    "        self.Trunk_L4 = nn.Linear(20,20)\n",
    "        self.Trunk_L5 = nn.Linear(20,100)\n",
    "\n",
    "    def forward(self,y_0,x_loc_and_time):\n",
    "        # Branch\n",
    "        b = F.tanh(self.Branch_L1(y_0))\n",
    "        b = F.tanh(self.Branch_L2(b))\n",
    "        b = F.tanh(self.Branch_L3(b))\n",
    "        b = F.tanh(self.Branch_L4(b))\n",
    "        b = F.tanh(self.Branch_L5(b))\n",
    "        b = F.tanh(self.Branch_L6(b))\n",
    "        b = self.Branch_L7(b)\n",
    "\n",
    "        tr = F.tanh(self.Trunk_L1(x_loc_and_time))\n",
    "        tr = F.tanh(self.Trunk_L2(tr))\n",
    "        tr = F.tanh(self.Trunk_L3(tr))\n",
    "        tr = F.tanh(self.Trunk_L4(tr))\n",
    "        tr = self.Trunk_L5(tr)\n",
    "\n",
    "        #output = torch.matmul(b,tr.t()).sum(dim=0)\n",
    "        output = torch.sum(b * tr, dim=1)\n",
    "\n",
    "        return output\n",
    "\n",
    "model = DeepONet().to(device)"
   ]
  },
  {
   "cell_type": "code",
   "execution_count": 44,
   "metadata": {},
   "outputs": [],
   "source": [
    "model = DeepONet().to(device)"
   ]
  },
  {
   "cell_type": "code",
   "execution_count": 45,
   "metadata": {},
   "outputs": [],
   "source": [
    "database = pd.read_csv('sin_pix.csv',index_col=0).dropna().to_numpy(dtype='float32')"
   ]
  },
  {
   "cell_type": "code",
   "execution_count": 46,
   "metadata": {},
   "outputs": [
    {
     "data": {
      "text/plain": [
       "(33000, 103)"
      ]
     },
     "execution_count": 46,
     "metadata": {},
     "output_type": "execute_result"
    }
   ],
   "source": [
    "database.shape"
   ]
  },
  {
   "cell_type": "code",
   "execution_count": 47,
   "metadata": {},
   "outputs": [],
   "source": [
    "class Data(Dataset):\n",
    "    def __init__(self,transform=None):\n",
    "        self.initial_conditions = torch.from_numpy(database[:,0:100])#.requires_grad_(True)\n",
    "        self.x_location = torch.from_numpy(database[:,[100]])#.requires_grad_(True)\n",
    "        self.time_vale = torch.from_numpy(database[:,[101]])#.requires_grad_(True)\n",
    "        self.true_y_value = torch.from_numpy(database[:,[102]])#.requires_grad_(True)\n",
    "        self.n_samples = database.shape[0]\n",
    "\n",
    "    def __getitem__(self, index):\n",
    "        return self.initial_conditions[index] , self.x_location[index] , self.time_vale[index] , self.true_y_value[index]\n",
    "    \n",
    "    def __len__(self):\n",
    "        return self.n_samples"
   ]
  },
  {
   "cell_type": "code",
   "execution_count": 48,
   "metadata": {},
   "outputs": [],
   "source": [
    "dataset_data = Data()"
   ]
  },
  {
   "cell_type": "code",
   "execution_count": 49,
   "metadata": {},
   "outputs": [
    {
     "data": {
      "text/plain": [
       "33000"
      ]
     },
     "execution_count": 49,
     "metadata": {},
     "output_type": "execute_result"
    }
   ],
   "source": [
    "dataset_data.__len__()"
   ]
  },
  {
   "cell_type": "code",
   "execution_count": 50,
   "metadata": {},
   "outputs": [],
   "source": [
    "y,_,_,_ = dataset_data.__getitem__(1)\n",
    "#plt.plot(y)\n",
    "#plt.grid()"
   ]
  },
  {
   "cell_type": "code",
   "execution_count": 51,
   "metadata": {},
   "outputs": [],
   "source": [
    "train_size = int(0.6*dataset_data.__len__())\n",
    "test_size = dataset_data.__len__() - train_size\n",
    "\n",
    "batch_size = 500\n",
    "\n",
    "Burger_train_data , Burger_test_data = torch.utils.data.random_split(Data(),[train_size,test_size])\n",
    "\n",
    "train_loader = DataLoader(dataset=Burger_train_data,batch_size=batch_size,shuffle=True)"
   ]
  },
  {
   "cell_type": "code",
   "execution_count": 52,
   "metadata": {},
   "outputs": [
    {
     "data": {
      "text/plain": [
       "19800"
      ]
     },
     "execution_count": 52,
     "metadata": {},
     "output_type": "execute_result"
    }
   ],
   "source": [
    "train_size"
   ]
  },
  {
   "cell_type": "code",
   "execution_count": 53,
   "metadata": {},
   "outputs": [],
   "source": [
    "data_iter = iter(train_loader)\n",
    "data = data_iter.__next__()\n",
    "Init_val , x_loc, time, y_value = data"
   ]
  },
  {
   "cell_type": "code",
   "execution_count": 54,
   "metadata": {},
   "outputs": [
    {
     "name": "stdout",
     "output_type": "stream",
     "text": [
      "40 1\n"
     ]
    }
   ],
   "source": [
    "num_epoch = 10\n",
    "total_samples = len(train_loader)\n",
    "n_iterations = math.ceil(total_samples/300)\n",
    "print(total_samples,n_iterations)\n",
    "learning_rate = 0.0000001\n",
    "\n",
    "criterion = nn.MSELoss()\n",
    "optimiser = torch.optim.Adam(model.parameters(), lr=0.00001)\n",
    "\n",
    "loss_rec = []"
   ]
  },
  {
   "cell_type": "code",
   "execution_count": 55,
   "metadata": {},
   "outputs": [],
   "source": [
    "def grad(outputs,inputs):\n",
    "    return torch.autograd.grad(outputs,inputs,grad_outputs=torch.ones_like(outputs),create_graph=True)"
   ]
  },
  {
   "cell_type": "code",
   "execution_count": 56,
   "metadata": {},
   "outputs": [],
   "source": [
    "def Physics_loss(init_conditions,time_input_physics):\n",
    "    for j in range(2):\n",
    "        x_locations = torch.linspace(0,1,300,dtype=torch.float32).requires_grad_(True)\n",
    "        time_input = time_input_physics*torch.ones_like(x_locations,dtype=torch.float32).requires_grad_(True)\n",
    "        input_1_physics = init_conditions.unsqueeze(0)\n",
    "        input2_physics = torch.cat((x_locations.unsqueeze(-1),time_input.unsqueeze(-1)),-1)\n",
    "        output_physics = model(input_1_physics,input2_physics)\n",
    "        du_dt = grad(output_physics,time_input)[0]\n",
    "        du_dx = grad(output_physics,x_locations)[0]\n",
    "        du2_dx2 = grad(du_dx,x_locations)[0]\n",
    "        return torch.mean(du_dt + output_physics*du_dx - mu*du2_dx2)"
   ]
  },
  {
   "cell_type": "code",
   "execution_count": 61,
   "metadata": {},
   "outputs": [
    {
     "data": {
      "text/plain": [
       "torch.Size([300, 100])"
      ]
     },
     "execution_count": 61,
     "metadata": {},
     "output_type": "execute_result"
    }
   ],
   "source": [
    "input1.shape"
   ]
  },
  {
   "cell_type": "code",
   "execution_count": 58,
   "metadata": {},
   "outputs": [
    {
     "ename": "NameError",
     "evalue": "name 'ini' is not defined",
     "output_type": "error",
     "traceback": [
      "\u001b[1;31m---------------------------------------------------------------------------\u001b[0m",
      "\u001b[1;31mNameError\u001b[0m                                 Traceback (most recent call last)",
      "Cell \u001b[1;32mIn[58], line 2\u001b[0m\n\u001b[0;32m      1\u001b[0m \u001b[38;5;66;03m#time_input\u001b[39;00m\n\u001b[1;32m----> 2\u001b[0m \u001b[38;5;28mlen\u001b[39m(\u001b[43mini\u001b[49m)\n",
      "\u001b[1;31mNameError\u001b[0m: name 'ini' is not defined"
     ]
    }
   ],
   "source": [
    "#time_input\n",
    "len(ini)"
   ]
  },
  {
   "cell_type": "code",
   "execution_count": 17,
   "metadata": {},
   "outputs": [],
   "source": [
    "x_locations = torch.linspace(0,1,300,dtype=torch.float32).requires_grad_(True)"
   ]
  },
  {
   "cell_type": "code",
   "execution_count": null,
   "metadata": {},
   "outputs": [
    {
     "name": "stdout",
     "output_type": "stream",
     "text": [
      "tensor([0.2000, 0.2000, 0.2000, 0.2000, 0.2000, 0.2000, 0.2000, 0.2000, 0.2000,\n",
      "        0.2000, 0.2000, 0.2000, 0.2000, 0.2000, 0.2000, 0.2000, 0.2000, 0.2000,\n",
      "        0.2000, 0.2000, 0.2000, 0.2000, 0.2000, 0.2000, 0.2000, 0.2000, 0.2000,\n",
      "        0.2000, 0.2000, 0.2000, 0.2000, 0.2000, 0.2000, 0.2000, 0.2000, 0.2000,\n",
      "        0.2000, 0.2000, 0.2000, 0.2000, 0.2000, 0.2000, 0.2000, 0.2000, 0.2000,\n",
      "        0.2000, 0.2000, 0.2000, 0.2000, 0.2000, 0.2000, 0.2000, 0.2000, 0.2000,\n",
      "        0.2000, 0.2000, 0.2000, 0.2000, 0.2000, 0.2000, 0.2000, 0.2000, 0.2000,\n",
      "        0.2000, 0.2000, 0.2000, 0.2000, 0.2000, 0.2000, 0.2000, 0.2000, 0.2000,\n",
      "        0.2000, 0.2000, 0.2000, 0.2000, 0.2000, 0.2000, 0.2000, 0.2000, 0.2000,\n",
      "        0.2000, 0.2000, 0.2000, 0.2000, 0.2000, 0.2000, 0.2000, 0.2000, 0.2000,\n",
      "        0.2000, 0.2000, 0.2000, 0.2000, 0.2000, 0.2000, 0.2000, 0.2000, 0.2000,\n",
      "        0.2000, 0.2000, 0.2000, 0.2000, 0.2000, 0.2000, 0.2000, 0.2000, 0.2000,\n",
      "        0.2000, 0.2000, 0.2000, 0.2000, 0.2000, 0.2000, 0.2000, 0.2000, 0.2000,\n",
      "        0.2000, 0.2000, 0.2000, 0.2000, 0.2000, 0.2000, 0.2000, 0.2000, 0.2000,\n",
      "        0.2000, 0.2000, 0.2000, 0.2000, 0.2000, 0.2000, 0.2000, 0.2000, 0.2000,\n",
      "        0.2000, 0.2000, 0.2000, 0.2000, 0.2000, 0.2000, 0.2000, 0.2000, 0.2000,\n",
      "        0.2000, 0.2000, 0.2000, 0.2000, 0.2000, 0.2000, 0.2000, 0.2000, 0.2000,\n",
      "        0.2000, 0.2000, 0.2000, 0.2000, 0.2000, 0.2000, 0.2000, 0.2000, 0.2000,\n",
      "        0.2000, 0.2000, 0.2000, 0.2000, 0.2000, 0.2000, 0.2000, 0.2000, 0.2000,\n",
      "        0.2000, 0.2000, 0.2000, 0.2000, 0.2000, 0.2000, 0.2000, 0.2000, 0.2000,\n",
      "        0.2000, 0.2000, 0.2000, 0.2000, 0.2000, 0.2000, 0.2000, 0.2000, 0.2000,\n",
      "        0.2000, 0.2000, 0.2000, 0.2000, 0.2000, 0.2000, 0.2000, 0.2000, 0.2000,\n",
      "        0.2000, 0.2000, 0.2000, 0.2000, 0.2000, 0.2000, 0.2000, 0.2000, 0.2000,\n",
      "        0.2000, 0.2000, 0.2000, 0.2000, 0.2000, 0.2000, 0.2000, 0.2000, 0.2000,\n",
      "        0.2000, 0.2000, 0.2000, 0.2000, 0.2000, 0.2000, 0.2000, 0.2000, 0.2000,\n",
      "        0.2000, 0.2000, 0.2000, 0.2000, 0.2000, 0.2000, 0.2000, 0.2000, 0.2000,\n",
      "        0.2000, 0.2000, 0.2000, 0.2000, 0.2000, 0.2000, 0.2000, 0.2000, 0.2000,\n",
      "        0.2000, 0.2000, 0.2000, 0.2000, 0.2000, 0.2000, 0.2000, 0.2000, 0.2000,\n",
      "        0.2000, 0.2000, 0.2000, 0.2000, 0.2000, 0.2000, 0.2000, 0.2000, 0.2000,\n",
      "        0.2000, 0.2000, 0.2000, 0.2000, 0.2000, 0.2000, 0.2000, 0.2000, 0.2000,\n",
      "        0.2000, 0.2000, 0.2000, 0.2000, 0.2000, 0.2000, 0.2000, 0.2000, 0.2000,\n",
      "        0.2000, 0.2000, 0.2000, 0.2000, 0.2000, 0.2000, 0.2000, 0.2000, 0.2000,\n",
      "        0.2000, 0.2000, 0.2000, 0.2000, 0.2000, 0.2000, 0.2000, 0.2000, 0.2000,\n",
      "        0.2000, 0.2000, 0.2000], grad_fn=<MulBackward0>)\n"
     ]
    }
   ],
   "source": [
    "time_input_physics = torch.tensor(0.2)\n",
    "time_input = time_input_physics*torch.ones_like(x_locations,dtype=torch.float32).requires_grad_(True)\n",
    "print(time_input)"
   ]
  },
  {
   "cell_type": "code",
   "execution_count": 19,
   "metadata": {},
   "outputs": [
    {
     "name": "stdout",
     "output_type": "stream",
     "text": [
      "tensor([[0.0000, 0.2000],\n",
      "        [0.0033, 0.2000],\n",
      "        [0.0067, 0.2000],\n",
      "        [0.0100, 0.2000],\n",
      "        [0.0134, 0.2000],\n",
      "        [0.0167, 0.2000],\n",
      "        [0.0201, 0.2000],\n",
      "        [0.0234, 0.2000],\n",
      "        [0.0268, 0.2000],\n",
      "        [0.0301, 0.2000],\n",
      "        [0.0334, 0.2000],\n",
      "        [0.0368, 0.2000],\n",
      "        [0.0401, 0.2000],\n",
      "        [0.0435, 0.2000],\n",
      "        [0.0468, 0.2000],\n",
      "        [0.0502, 0.2000],\n",
      "        [0.0535, 0.2000],\n",
      "        [0.0569, 0.2000],\n",
      "        [0.0602, 0.2000],\n",
      "        [0.0635, 0.2000],\n",
      "        [0.0669, 0.2000],\n",
      "        [0.0702, 0.2000],\n",
      "        [0.0736, 0.2000],\n",
      "        [0.0769, 0.2000],\n",
      "        [0.0803, 0.2000],\n",
      "        [0.0836, 0.2000],\n",
      "        [0.0870, 0.2000],\n",
      "        [0.0903, 0.2000],\n",
      "        [0.0936, 0.2000],\n",
      "        [0.0970, 0.2000],\n",
      "        [0.1003, 0.2000],\n",
      "        [0.1037, 0.2000],\n",
      "        [0.1070, 0.2000],\n",
      "        [0.1104, 0.2000],\n",
      "        [0.1137, 0.2000],\n",
      "        [0.1171, 0.2000],\n",
      "        [0.1204, 0.2000],\n",
      "        [0.1237, 0.2000],\n",
      "        [0.1271, 0.2000],\n",
      "        [0.1304, 0.2000],\n",
      "        [0.1338, 0.2000],\n",
      "        [0.1371, 0.2000],\n",
      "        [0.1405, 0.2000],\n",
      "        [0.1438, 0.2000],\n",
      "        [0.1472, 0.2000],\n",
      "        [0.1505, 0.2000],\n",
      "        [0.1538, 0.2000],\n",
      "        [0.1572, 0.2000],\n",
      "        [0.1605, 0.2000],\n",
      "        [0.1639, 0.2000],\n",
      "        [0.1672, 0.2000],\n",
      "        [0.1706, 0.2000],\n",
      "        [0.1739, 0.2000],\n",
      "        [0.1773, 0.2000],\n",
      "        [0.1806, 0.2000],\n",
      "        [0.1839, 0.2000],\n",
      "        [0.1873, 0.2000],\n",
      "        [0.1906, 0.2000],\n",
      "        [0.1940, 0.2000],\n",
      "        [0.1973, 0.2000],\n",
      "        [0.2007, 0.2000],\n",
      "        [0.2040, 0.2000],\n",
      "        [0.2074, 0.2000],\n",
      "        [0.2107, 0.2000],\n",
      "        [0.2140, 0.2000],\n",
      "        [0.2174, 0.2000],\n",
      "        [0.2207, 0.2000],\n",
      "        [0.2241, 0.2000],\n",
      "        [0.2274, 0.2000],\n",
      "        [0.2308, 0.2000],\n",
      "        [0.2341, 0.2000],\n",
      "        [0.2375, 0.2000],\n",
      "        [0.2408, 0.2000],\n",
      "        [0.2441, 0.2000],\n",
      "        [0.2475, 0.2000],\n",
      "        [0.2508, 0.2000],\n",
      "        [0.2542, 0.2000],\n",
      "        [0.2575, 0.2000],\n",
      "        [0.2609, 0.2000],\n",
      "        [0.2642, 0.2000],\n",
      "        [0.2676, 0.2000],\n",
      "        [0.2709, 0.2000],\n",
      "        [0.2742, 0.2000],\n",
      "        [0.2776, 0.2000],\n",
      "        [0.2809, 0.2000],\n",
      "        [0.2843, 0.2000],\n",
      "        [0.2876, 0.2000],\n",
      "        [0.2910, 0.2000],\n",
      "        [0.2943, 0.2000],\n",
      "        [0.2977, 0.2000],\n",
      "        [0.3010, 0.2000],\n",
      "        [0.3043, 0.2000],\n",
      "        [0.3077, 0.2000],\n",
      "        [0.3110, 0.2000],\n",
      "        [0.3144, 0.2000],\n",
      "        [0.3177, 0.2000],\n",
      "        [0.3211, 0.2000],\n",
      "        [0.3244, 0.2000],\n",
      "        [0.3278, 0.2000],\n",
      "        [0.3311, 0.2000],\n",
      "        [0.3344, 0.2000],\n",
      "        [0.3378, 0.2000],\n",
      "        [0.3411, 0.2000],\n",
      "        [0.3445, 0.2000],\n",
      "        [0.3478, 0.2000],\n",
      "        [0.3512, 0.2000],\n",
      "        [0.3545, 0.2000],\n",
      "        [0.3579, 0.2000],\n",
      "        [0.3612, 0.2000],\n",
      "        [0.3645, 0.2000],\n",
      "        [0.3679, 0.2000],\n",
      "        [0.3712, 0.2000],\n",
      "        [0.3746, 0.2000],\n",
      "        [0.3779, 0.2000],\n",
      "        [0.3813, 0.2000],\n",
      "        [0.3846, 0.2000],\n",
      "        [0.3880, 0.2000],\n",
      "        [0.3913, 0.2000],\n",
      "        [0.3946, 0.2000],\n",
      "        [0.3980, 0.2000],\n",
      "        [0.4013, 0.2000],\n",
      "        [0.4047, 0.2000],\n",
      "        [0.4080, 0.2000],\n",
      "        [0.4114, 0.2000],\n",
      "        [0.4147, 0.2000],\n",
      "        [0.4181, 0.2000],\n",
      "        [0.4214, 0.2000],\n",
      "        [0.4247, 0.2000],\n",
      "        [0.4281, 0.2000],\n",
      "        [0.4314, 0.2000],\n",
      "        [0.4348, 0.2000],\n",
      "        [0.4381, 0.2000],\n",
      "        [0.4415, 0.2000],\n",
      "        [0.4448, 0.2000],\n",
      "        [0.4482, 0.2000],\n",
      "        [0.4515, 0.2000],\n",
      "        [0.4548, 0.2000],\n",
      "        [0.4582, 0.2000],\n",
      "        [0.4615, 0.2000],\n",
      "        [0.4649, 0.2000],\n",
      "        [0.4682, 0.2000],\n",
      "        [0.4716, 0.2000],\n",
      "        [0.4749, 0.2000],\n",
      "        [0.4783, 0.2000],\n",
      "        [0.4816, 0.2000],\n",
      "        [0.4849, 0.2000],\n",
      "        [0.4883, 0.2000],\n",
      "        [0.4916, 0.2000],\n",
      "        [0.4950, 0.2000],\n",
      "        [0.4983, 0.2000],\n",
      "        [0.5017, 0.2000],\n",
      "        [0.5050, 0.2000],\n",
      "        [0.5084, 0.2000],\n",
      "        [0.5117, 0.2000],\n",
      "        [0.5151, 0.2000],\n",
      "        [0.5184, 0.2000],\n",
      "        [0.5217, 0.2000],\n",
      "        [0.5251, 0.2000],\n",
      "        [0.5284, 0.2000],\n",
      "        [0.5318, 0.2000],\n",
      "        [0.5351, 0.2000],\n",
      "        [0.5385, 0.2000],\n",
      "        [0.5418, 0.2000],\n",
      "        [0.5452, 0.2000],\n",
      "        [0.5485, 0.2000],\n",
      "        [0.5518, 0.2000],\n",
      "        [0.5552, 0.2000],\n",
      "        [0.5585, 0.2000],\n",
      "        [0.5619, 0.2000],\n",
      "        [0.5652, 0.2000],\n",
      "        [0.5686, 0.2000],\n",
      "        [0.5719, 0.2000],\n",
      "        [0.5753, 0.2000],\n",
      "        [0.5786, 0.2000],\n",
      "        [0.5819, 0.2000],\n",
      "        [0.5853, 0.2000],\n",
      "        [0.5886, 0.2000],\n",
      "        [0.5920, 0.2000],\n",
      "        [0.5953, 0.2000],\n",
      "        [0.5987, 0.2000],\n",
      "        [0.6020, 0.2000],\n",
      "        [0.6054, 0.2000],\n",
      "        [0.6087, 0.2000],\n",
      "        [0.6120, 0.2000],\n",
      "        [0.6154, 0.2000],\n",
      "        [0.6187, 0.2000],\n",
      "        [0.6221, 0.2000],\n",
      "        [0.6254, 0.2000],\n",
      "        [0.6288, 0.2000],\n",
      "        [0.6321, 0.2000],\n",
      "        [0.6355, 0.2000],\n",
      "        [0.6388, 0.2000],\n",
      "        [0.6421, 0.2000],\n",
      "        [0.6455, 0.2000],\n",
      "        [0.6488, 0.2000],\n",
      "        [0.6522, 0.2000],\n",
      "        [0.6555, 0.2000],\n",
      "        [0.6589, 0.2000],\n",
      "        [0.6622, 0.2000],\n",
      "        [0.6656, 0.2000],\n",
      "        [0.6689, 0.2000],\n",
      "        [0.6722, 0.2000],\n",
      "        [0.6756, 0.2000],\n",
      "        [0.6789, 0.2000],\n",
      "        [0.6823, 0.2000],\n",
      "        [0.6856, 0.2000],\n",
      "        [0.6890, 0.2000],\n",
      "        [0.6923, 0.2000],\n",
      "        [0.6957, 0.2000],\n",
      "        [0.6990, 0.2000],\n",
      "        [0.7023, 0.2000],\n",
      "        [0.7057, 0.2000],\n",
      "        [0.7090, 0.2000],\n",
      "        [0.7124, 0.2000],\n",
      "        [0.7157, 0.2000],\n",
      "        [0.7191, 0.2000],\n",
      "        [0.7224, 0.2000],\n",
      "        [0.7258, 0.2000],\n",
      "        [0.7291, 0.2000],\n",
      "        [0.7324, 0.2000],\n",
      "        [0.7358, 0.2000],\n",
      "        [0.7391, 0.2000],\n",
      "        [0.7425, 0.2000],\n",
      "        [0.7458, 0.2000],\n",
      "        [0.7492, 0.2000],\n",
      "        [0.7525, 0.2000],\n",
      "        [0.7559, 0.2000],\n",
      "        [0.7592, 0.2000],\n",
      "        [0.7625, 0.2000],\n",
      "        [0.7659, 0.2000],\n",
      "        [0.7692, 0.2000],\n",
      "        [0.7726, 0.2000],\n",
      "        [0.7759, 0.2000],\n",
      "        [0.7793, 0.2000],\n",
      "        [0.7826, 0.2000],\n",
      "        [0.7860, 0.2000],\n",
      "        [0.7893, 0.2000],\n",
      "        [0.7926, 0.2000],\n",
      "        [0.7960, 0.2000],\n",
      "        [0.7993, 0.2000],\n",
      "        [0.8027, 0.2000],\n",
      "        [0.8060, 0.2000],\n",
      "        [0.8094, 0.2000],\n",
      "        [0.8127, 0.2000],\n",
      "        [0.8161, 0.2000],\n",
      "        [0.8194, 0.2000],\n",
      "        [0.8227, 0.2000],\n",
      "        [0.8261, 0.2000],\n",
      "        [0.8294, 0.2000],\n",
      "        [0.8328, 0.2000],\n",
      "        [0.8361, 0.2000],\n",
      "        [0.8395, 0.2000],\n",
      "        [0.8428, 0.2000],\n",
      "        [0.8462, 0.2000],\n",
      "        [0.8495, 0.2000],\n",
      "        [0.8528, 0.2000],\n",
      "        [0.8562, 0.2000],\n",
      "        [0.8595, 0.2000],\n",
      "        [0.8629, 0.2000],\n",
      "        [0.8662, 0.2000],\n",
      "        [0.8696, 0.2000],\n",
      "        [0.8729, 0.2000],\n",
      "        [0.8763, 0.2000],\n",
      "        [0.8796, 0.2000],\n",
      "        [0.8829, 0.2000],\n",
      "        [0.8863, 0.2000],\n",
      "        [0.8896, 0.2000],\n",
      "        [0.8930, 0.2000],\n",
      "        [0.8963, 0.2000],\n",
      "        [0.8997, 0.2000],\n",
      "        [0.9030, 0.2000],\n",
      "        [0.9064, 0.2000],\n",
      "        [0.9097, 0.2000],\n",
      "        [0.9130, 0.2000],\n",
      "        [0.9164, 0.2000],\n",
      "        [0.9197, 0.2000],\n",
      "        [0.9231, 0.2000],\n",
      "        [0.9264, 0.2000],\n",
      "        [0.9298, 0.2000],\n",
      "        [0.9331, 0.2000],\n",
      "        [0.9365, 0.2000],\n",
      "        [0.9398, 0.2000],\n",
      "        [0.9431, 0.2000],\n",
      "        [0.9465, 0.2000],\n",
      "        [0.9498, 0.2000],\n",
      "        [0.9532, 0.2000],\n",
      "        [0.9565, 0.2000],\n",
      "        [0.9599, 0.2000],\n",
      "        [0.9632, 0.2000],\n",
      "        [0.9666, 0.2000],\n",
      "        [0.9699, 0.2000],\n",
      "        [0.9732, 0.2000],\n",
      "        [0.9766, 0.2000],\n",
      "        [0.9799, 0.2000],\n",
      "        [0.9833, 0.2000],\n",
      "        [0.9866, 0.2000],\n",
      "        [0.9900, 0.2000],\n",
      "        [0.9933, 0.2000],\n",
      "        [0.9967, 0.2000],\n",
      "        [1.0000, 0.2000]], grad_fn=<CatBackward0>)\n"
     ]
    }
   ],
   "source": [
    "input2_physics = torch.cat((x_locations.unsqueeze(-1),time_input.unsqueeze(-1)),-1)\n",
    "print(input2_physics)"
   ]
  },
  {
   "cell_type": "code",
   "execution_count": 20,
   "metadata": {},
   "outputs": [],
   "source": [
    "#input_1_physics = input1[1,:].unsqueeze(0)\n",
    "#input_1_physics.shape"
   ]
  },
  {
   "cell_type": "code",
   "execution_count": 21,
   "metadata": {},
   "outputs": [],
   "source": [
    "#output_physics = model(input_1_physics,input2_physics)"
   ]
  },
  {
   "cell_type": "code",
   "execution_count": 22,
   "metadata": {},
   "outputs": [],
   "source": [
    "#du_dt = grad(output_physics,time_input)[0]\n",
    "#du_dx = grad(output_physics,x_locations)[0]\n",
    "#du2_dx2 = grad(du_dx,x_locations)[0]\n",
    "#loss_physics_burgers = torch.mean(du_dt + x_locations*du_dx - mu*du2_dx2)\n",
    "#loss_physics_burgers"
   ]
  },
  {
   "cell_type": "code",
   "execution_count": 23,
   "metadata": {},
   "outputs": [],
   "source": [
    "#input1[3]"
   ]
  },
  {
   "cell_type": "code",
   "execution_count": 24,
   "metadata": {},
   "outputs": [],
   "source": [
    "#Physics_loss_rec = Physics_loss(input1,input_time[3])\n",
    "#Physics_loss_rec"
   ]
  },
  {
   "cell_type": "code",
   "execution_count": 60,
   "metadata": {},
   "outputs": [
    {
     "name": "stdout",
     "output_type": "stream",
     "text": [
      "Epoch [1/10] , Step [10/40] , Loss: 56.5995750427246094\n",
      "Epoch [1/10] , Step [20/40] , Loss: 38.4516448974609375\n",
      "Epoch [1/10] , Step [30/40] , Loss: 24.6632976531982422\n",
      "Epoch [1/10] , Step [40/40] , Loss: 14.8686017990112305\n",
      "Epoch [2/10] , Step [10/40] , Loss: 8.4469461441040039\n",
      "Epoch [2/10] , Step [20/40] , Loss: 4.6344504356384277\n",
      "Epoch [2/10] , Step [30/40] , Loss: 2.6424474716186523\n",
      "Epoch [2/10] , Step [40/40] , Loss: 1.7520772218704224\n",
      "Epoch [3/10] , Step [10/40] , Loss: 1.4442027807235718\n",
      "Epoch [3/10] , Step [20/40] , Loss: 1.3289880752563477\n",
      "Epoch [3/10] , Step [30/40] , Loss: 1.2765827178955078\n",
      "Epoch [3/10] , Step [40/40] , Loss: 1.2403538227081299\n",
      "Epoch [4/10] , Step [10/40] , Loss: 1.2312412261962891\n",
      "Epoch [4/10] , Step [20/40] , Loss: 1.1999139785766602\n",
      "Epoch [4/10] , Step [30/40] , Loss: 1.1652847528457642\n",
      "Epoch [4/10] , Step [40/40] , Loss: 1.1314849853515625\n",
      "Epoch [5/10] , Step [10/40] , Loss: 1.0968024730682373\n",
      "Epoch [5/10] , Step [20/40] , Loss: 1.0495257377624512\n",
      "Epoch [5/10] , Step [30/40] , Loss: 1.0460439920425415\n",
      "Epoch [5/10] , Step [40/40] , Loss: 1.0284531116485596\n",
      "Epoch [6/10] , Step [10/40] , Loss: 1.0141268968582153\n",
      "Epoch [6/10] , Step [20/40] , Loss: 0.9355283975601196\n",
      "Epoch [6/10] , Step [30/40] , Loss: 0.9644771218299866\n",
      "Epoch [6/10] , Step [40/40] , Loss: 0.8732950687408447\n",
      "Epoch [7/10] , Step [10/40] , Loss: 0.8801739215850830\n",
      "Epoch [7/10] , Step [20/40] , Loss: 0.8841460943222046\n",
      "Epoch [7/10] , Step [30/40] , Loss: 0.8516273498535156\n",
      "Epoch [7/10] , Step [40/40] , Loss: 0.7976799011230469\n",
      "Epoch [8/10] , Step [10/40] , Loss: 0.8055675625801086\n",
      "Epoch [8/10] , Step [20/40] , Loss: 0.7749509811401367\n",
      "Epoch [8/10] , Step [30/40] , Loss: 0.7905685901641846\n",
      "Epoch [8/10] , Step [40/40] , Loss: 0.7824102640151978\n",
      "Epoch [9/10] , Step [10/40] , Loss: 0.7465020418167114\n",
      "Epoch [9/10] , Step [20/40] , Loss: 0.7099557518959045\n",
      "Epoch [9/10] , Step [30/40] , Loss: 0.7026261091232300\n",
      "Epoch [9/10] , Step [40/40] , Loss: 0.7052236199378967\n",
      "Epoch [10/10] , Step [10/40] , Loss: 0.6857438087463379\n",
      "Epoch [10/10] , Step [20/40] , Loss: 0.6974358558654785\n",
      "Epoch [10/10] , Step [30/40] , Loss: 0.6718219518661499\n",
      "Epoch [10/10] , Step [40/40] , Loss: 0.6421056985855103\n"
     ]
    }
   ],
   "source": [
    "model.train()\n",
    "\n",
    "for epoch in range(num_epoch):\n",
    "    for i , (input_init_conditions,input_x_loc,input_time,Actual_y) in enumerate(train_loader):\n",
    "        input1 = input_init_conditions\n",
    "        input1 = input1.to(device)\n",
    "\n",
    "        input2 = torch.cat((input_x_loc,input_time),-1)\n",
    "        input2 = input2.to(device)\n",
    "\n",
    "        Actual_y = Actual_y.to(device)\n",
    "\n",
    "        Outputs = model(input1,input2)\n",
    "\n",
    "        input2_BC1 = torch.cat((torch.zeros(input_time.size(0),1),input_time),-1).to(device)\n",
    "        target_BC1 = torch.zeros(input_time.size(0),device=device)#.to(device)\n",
    "        predicted_BC1 = model(input1,input2_BC1)\n",
    "        loss_BC1 = torch.mean((predicted_BC1-target_BC1)**2)\n",
    "\n",
    "        input2_BC2 = torch.cat((torch.ones(input_time.size(0),1),input_time),-1).to(device)\n",
    "        target_BC2 = torch.zeros(input_time.size(0),device=device) #.to(device)\n",
    "        predicted_BC2 = model(input1,input2_BC2)\n",
    "        loss_BC2 = torch.mean((predicted_BC2-target_BC2)**2)\n",
    "\n",
    "        #Physics_loss = \n",
    "\n",
    "        #Physics_loss = torch.mean()\n",
    "        \n",
    "        loss = criterion(Outputs.unsqueeze(-1),Actual_y)  + 1000*(loss_BC1 + loss_BC2)\n",
    "        \n",
    "        loss.backward()\n",
    "        optimiser.step()    \n",
    "        optimiser.zero_grad()\n",
    "        loss_rec.append(loss.item())\n",
    "\n",
    "        if (i+1) % 10 ==0:\n",
    "            print(f'Epoch [{epoch+1}/{num_epoch}] , Step [{i+1}/{total_samples}] , Loss: {loss.item():.16f}')\n",
    "            #y_locations_test = model(input1[1],input2_physics)\n",
    "            #plt.plot(x_locations.detach().numpy(),y_locations_test.detach().numpy())"
   ]
  },
  {
   "cell_type": "code",
   "execution_count": 26,
   "metadata": {},
   "outputs": [
    {
     "data": {
      "text/plain": [
       "torch.Size([100])"
      ]
     },
     "execution_count": 26,
     "metadata": {},
     "output_type": "execute_result"
    }
   ],
   "source": [
    "Outputs.size()"
   ]
  },
  {
   "cell_type": "code",
   "execution_count": 27,
   "metadata": {},
   "outputs": [],
   "source": [
    "y_locations_test = model(input1[1],input2_physics)"
   ]
  },
  {
   "cell_type": "code",
   "execution_count": 28,
   "metadata": {},
   "outputs": [
    {
     "data": {
      "text/plain": [
       "[<matplotlib.lines.Line2D at 0x18bbc799d60>]"
      ]
     },
     "execution_count": 28,
     "metadata": {},
     "output_type": "execute_result"
    },
    {
     "data": {
      "image/png": "[encoded data removed]",
      "text/plain": [
       "<Figure size 640x480 with 1 Axes>"
      ]
     },
     "metadata": {},
     "output_type": "display_data"
    }
   ],
   "source": [
    "plt.plot(x_locations.detach().numpy(),y_locations_test.detach().numpy())"
   ]
  },
  {
   "cell_type": "code",
   "execution_count": 29,
   "metadata": {},
   "outputs": [
    {
     "data": {
      "text/plain": [
       "tensor([[1.],\n",
       "        [1.],\n",
       "        [1.],\n",
       "        [1.],\n",
       "        [1.],\n",
       "        [1.],\n",
       "        [1.],\n",
       "        [1.],\n",
       "        [1.],\n",
       "        [1.],\n",
       "        [1.],\n",
       "        [1.],\n",
       "        [1.],\n",
       "        [1.],\n",
       "        [1.],\n",
       "        [1.],\n",
       "        [1.],\n",
       "        [1.],\n",
       "        [1.],\n",
       "        [1.],\n",
       "        [1.],\n",
       "        [1.],\n",
       "        [1.],\n",
       "        [1.],\n",
       "        [1.],\n",
       "        [1.],\n",
       "        [1.],\n",
       "        [1.],\n",
       "        [1.],\n",
       "        [1.],\n",
       "        [1.],\n",
       "        [1.],\n",
       "        [1.],\n",
       "        [1.],\n",
       "        [1.],\n",
       "        [1.],\n",
       "        [1.],\n",
       "        [1.],\n",
       "        [1.],\n",
       "        [1.],\n",
       "        [1.],\n",
       "        [1.],\n",
       "        [1.],\n",
       "        [1.],\n",
       "        [1.],\n",
       "        [1.],\n",
       "        [1.],\n",
       "        [1.],\n",
       "        [1.],\n",
       "        [1.],\n",
       "        [1.],\n",
       "        [1.],\n",
       "        [1.],\n",
       "        [1.],\n",
       "        [1.],\n",
       "        [1.],\n",
       "        [1.],\n",
       "        [1.],\n",
       "        [1.],\n",
       "        [1.],\n",
       "        [1.],\n",
       "        [1.],\n",
       "        [1.],\n",
       "        [1.],\n",
       "        [1.],\n",
       "        [1.],\n",
       "        [1.],\n",
       "        [1.],\n",
       "        [1.],\n",
       "        [1.],\n",
       "        [1.],\n",
       "        [1.],\n",
       "        [1.],\n",
       "        [1.],\n",
       "        [1.],\n",
       "        [1.],\n",
       "        [1.],\n",
       "        [1.],\n",
       "        [1.],\n",
       "        [1.],\n",
       "        [1.],\n",
       "        [1.],\n",
       "        [1.],\n",
       "        [1.],\n",
       "        [1.],\n",
       "        [1.],\n",
       "        [1.],\n",
       "        [1.],\n",
       "        [1.],\n",
       "        [1.],\n",
       "        [1.],\n",
       "        [1.],\n",
       "        [1.],\n",
       "        [1.],\n",
       "        [1.],\n",
       "        [1.],\n",
       "        [1.],\n",
       "        [1.],\n",
       "        [1.],\n",
       "        [1.]])"
      ]
     },
     "execution_count": 29,
     "metadata": {},
     "output_type": "execute_result"
    }
   ],
   "source": [
    "input_time.size(0)\n",
    "torch.ones(input_time.size(0),1)"
   ]
  },
  {
   "cell_type": "code",
   "execution_count": 30,
   "metadata": {},
   "outputs": [
    {
     "data": {
      "text/plain": [
       "tensor([[0.0000, 0.0511],\n",
       "        [0.0000, 0.1293],\n",
       "        [0.0000, 0.1152],\n",
       "        [0.0000, 0.0491],\n",
       "        [0.0000, 0.1383],\n",
       "        [0.0000, 0.3126],\n",
       "        [0.0000, 0.0220],\n",
       "        [0.0000, 0.1864],\n",
       "        [0.0000, 0.2515],\n",
       "        [0.0000, 0.2044],\n",
       "        [0.0000, 0.1052],\n",
       "        [0.0000, 0.2966],\n",
       "        [0.0000, 0.1333],\n",
       "        [0.0000, 0.2976],\n",
       "        [0.0000, 0.0471],\n",
       "        [0.0000, 0.3267],\n",
       "        [0.0000, 0.2906],\n",
       "        [0.0000, 0.3066],\n",
       "        [0.0000, 0.0010],\n",
       "        [0.0000, 0.2365],\n",
       "        [0.0000, 0.0381],\n",
       "        [0.0000, 0.2154],\n",
       "        [0.0000, 0.2525],\n",
       "        [0.0000, 0.1433],\n",
       "        [0.0000, 0.0070],\n",
       "        [0.0000, 0.2295],\n",
       "        [0.0000, 0.1573],\n",
       "        [0.0000, 0.2996],\n",
       "        [0.0000, 0.1082],\n",
       "        [0.0000, 0.0922],\n",
       "        [0.0000, 0.1082],\n",
       "        [0.0000, 0.3236],\n",
       "        [0.0000, 0.2505],\n",
       "        [0.0000, 0.2946],\n",
       "        [0.0000, 0.2114],\n",
       "        [0.0000, 0.3106],\n",
       "        [0.0000, 0.0210],\n",
       "        [0.0000, 0.2084],\n",
       "        [0.0000, 0.2705],\n",
       "        [0.0000, 0.2054],\n",
       "        [0.0000, 0.1643],\n",
       "        [0.0000, 0.2234],\n",
       "        [0.0000, 0.1443],\n",
       "        [0.0000, 0.2255],\n",
       "        [0.0000, 0.0441],\n",
       "        [0.0000, 0.1483],\n",
       "        [0.0000, 0.2705],\n",
       "        [0.0000, 0.2405],\n",
       "        [0.0000, 0.0691],\n",
       "        [0.0000, 0.0501],\n",
       "        [0.0000, 0.2365],\n",
       "        [0.0000, 0.0772],\n",
       "        [0.0000, 0.2024],\n",
       "        [0.0000, 0.1403],\n",
       "        [0.0000, 0.2505],\n",
       "        [0.0000, 0.1303],\n",
       "        [0.0000, 0.3056],\n",
       "        [0.0000, 0.0441],\n",
       "        [0.0000, 0.1914],\n",
       "        [0.0000, 0.1403],\n",
       "        [0.0000, 0.0892],\n",
       "        [0.0000, 0.2074],\n",
       "        [0.0000, 0.2014],\n",
       "        [0.0000, 0.0822],\n",
       "        [0.0000, 0.1583],\n",
       "        [0.0000, 0.1453],\n",
       "        [0.0000, 0.3086],\n",
       "        [0.0000, 0.2986],\n",
       "        [0.0000, 0.2766],\n",
       "        [0.0000, 0.0852],\n",
       "        [0.0000, 0.0892],\n",
       "        [0.0000, 0.2004],\n",
       "        [0.0000, 0.2255],\n",
       "        [0.0000, 0.1182],\n",
       "        [0.0000, 0.2194],\n",
       "        [0.0000, 0.3156],\n",
       "        [0.0000, 0.0551],\n",
       "        [0.0000, 0.1663],\n",
       "        [0.0000, 0.1794],\n",
       "        [0.0000, 0.2365],\n",
       "        [0.0000, 0.3016],\n",
       "        [0.0000, 0.2585],\n",
       "        [0.0000, 0.0481],\n",
       "        [0.0000, 0.1232],\n",
       "        [0.0000, 0.0872],\n",
       "        [0.0000, 0.1202],\n",
       "        [0.0000, 0.0852],\n",
       "        [0.0000, 0.0611],\n",
       "        [0.0000, 0.0721],\n",
       "        [0.0000, 0.1934],\n",
       "        [0.0000, 0.2415],\n",
       "        [0.0000, 0.2655],\n",
       "        [0.0000, 0.0341],\n",
       "        [0.0000, 0.2816],\n",
       "        [0.0000, 0.2675],\n",
       "        [0.0000, 0.3106],\n",
       "        [0.0000, 0.2234],\n",
       "        [0.0000, 0.1443],\n",
       "        [0.0000, 0.1373],\n",
       "        [0.0000, 0.2445]])"
      ]
     },
     "execution_count": 30,
     "metadata": {},
     "output_type": "execute_result"
    }
   ],
   "source": [
    "input2_BC1 = torch.cat((torch.zeros(input_time.size(0),1),input_time),-1).to(device)\n",
    "input2_BC1"
   ]
  },
  {
   "cell_type": "code",
   "execution_count": 31,
   "metadata": {},
   "outputs": [
    {
     "data": {
      "text/plain": [
       "tensor([0., 0., 0., 0., 0., 0., 0., 0., 0., 0., 0., 0., 0., 0., 0., 0., 0., 0., 0., 0., 0., 0., 0., 0.,\n",
       "        0., 0., 0., 0., 0., 0., 0., 0., 0., 0., 0., 0., 0., 0., 0., 0., 0., 0., 0., 0., 0., 0., 0., 0.,\n",
       "        0., 0., 0., 0., 0., 0., 0., 0., 0., 0., 0., 0., 0., 0., 0., 0., 0., 0., 0., 0., 0., 0., 0., 0.,\n",
       "        0., 0., 0., 0., 0., 0., 0., 0., 0., 0., 0., 0., 0., 0., 0., 0., 0., 0., 0., 0., 0., 0., 0., 0.,\n",
       "        0., 0., 0., 0.])"
      ]
     },
     "execution_count": 31,
     "metadata": {},
     "output_type": "execute_result"
    }
   ],
   "source": [
    "target_BC1 = torch.zeros(input_time.size(0))\n",
    "target_BC1"
   ]
  },
  {
   "cell_type": "code",
   "execution_count": 32,
   "metadata": {},
   "outputs": [
    {
     "data": {
      "text/plain": [
       "tensor(4.3097e-05, grad_fn=<MeanBackward0>)"
      ]
     },
     "execution_count": 32,
     "metadata": {},
     "output_type": "execute_result"
    }
   ],
   "source": [
    "predicted_BC1 = model(input1,input2_BC1)\n",
    "# predicted_BC1\n",
    "loss_BC1 = torch.mean((predicted_BC1-target_BC1)**2)\n",
    "loss_BC1"
   ]
  },
  {
   "cell_type": "code",
   "execution_count": 33,
   "metadata": {},
   "outputs": [],
   "source": [
    "#loss_BC_0 = torch.mean()"
   ]
  },
  {
   "cell_type": "code",
   "execution_count": 34,
   "metadata": {},
   "outputs": [
    {
     "data": {
      "text/plain": [
       "torch.Size([100, 2])"
      ]
     },
     "execution_count": 34,
     "metadata": {},
     "output_type": "execute_result"
    }
   ],
   "source": [
    "input2.size()"
   ]
  },
  {
   "cell_type": "code",
   "execution_count": null,
   "metadata": {},
   "outputs": [
    {
     "data": {
      "image/png": "[encoded data removed]",
      "text/plain": [
       "<Figure size 640x480 with 1 Axes>"
      ]
     },
     "metadata": {},
     "output_type": "display_data"
    }
   ],
   "source": [
    "plt.plot(loss_rec[1000:])\n",
    "plt.grid()"
   ]
  },
  {
   "cell_type": "code",
   "execution_count": 36,
   "metadata": {},
   "outputs": [],
   "source": [
    "# model(y,torch.tensor([0,0]))"
   ]
  },
  {
   "cell_type": "code",
   "execution_count": 37,
   "metadata": {},
   "outputs": [
    {
     "data": {
      "text/plain": [
       "torch.Size([65])"
      ]
     },
     "execution_count": 37,
     "metadata": {},
     "output_type": "execute_result"
    }
   ],
   "source": [
    "trial_input_1 = torch.tensor(np.random.rand(65,100),dtype=torch.float32).to(device)\n",
    "trial_input_2 = torch.tensor(np.random.rand(65,2),dtype=torch.float32).to(device)\n",
    "model(trial_input_1,trial_input_2).mean()\n",
    "model(trial_input_1,trial_input_2).shape"
   ]
  }
 ],
 "metadata": {
  "kernelspec": {
   "display_name": "abhi",
   "language": "python",
   "name": "python3"
  },
  "language_info": {
   "codemirror_mode": {
    "name": "ipython",
    "version": 3
   },
   "file_extension": ".py",
   "mimetype": "text/x-python",
   "name": "python",
   "nbconvert_exporter": "python",
   "pygments_lexer": "ipython3",
   "version": "3.12.2"
  }
 },
 "nbformat": 4,
 "nbformat_minor": 2
}
