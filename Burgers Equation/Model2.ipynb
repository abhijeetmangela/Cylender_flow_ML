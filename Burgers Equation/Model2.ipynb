{
 "cells": [
  {
   "cell_type": "code",
   "execution_count": 1,
   "metadata": {},
   "outputs": [
    {
     "data": {
      "text/plain": [
       "<torch._C.Generator at 0x1bca4ee1910>"
      ]
     },
     "execution_count": 1,
     "metadata": {},
     "output_type": "execute_result"
    }
   ],
   "source": [
    "import numpy as np\n",
    "import matplotlib.pyplot as plt\n",
    "import pandas as pd\n",
    "import torch\n",
    "from torch.utils.data import DataLoader,Dataset\n",
    "import torch.nn as nn\n",
    "import torch.nn.functional as F\n",
    "import math\n",
    "import h5py\n",
    "\n",
    "torch.manual_seed(0)"
   ]
  },
  {
   "cell_type": "code",
   "execution_count": 2,
   "metadata": {},
   "outputs": [],
   "source": [
    "device = torch.device('cuda' if torch.cuda.is_available() else 'cpu')\n",
    "mu = torch.tensor(0.01)"
   ]
  },
  {
   "cell_type": "code",
   "execution_count": 3,
   "metadata": {},
   "outputs": [],
   "source": [
    "class DeepONet(nn.Module):\n",
    "    def __init__(self):\n",
    "        super(DeepONet,self).__init__()\n",
    "        self.Branch_L1 = nn.Linear(201,100)\n",
    "        self.Branch_L2 = nn.Linear(100,100)\n",
    "        self.Branch_L3 = nn.Linear(100,100)\n",
    "        self.Branch_L4 = nn.Linear(100,100)\n",
    "        self.Branch_L5 = nn.Linear(100,100)\n",
    "        self.Branch_L6 = nn.Linear(100,100)\n",
    "        self.Branch_L7 = nn.Linear(100,100)\n",
    "\n",
    "        self.Trunk_L1 = nn.Linear(2,20)\n",
    "        self.Trunk_L2 = nn.Linear(20,50)\n",
    "        self.Trunk_L3 = nn.Linear(50,100)\n",
    "        self.Trunk_L4 = nn.Linear(100,100)\n",
    "        self.Trunk_L5 = nn.Linear(100,100)\n",
    "        self.Trunk_L6 = nn.Linear(100,100)\n",
    "        self.Trunk_L7 = nn.Linear(100,100)\n",
    "\n",
    "    def forward(self,y_0,x_loc_and_time):\n",
    "        # Branch\n",
    "        b = F.tanh(self.Branch_L1(y_0))\n",
    "        b = F.tanh(self.Branch_L2(b))\n",
    "        b = F.tanh(self.Branch_L3(b))\n",
    "        b = F.tanh(self.Branch_L4(b))\n",
    "        b = F.tanh(self.Branch_L5(b))\n",
    "        b = F.tanh(self.Branch_L6(b))\n",
    "        b = self.Branch_L7(b)\n",
    "\n",
    "        tr = F.tanh(self.Trunk_L1(x_loc_and_time))\n",
    "        tr = F.tanh(self.Trunk_L2(tr))\n",
    "        tr = F.tanh(self.Trunk_L3(tr))\n",
    "        tr = F.tanh(self.Trunk_L4(tr))\n",
    "        tr = F.tanh(self.Trunk_L5(tr))\n",
    "        tr = F.tanh(self.Trunk_L6(tr))\n",
    "        tr = self.Trunk_L7(tr)\n",
    "\n",
    "        #output = torch.matmul(b,tr.t()).sum(dim=0)\n",
    "        output = torch.sum(b * tr, dim=1)\n",
    "\n",
    "        return output\n",
    "    \n",
    "# model = torch.load(\"model_burgers_1.pt\",weights_only=False)\n",
    "\n",
    "model = DeepONet().to(device)\n",
    "model.load_state_dict(torch.load('model_burgers_4.pt'))\n",
    "#model.eval().to(device)"
   ]
  },
  {
   "cell_type": "code",
   "execution_count": 4,
   "metadata": {},
   "outputs": [
    {
     "data": {
      "text/plain": [
       "Parameter containing:\n",
       "tensor([-0.0458,  0.0162,  0.0302, -0.0406,  0.0615,  0.0076, -0.0645, -0.0679,\n",
       "         0.0229,  0.0180, -0.0448,  0.0252,  0.0458,  0.0528, -0.0098, -0.0229,\n",
       "         0.0254, -0.0394, -0.0641, -0.0168,  0.0085,  0.0213,  0.0551, -0.0100,\n",
       "        -0.0440,  0.0012,  0.0196,  0.0656,  0.0476, -0.0642,  0.0139,  0.0381,\n",
       "        -0.0237,  0.0330, -0.0052, -0.0292, -0.0303,  0.0403,  0.0586,  0.0621,\n",
       "         0.0115, -0.0021,  0.0432,  0.0558, -0.0051, -0.0204, -0.0440,  0.0307,\n",
       "        -0.0613,  0.0249, -0.0597,  0.0664, -0.0667, -0.0420, -0.0100, -0.0182,\n",
       "        -0.0115, -0.0384, -0.0116, -0.0472, -0.0679, -0.0677,  0.0561,  0.0172,\n",
       "         0.0640,  0.0087, -0.0233, -0.0102, -0.0669,  0.0643,  0.0458, -0.0304,\n",
       "         0.0184,  0.0453, -0.0326, -0.0428, -0.0468, -0.0689,  0.0691,  0.0012,\n",
       "        -0.0094,  0.0063, -0.0524,  0.0536, -0.0683,  0.0550, -0.0446,  0.0305,\n",
       "        -0.0002, -0.0679,  0.0585,  0.0417,  0.0184,  0.0326, -0.0656,  0.0179,\n",
       "         0.0274,  0.0466, -0.0694, -0.0010], device='cuda:0',\n",
       "       requires_grad=True)"
      ]
     },
     "execution_count": 4,
     "metadata": {},
     "output_type": "execute_result"
    }
   ],
   "source": [
    "model.Branch_L1.bias\n"
   ]
  },
  {
   "cell_type": "code",
   "execution_count": 5,
   "metadata": {},
   "outputs": [],
   "source": [
    "# database = pd.read_csv('minus_sin_pix.csv',index_col=0).dropna().to_numpy(dtype='float32')\n",
    "#database = pd.read_pickle(\"test_df.pkl\") #pd.read_csv('minus_sin_pix.csv',index_col=0).dropna().to_numpy(dtype='float32')"
   ]
  },
  {
   "cell_type": "code",
   "execution_count": 6,
   "metadata": {},
   "outputs": [],
   "source": [
    "#database = pd.DataFrame(database).to_numpy(dtype='float32')"
   ]
  },
  {
   "cell_type": "markdown",
   "metadata": {},
   "source": [
    "Actual Dataset Loader"
   ]
  },
  {
   "cell_type": "code",
   "execution_count": 7,
   "metadata": {},
   "outputs": [],
   "source": [
    "with h5py.File(\"Burgers_generalised_dataset.h5\",\"r\") as f:\n",
    "    database = f[\"my_array\"][:]\n",
    "\n",
    "database = database.astype(np.float32)"
   ]
  },
  {
   "cell_type": "code",
   "execution_count": 8,
   "metadata": {},
   "outputs": [],
   "source": [
    "class Data(Dataset):\n",
    "    def __init__(self,transform=None):\n",
    "        self.initial_conditions = torch.from_numpy(database[:,0:201])#.requires_grad_(True)\n",
    "        self.x_location = torch.from_numpy(database[:,[201]])#.requires_grad_(True)\n",
    "        self.time_vale = torch.from_numpy(database[:,[202]])#.requires_grad_(True)\n",
    "        self.true_y_value = torch.from_numpy(database[:,[203]])#.requires_grad_(True)\n",
    "        self.n_samples = database.shape[0]\n",
    "\n",
    "    def __getitem__(self, index):\n",
    "        return self.initial_conditions[index] , self.x_location[index] , self.time_vale[index] , self.true_y_value[index]\n",
    "    \n",
    "    def __len__(self):\n",
    "        return self.n_samples"
   ]
  },
  {
   "cell_type": "code",
   "execution_count": 9,
   "metadata": {},
   "outputs": [],
   "source": [
    "dataset_data = Data()"
   ]
  },
  {
   "cell_type": "code",
   "execution_count": 10,
   "metadata": {},
   "outputs": [
    {
     "data": {
      "text/plain": [
       "tensor([[ 0.5494],\n",
       "        [ 1.1504],\n",
       "        [-1.6804],\n",
       "        ...,\n",
       "        [-0.0428],\n",
       "        [-0.0437],\n",
       "        [-0.0446]])"
      ]
     },
     "execution_count": 10,
     "metadata": {},
     "output_type": "execute_result"
    }
   ],
   "source": [
    "dataset_data.true_y_value"
   ]
  },
  {
   "cell_type": "code",
   "execution_count": 11,
   "metadata": {},
   "outputs": [
    {
     "data": {
      "text/plain": [
       "20301000"
      ]
     },
     "execution_count": 11,
     "metadata": {},
     "output_type": "execute_result"
    }
   ],
   "source": [
    "dataset_data.__len__()"
   ]
  },
  {
   "cell_type": "code",
   "execution_count": 12,
   "metadata": {},
   "outputs": [],
   "source": [
    "y,_,_,_ = dataset_data.__getitem__(1)\n",
    "#plt.plot(y)\n",
    "#plt.grid()"
   ]
  },
  {
   "cell_type": "code",
   "execution_count": 13,
   "metadata": {},
   "outputs": [],
   "source": [
    "train_size = int(0.6*dataset_data.__len__())\n",
    "test_size = dataset_data.__len__() - train_size\n",
    "\n",
    "batch_size = 50000\n",
    "\n",
    "Burger_train_data , Burger_test_data = torch.utils.data.random_split(Data(),[train_size,test_size])\n",
    "\n",
    "train_loader = DataLoader(dataset=Burger_train_data,batch_size=batch_size,shuffle=True)"
   ]
  },
  {
   "cell_type": "code",
   "execution_count": 14,
   "metadata": {},
   "outputs": [
    {
     "data": {
      "text/plain": [
       "12180600"
      ]
     },
     "execution_count": 14,
     "metadata": {},
     "output_type": "execute_result"
    }
   ],
   "source": [
    "train_size"
   ]
  },
  {
   "cell_type": "code",
   "execution_count": 15,
   "metadata": {},
   "outputs": [],
   "source": [
    "data_iter = iter(train_loader)\n",
    "data = data_iter.__next__()\n",
    "Init_val , x_loc, time, y_value = data"
   ]
  },
  {
   "cell_type": "code",
   "execution_count": 35,
   "metadata": {},
   "outputs": [
    {
     "name": "stdout",
     "output_type": "stream",
     "text": [
      "244 1\n"
     ]
    }
   ],
   "source": [
    "num_epoch = 5000\n",
    "total_samples = len(train_loader)\n",
    "n_iterations = math.ceil(total_samples/300)\n",
    "print(total_samples,n_iterations)\n",
    "learning_rate = 0.0000001\n",
    "\n",
    "criterion = nn.MSELoss()\n",
    "optimiser = torch.optim.SGD(model.parameters(), lr=1e-7)"
   ]
  },
  {
   "cell_type": "code",
   "execution_count": null,
   "metadata": {},
   "outputs": [],
   "source": [
    "loss_rec = []"
   ]
  },
  {
   "cell_type": "code",
   "execution_count": 17,
   "metadata": {},
   "outputs": [],
   "source": [
    "def grad(outputs,inputs):\n",
    "    return torch.autograd.grad(outputs,inputs,grad_outputs=torch.ones_like(outputs),create_graph=True)"
   ]
  },
  {
   "cell_type": "code",
   "execution_count": 18,
   "metadata": {},
   "outputs": [],
   "source": [
    "x_locations_for_computation = torch.linspace(0,1,300,dtype=torch.float32).requires_grad_(True)\n",
    "\n",
    "def Physics_loss_Burgers(init_conditions,time_input_physics,x_locations):\n",
    "    total_temp = torch.tensor(0)\n",
    "    for j in range(len(time_input_physics)):\n",
    "        # Set up the input x locations as a range from 0 to 1\n",
    "        # x_locations = torch.linspace(0,1,300,dtype=torch.float32).requires_grad_(True)\n",
    "\n",
    "        # We will calculate gradients on every time given\n",
    "        time_input = time_input_physics[j]*torch.ones_like(x_locations,dtype=torch.float32)\n",
    "\n",
    "        # Taking the slice of the initial conditions associated with that time step. Can be used in future where not just sinx is taken.\n",
    "        input_1_physics = init_conditions[j,:].unsqueeze(0)\n",
    "        input2_physics = torch.cat((x_locations.unsqueeze(-1),time_input.unsqueeze(-1)),-1)\n",
    "\n",
    "        # Getting output \n",
    "        output_physics = model(input_1_physics.expand(len(input2_physics),-1),input2_physics)\n",
    "\n",
    "        # Getting required gradients\n",
    "        du_dt = grad(output_physics,time_input)[0]\n",
    "        du_dx = grad(output_physics,x_locations)[0]\n",
    "        du2_dx2 = grad(du_dx,x_locations)[0]\n",
    "\n",
    "        # Getting the physics loss and summing it up \n",
    "        temp = torch.mean(du_dt + output_physics*du_dx - mu*du2_dx2)\n",
    "        total_temp = total_temp + temp\n",
    "\n",
    "    return total_temp"
   ]
  },
  {
   "cell_type": "code",
   "execution_count": 19,
   "metadata": {},
   "outputs": [],
   "source": [
    "x_locations = torch.linspace(-1,1,300,dtype=torch.float32).requires_grad_(True)"
   ]
  },
  {
   "cell_type": "code",
   "execution_count": 20,
   "metadata": {},
   "outputs": [],
   "source": [
    "time_input_physics = torch.tensor(0.2)\n",
    "time_input = time_input_physics*torch.ones_like(x_locations,dtype=torch.float32).requires_grad_(True)\n",
    "#print(time_input)"
   ]
  },
  {
   "cell_type": "code",
   "execution_count": 21,
   "metadata": {},
   "outputs": [],
   "source": [
    "x_locations = torch.linspace(-1,1,300,dtype=torch.float32).requires_grad_(True)\n",
    "input2_physics = torch.cat((x_locations.unsqueeze(-1),time_input.unsqueeze(-1)),-1)\n",
    "#print(input2_physics)"
   ]
  },
  {
   "cell_type": "code",
   "execution_count": 22,
   "metadata": {},
   "outputs": [],
   "source": [
    "#input_1_physics = input1[1,:].unsqueeze(0)\n",
    "#input_1_physics.shape"
   ]
  },
  {
   "cell_type": "code",
   "execution_count": 23,
   "metadata": {},
   "outputs": [],
   "source": [
    "#output_physics = model(input_1_physics,input2_physics)"
   ]
  },
  {
   "cell_type": "code",
   "execution_count": 24,
   "metadata": {},
   "outputs": [],
   "source": [
    "#du_dt = grad(output_physics,time_input)[0]\n",
    "#du_dx = grad(output_physics,x_locations)[0]\n",
    "#du2_dx2 = grad(du_dx,x_locations)[0]\n",
    "#loss_physics_burgers = torch.mean(du_dt + x_locations*du_dx - mu*du2_dx2)\n",
    "#loss_physics_burgers"
   ]
  },
  {
   "cell_type": "code",
   "execution_count": 25,
   "metadata": {},
   "outputs": [],
   "source": [
    "#input1[3]"
   ]
  },
  {
   "cell_type": "code",
   "execution_count": 26,
   "metadata": {},
   "outputs": [],
   "source": [
    "#Physics_loss_rec = Physics_loss(input1,input_time[3])\n",
    "#Physics_loss_rec"
   ]
  },
  {
   "cell_type": "code",
   "execution_count": 36,
   "metadata": {},
   "outputs": [
    {
     "name": "stdout",
     "output_type": "stream",
     "text": [
      "Epoch [1/5000] , Step [10/244] , Loss: 0.0070545156486332 \n",
      "Epoch [1/5000] , Step [20/244] , Loss: 0.0068968632258475 \n",
      "Epoch [1/5000] , Step [30/244] , Loss: 0.0069646630436182 \n",
      "Epoch [1/5000] , Step [40/244] , Loss: 0.0072547812014818 \n",
      "Epoch [1/5000] , Step [50/244] , Loss: 0.0074682445265353 \n",
      "Epoch [1/5000] , Step [60/244] , Loss: 0.0065946253016591 \n",
      "Epoch [1/5000] , Step [70/244] , Loss: 0.0075464681722224 \n",
      "Epoch [1/5000] , Step [80/244] , Loss: 0.0078234123066068 \n",
      "Epoch [1/5000] , Step [90/244] , Loss: 0.0066146957688034 \n",
      "Epoch [1/5000] , Step [100/244] , Loss: 0.0072796959429979 \n",
      "Epoch [1/5000] , Step [110/244] , Loss: 0.0072805453091860 \n",
      "Epoch [1/5000] , Step [120/244] , Loss: 0.0078184092417359 \n",
      "Epoch [1/5000] , Step [130/244] , Loss: 0.0069926464930177 \n",
      "Epoch [1/5000] , Step [140/244] , Loss: 0.0070129623636603 \n",
      "Epoch [1/5000] , Step [150/244] , Loss: 0.0074460958130658 \n",
      "Epoch [1/5000] , Step [160/244] , Loss: 0.0076212608255446 \n",
      "Epoch [1/5000] , Step [170/244] , Loss: 0.0072141094133258 \n",
      "Epoch [1/5000] , Step [180/244] , Loss: 0.0068204305134714 \n",
      "Epoch [1/5000] , Step [190/244] , Loss: 0.0072772349230945 \n",
      "Epoch [1/5000] , Step [200/244] , Loss: 0.0075073372572660 \n",
      "Epoch [1/5000] , Step [210/244] , Loss: 0.0073561631143093 \n",
      "Epoch [1/5000] , Step [220/244] , Loss: 0.0072515378706157 \n",
      "Epoch [1/5000] , Step [230/244] , Loss: 0.0069819735363126 \n",
      "Epoch [1/5000] , Step [240/244] , Loss: 0.0067567862570286 \n",
      "Epoch [2/5000] , Step [10/244] , Loss: 0.0072010727599263 \n",
      "Epoch [2/5000] , Step [20/244] , Loss: 0.0073745138943195 \n",
      "Epoch [2/5000] , Step [30/244] , Loss: 0.0074992040172219 \n",
      "Epoch [2/5000] , Step [40/244] , Loss: 0.0068382793106139 \n",
      "Epoch [2/5000] , Step [50/244] , Loss: 0.0074686259031296 \n",
      "Epoch [2/5000] , Step [60/244] , Loss: 0.0069860992953181 \n",
      "Epoch [2/5000] , Step [70/244] , Loss: 0.0065340525470674 \n",
      "Epoch [2/5000] , Step [80/244] , Loss: 0.0073047163896263 \n",
      "Epoch [2/5000] , Step [90/244] , Loss: 0.0068605919368565 \n",
      "Epoch [2/5000] , Step [100/244] , Loss: 0.0078241443261504 \n",
      "Epoch [2/5000] , Step [110/244] , Loss: 0.0075014550238848 \n",
      "Epoch [2/5000] , Step [120/244] , Loss: 0.0073576988652349 \n",
      "Epoch [2/5000] , Step [130/244] , Loss: 0.0083385184407234 \n",
      "Epoch [2/5000] , Step [140/244] , Loss: 0.0067189787514508 \n",
      "Epoch [2/5000] , Step [150/244] , Loss: 0.0070726261474192 \n",
      "Epoch [2/5000] , Step [160/244] , Loss: 0.0067818881943822 \n",
      "Epoch [2/5000] , Step [170/244] , Loss: 0.0064283907413483 \n",
      "Epoch [2/5000] , Step [180/244] , Loss: 0.0074563524685800 \n",
      "Epoch [2/5000] , Step [190/244] , Loss: 0.0071776779368520 \n",
      "Epoch [2/5000] , Step [200/244] , Loss: 0.0075641563162208 \n",
      "Epoch [2/5000] , Step [210/244] , Loss: 0.0075850351713598 \n",
      "Epoch [2/5000] , Step [220/244] , Loss: 0.0066013121977448 \n",
      "Epoch [2/5000] , Step [230/244] , Loss: 0.0073662847280502 \n",
      "Epoch [2/5000] , Step [240/244] , Loss: 0.0072030224837363 \n",
      "Epoch [3/5000] , Step [10/244] , Loss: 0.0068773562088609 \n",
      "Epoch [3/5000] , Step [20/244] , Loss: 0.0071147289127111 \n",
      "Epoch [3/5000] , Step [30/244] , Loss: 0.0080876117572188 \n",
      "Epoch [3/5000] , Step [40/244] , Loss: 0.0072284387424588 \n",
      "Epoch [3/5000] , Step [50/244] , Loss: 0.0068453433923423 \n",
      "Epoch [3/5000] , Step [60/244] , Loss: 0.0079371687024832 \n",
      "Epoch [3/5000] , Step [70/244] , Loss: 0.0065414644777775 \n",
      "Epoch [3/5000] , Step [80/244] , Loss: 0.0078824730589986 \n",
      "Epoch [3/5000] , Step [90/244] , Loss: 0.0083136651664972 \n",
      "Epoch [3/5000] , Step [100/244] , Loss: 0.0070704333484173 \n",
      "Epoch [3/5000] , Step [110/244] , Loss: 0.0066941976547241 \n",
      "Epoch [3/5000] , Step [120/244] , Loss: 0.0062828408554196 \n",
      "Epoch [3/5000] , Step [130/244] , Loss: 0.0073251207359135 \n",
      "Epoch [3/5000] , Step [140/244] , Loss: 0.0071252514608204 \n",
      "Epoch [3/5000] , Step [150/244] , Loss: 0.0074756075628102 \n",
      "Epoch [3/5000] , Step [160/244] , Loss: 0.0069631668739021 \n",
      "Epoch [3/5000] , Step [170/244] , Loss: 0.0070451879873872 \n",
      "Epoch [3/5000] , Step [180/244] , Loss: 0.0070359911769629 \n",
      "Epoch [3/5000] , Step [190/244] , Loss: 0.0066671385429800 \n",
      "Epoch [3/5000] , Step [200/244] , Loss: 0.0066551738418639 \n",
      "Epoch [3/5000] , Step [210/244] , Loss: 0.0060711265541613 \n",
      "Epoch [3/5000] , Step [220/244] , Loss: 0.0068504805676639 \n",
      "Epoch [3/5000] , Step [230/244] , Loss: 0.0068400059826672 \n",
      "Epoch [3/5000] , Step [240/244] , Loss: 0.0078424960374832 \n",
      "Epoch [4/5000] , Step [10/244] , Loss: 0.0072287316434085 \n",
      "Epoch [4/5000] , Step [20/244] , Loss: 0.0069968723692000 \n",
      "Epoch [4/5000] , Step [30/244] , Loss: 0.0076313987374306 \n",
      "Epoch [4/5000] , Step [40/244] , Loss: 0.0073591307736933 \n",
      "Epoch [4/5000] , Step [50/244] , Loss: 0.0069313342683017 \n",
      "Epoch [4/5000] , Step [60/244] , Loss: 0.0078277382999659 \n",
      "Epoch [4/5000] , Step [70/244] , Loss: 0.0065785325132310 \n",
      "Epoch [4/5000] , Step [80/244] , Loss: 0.0071650887839496 \n",
      "Epoch [4/5000] , Step [90/244] , Loss: 0.0062729404307902 \n",
      "Epoch [4/5000] , Step [100/244] , Loss: 0.0061464644968510 \n",
      "Epoch [4/5000] , Step [110/244] , Loss: 0.0075117978267372 \n",
      "Epoch [4/5000] , Step [120/244] , Loss: 0.0074881906621158 \n",
      "Epoch [4/5000] , Step [130/244] , Loss: 0.0070535568520427 \n",
      "Epoch [4/5000] , Step [140/244] , Loss: 0.0076142372563481 \n",
      "Epoch [4/5000] , Step [150/244] , Loss: 0.0065982858650386 \n",
      "Epoch [4/5000] , Step [160/244] , Loss: 0.0071591166779399 \n",
      "Epoch [4/5000] , Step [170/244] , Loss: 0.0067757829092443 \n",
      "Epoch [4/5000] , Step [180/244] , Loss: 0.0078077702783048 \n",
      "Epoch [4/5000] , Step [190/244] , Loss: 0.0077329236082733 \n",
      "Epoch [4/5000] , Step [200/244] , Loss: 0.0066309371031821 \n",
      "Epoch [4/5000] , Step [210/244] , Loss: 0.0072657512500882 \n",
      "Epoch [4/5000] , Step [220/244] , Loss: 0.0070022149011493 \n",
      "Epoch [4/5000] , Step [230/244] , Loss: 0.0070837163366377 \n",
      "Epoch [4/5000] , Step [240/244] , Loss: 0.0072847804985940 \n",
      "Epoch [5/5000] , Step [10/244] , Loss: 0.0068494291044772 \n",
      "Epoch [5/5000] , Step [20/244] , Loss: 0.0070853610523045 \n",
      "Epoch [5/5000] , Step [30/244] , Loss: 0.0072741308249533 \n",
      "Epoch [5/5000] , Step [40/244] , Loss: 0.0068161776289344 \n",
      "Epoch [5/5000] , Step [50/244] , Loss: 0.0068415319547057 \n",
      "Epoch [5/5000] , Step [60/244] , Loss: 0.0072394139133394 \n",
      "Epoch [5/5000] , Step [70/244] , Loss: 0.0076412903144956 \n",
      "Epoch [5/5000] , Step [80/244] , Loss: 0.0069081406109035 \n",
      "Epoch [5/5000] , Step [90/244] , Loss: 0.0074230884201825 \n",
      "Epoch [5/5000] , Step [100/244] , Loss: 0.0067008724436164 \n",
      "Epoch [5/5000] , Step [110/244] , Loss: 0.0064546032808721 \n",
      "Epoch [5/5000] , Step [120/244] , Loss: 0.0065529569983482 \n",
      "Epoch [5/5000] , Step [130/244] , Loss: 0.0072383340448141 \n",
      "Epoch [5/5000] , Step [140/244] , Loss: 0.0078704003244638 \n",
      "Epoch [5/5000] , Step [150/244] , Loss: 0.0074324943125248 \n",
      "Epoch [5/5000] , Step [160/244] , Loss: 0.0066862725652754 \n",
      "Epoch [5/5000] , Step [170/244] , Loss: 0.0074557419866323 \n",
      "Epoch [5/5000] , Step [180/244] , Loss: 0.0067670294083655 \n",
      "Epoch [5/5000] , Step [190/244] , Loss: 0.0072675347328186 \n",
      "Epoch [5/5000] , Step [200/244] , Loss: 0.0070398673415184 \n",
      "Epoch [5/5000] , Step [210/244] , Loss: 0.0075078578665853 \n",
      "Epoch [5/5000] , Step [220/244] , Loss: 0.0067254947498441 \n",
      "Epoch [5/5000] , Step [230/244] , Loss: 0.0081756617873907 \n",
      "Epoch [5/5000] , Step [240/244] , Loss: 0.0072438907809556 \n",
      "Epoch [6/5000] , Step [10/244] , Loss: 0.0063641117885709 \n",
      "Epoch [6/5000] , Step [20/244] , Loss: 0.0070699276402593 \n",
      "Epoch [6/5000] , Step [30/244] , Loss: 0.0073874802328646 \n",
      "Epoch [6/5000] , Step [40/244] , Loss: 0.0074451467953622 \n",
      "Epoch [6/5000] , Step [50/244] , Loss: 0.0063161822035909 \n",
      "Epoch [6/5000] , Step [60/244] , Loss: 0.0069434484466910 \n",
      "Epoch [6/5000] , Step [70/244] , Loss: 0.0066854748874903 \n",
      "Epoch [6/5000] , Step [80/244] , Loss: 0.0070046838372946 \n",
      "Epoch [6/5000] , Step [90/244] , Loss: 0.0072188829071820 \n",
      "Epoch [6/5000] , Step [100/244] , Loss: 0.0069251586683095 \n",
      "Epoch [6/5000] , Step [110/244] , Loss: 0.0070351660251617 \n",
      "Epoch [6/5000] , Step [120/244] , Loss: 0.0074289278127253 \n",
      "Epoch [6/5000] , Step [130/244] , Loss: 0.0071199345402420 \n",
      "Epoch [6/5000] , Step [140/244] , Loss: 0.0071823815815151 \n",
      "Epoch [6/5000] , Step [150/244] , Loss: 0.0078022116795182 \n",
      "Epoch [6/5000] , Step [160/244] , Loss: 0.0072524375282228 \n",
      "Epoch [6/5000] , Step [170/244] , Loss: 0.0065862094052136 \n",
      "Epoch [6/5000] , Step [180/244] , Loss: 0.0065762498416007 \n",
      "Epoch [6/5000] , Step [190/244] , Loss: 0.0078685302287340 \n",
      "Epoch [6/5000] , Step [200/244] , Loss: 0.0084265014156699 \n",
      "Epoch [6/5000] , Step [210/244] , Loss: 0.0071620945818722 \n",
      "Epoch [6/5000] , Step [220/244] , Loss: 0.0066871629096568 \n",
      "Epoch [6/5000] , Step [230/244] , Loss: 0.0072655761614442 \n",
      "Epoch [6/5000] , Step [240/244] , Loss: 0.0074108359403908 \n",
      "Epoch [7/5000] , Step [10/244] , Loss: 0.0072715352289379 \n",
      "Epoch [7/5000] , Step [20/244] , Loss: 0.0075245299376547 \n",
      "Epoch [7/5000] , Step [30/244] , Loss: 0.0067172264680266 \n",
      "Epoch [7/5000] , Step [40/244] , Loss: 0.0076790447346866 \n",
      "Epoch [7/5000] , Step [50/244] , Loss: 0.0077434191480279 \n",
      "Epoch [7/5000] , Step [60/244] , Loss: 0.0071645202115178 \n",
      "Epoch [7/5000] , Step [70/244] , Loss: 0.0065818224102259 \n",
      "Epoch [7/5000] , Step [80/244] , Loss: 0.0071140159852803 \n",
      "Epoch [7/5000] , Step [90/244] , Loss: 0.0065656444057822 \n",
      "Epoch [7/5000] , Step [100/244] , Loss: 0.0072849374264479 \n",
      "Epoch [7/5000] , Step [110/244] , Loss: 0.0065636010840535 \n",
      "Epoch [7/5000] , Step [120/244] , Loss: 0.0077853738330305 \n",
      "Epoch [7/5000] , Step [130/244] , Loss: 0.0068180770613253 \n",
      "Epoch [7/5000] , Step [140/244] , Loss: 0.0068055870942771 \n",
      "Epoch [7/5000] , Step [150/244] , Loss: 0.0071393288671970 \n",
      "Epoch [7/5000] , Step [160/244] , Loss: 0.0073522869497538 \n",
      "Epoch [7/5000] , Step [170/244] , Loss: 0.0074584982357919 \n",
      "Epoch [7/5000] , Step [180/244] , Loss: 0.0070656924508512 \n",
      "Epoch [7/5000] , Step [190/244] , Loss: 0.0071241399273276 \n",
      "Epoch [7/5000] , Step [200/244] , Loss: 0.0075346399098635 \n",
      "Epoch [7/5000] , Step [210/244] , Loss: 0.0068098814226687 \n",
      "Epoch [7/5000] , Step [220/244] , Loss: 0.0065205045975745 \n",
      "Epoch [7/5000] , Step [230/244] , Loss: 0.0072973747737706 \n",
      "Epoch [7/5000] , Step [240/244] , Loss: 0.0074241855181754 \n",
      "Epoch [8/5000] , Step [10/244] , Loss: 0.0065803793258965 \n",
      "Epoch [8/5000] , Step [20/244] , Loss: 0.0074348277412355 \n",
      "Epoch [8/5000] , Step [30/244] , Loss: 0.0068765548057854 \n",
      "Epoch [8/5000] , Step [40/244] , Loss: 0.0071339709684253 \n",
      "Epoch [8/5000] , Step [50/244] , Loss: 0.0070669418200850 \n",
      "Epoch [8/5000] , Step [60/244] , Loss: 0.0069864420220256 \n",
      "Epoch [8/5000] , Step [70/244] , Loss: 0.0070313396863639 \n",
      "Epoch [8/5000] , Step [80/244] , Loss: 0.0069751837290823 \n",
      "Epoch [8/5000] , Step [90/244] , Loss: 0.0072527080774307 \n",
      "Epoch [8/5000] , Step [100/244] , Loss: 0.0072334799915552 \n",
      "Epoch [8/5000] , Step [110/244] , Loss: 0.0070010013878345 \n",
      "Epoch [8/5000] , Step [120/244] , Loss: 0.0075862919911742 \n",
      "Epoch [8/5000] , Step [130/244] , Loss: 0.0074942330829799 \n",
      "Epoch [8/5000] , Step [140/244] , Loss: 0.0069271628744900 \n",
      "Epoch [8/5000] , Step [150/244] , Loss: 0.0076280143111944 \n",
      "Epoch [8/5000] , Step [160/244] , Loss: 0.0071449093520641 \n",
      "Epoch [8/5000] , Step [170/244] , Loss: 0.0076165134087205 \n",
      "Epoch [8/5000] , Step [180/244] , Loss: 0.0072915549390018 \n",
      "Epoch [8/5000] , Step [190/244] , Loss: 0.0070210555568337 \n",
      "Epoch [8/5000] , Step [200/244] , Loss: 0.0073167015798390 \n",
      "Epoch [8/5000] , Step [210/244] , Loss: 0.0069738826714456 \n",
      "Epoch [8/5000] , Step [220/244] , Loss: 0.0068001565523446 \n",
      "Epoch [8/5000] , Step [230/244] , Loss: 0.0072029698640108 \n",
      "Epoch [8/5000] , Step [240/244] , Loss: 0.0072591928765178 \n",
      "Epoch [9/5000] , Step [10/244] , Loss: 0.0069298851303756 \n",
      "Epoch [9/5000] , Step [20/244] , Loss: 0.0071068294346333 \n",
      "Epoch [9/5000] , Step [30/244] , Loss: 0.0078695686534047 \n",
      "Epoch [9/5000] , Step [40/244] , Loss: 0.0070630693808198 \n",
      "Epoch [9/5000] , Step [50/244] , Loss: 0.0066281957551837 \n",
      "Epoch [9/5000] , Step [60/244] , Loss: 0.0074080089107156 \n",
      "Epoch [9/5000] , Step [70/244] , Loss: 0.0075278463773429 \n",
      "Epoch [9/5000] , Step [80/244] , Loss: 0.0078949360176921 \n",
      "Epoch [9/5000] , Step [90/244] , Loss: 0.0069569391198456 \n",
      "Epoch [9/5000] , Step [100/244] , Loss: 0.0067691695876420 \n",
      "Epoch [9/5000] , Step [110/244] , Loss: 0.0068954098969698 \n",
      "Epoch [9/5000] , Step [120/244] , Loss: 0.0072023216634989 \n",
      "Epoch [9/5000] , Step [130/244] , Loss: 0.0072851879522204 \n",
      "Epoch [9/5000] , Step [140/244] , Loss: 0.0070886509492993 \n",
      "Epoch [9/5000] , Step [150/244] , Loss: 0.0072919079102576 \n",
      "Epoch [9/5000] , Step [160/244] , Loss: 0.0065535954199731 \n",
      "Epoch [9/5000] , Step [170/244] , Loss: 0.0072201713919640 \n",
      "Epoch [9/5000] , Step [180/244] , Loss: 0.0062294187955558 \n",
      "Epoch [9/5000] , Step [190/244] , Loss: 0.0072904783301055 \n",
      "Epoch [9/5000] , Step [200/244] , Loss: 0.0068974904716015 \n",
      "Epoch [9/5000] , Step [210/244] , Loss: 0.0072130309417844 \n",
      "Epoch [9/5000] , Step [220/244] , Loss: 0.0067335977219045 \n",
      "Epoch [9/5000] , Step [230/244] , Loss: 0.0067671826109290 \n",
      "Epoch [9/5000] , Step [240/244] , Loss: 0.0067288964055479 \n",
      "Epoch [10/5000] , Step [10/244] , Loss: 0.0072506652213633 \n",
      "Epoch [10/5000] , Step [20/244] , Loss: 0.0074308780021966 \n",
      "Epoch [10/5000] , Step [30/244] , Loss: 0.0067943893373013 \n",
      "Epoch [10/5000] , Step [40/244] , Loss: 0.0071531771682203 \n",
      "Epoch [10/5000] , Step [50/244] , Loss: 0.0069259190931916 \n",
      "Epoch [10/5000] , Step [60/244] , Loss: 0.0070610344409943 \n",
      "Epoch [10/5000] , Step [70/244] , Loss: 0.0072694504633546 \n",
      "Epoch [10/5000] , Step [80/244] , Loss: 0.0069141821004450 \n",
      "Epoch [10/5000] , Step [90/244] , Loss: 0.0074558709748089 \n",
      "Epoch [10/5000] , Step [100/244] , Loss: 0.0070688659325242 \n",
      "Epoch [10/5000] , Step [110/244] , Loss: 0.0074869804084301 \n",
      "Epoch [10/5000] , Step [120/244] , Loss: 0.0067667434923351 \n",
      "Epoch [10/5000] , Step [130/244] , Loss: 0.0068967626430094 \n",
      "Epoch [10/5000] , Step [140/244] , Loss: 0.0072526205331087 \n",
      "Epoch [10/5000] , Step [150/244] , Loss: 0.0071422723121941 \n",
      "Epoch [10/5000] , Step [160/244] , Loss: 0.0068575046025217 \n",
      "Epoch [10/5000] , Step [170/244] , Loss: 0.0065691089257598 \n",
      "Epoch [10/5000] , Step [180/244] , Loss: 0.0077844308689237 \n",
      "Epoch [10/5000] , Step [190/244] , Loss: 0.0071718404069543 \n",
      "Epoch [10/5000] , Step [200/244] , Loss: 0.0072628087364137 \n",
      "Epoch [10/5000] , Step [210/244] , Loss: 0.0077154184691608 \n",
      "Epoch [10/5000] , Step [220/244] , Loss: 0.0067128692753613 \n",
      "Epoch [10/5000] , Step [230/244] , Loss: 0.0069688223302364 \n",
      "Epoch [10/5000] , Step [240/244] , Loss: 0.0074600512161851 \n",
      "Epoch [11/5000] , Step [10/244] , Loss: 0.0070911436341703 \n",
      "Epoch [11/5000] , Step [20/244] , Loss: 0.0069761797785759 \n",
      "Epoch [11/5000] , Step [30/244] , Loss: 0.0065135788172483 \n",
      "Epoch [11/5000] , Step [40/244] , Loss: 0.0078157577663660 \n",
      "Epoch [11/5000] , Step [50/244] , Loss: 0.0065162456594408 \n",
      "Epoch [11/5000] , Step [60/244] , Loss: 0.0070013371296227 \n",
      "Epoch [11/5000] , Step [70/244] , Loss: 0.0068236715160310 \n",
      "Epoch [11/5000] , Step [80/244] , Loss: 0.0061946157366037 \n",
      "Epoch [11/5000] , Step [90/244] , Loss: 0.0080634029582143 \n",
      "Epoch [11/5000] , Step [100/244] , Loss: 0.0071695190854371 \n",
      "Epoch [11/5000] , Step [110/244] , Loss: 0.0073030022904277 \n",
      "Epoch [11/5000] , Step [120/244] , Loss: 0.0076246731914580 \n",
      "Epoch [11/5000] , Step [130/244] , Loss: 0.0072614438831806 \n",
      "Epoch [11/5000] , Step [140/244] , Loss: 0.0078481994569302 \n",
      "Epoch [11/5000] , Step [150/244] , Loss: 0.0069113261997700 \n",
      "Epoch [11/5000] , Step [160/244] , Loss: 0.0081464825198054 \n",
      "Epoch [11/5000] , Step [170/244] , Loss: 0.0072160800918937 \n",
      "Epoch [11/5000] , Step [180/244] , Loss: 0.0077677522785962 \n",
      "Epoch [11/5000] , Step [190/244] , Loss: 0.0075128171592951 \n",
      "Epoch [11/5000] , Step [200/244] , Loss: 0.0074532334692776 \n",
      "Epoch [11/5000] , Step [210/244] , Loss: 0.0070925657637417 \n",
      "Epoch [11/5000] , Step [220/244] , Loss: 0.0076032243669033 \n",
      "Epoch [11/5000] , Step [230/244] , Loss: 0.0075566056184471 \n",
      "Epoch [11/5000] , Step [240/244] , Loss: 0.0069094505161047 \n",
      "Epoch [12/5000] , Step [10/244] , Loss: 0.0065986397676170 \n",
      "Epoch [12/5000] , Step [20/244] , Loss: 0.0073363608680665 \n",
      "Epoch [12/5000] , Step [30/244] , Loss: 0.0071202530525625 \n",
      "Epoch [12/5000] , Step [40/244] , Loss: 0.0073291123844683 \n",
      "Epoch [12/5000] , Step [50/244] , Loss: 0.0066355285234749 \n",
      "Epoch [12/5000] , Step [60/244] , Loss: 0.0073311179876328 \n",
      "Epoch [12/5000] , Step [70/244] , Loss: 0.0075829448178411 \n",
      "Epoch [12/5000] , Step [80/244] , Loss: 0.0064805918373168 \n",
      "Epoch [12/5000] , Step [90/244] , Loss: 0.0077008320949972 \n",
      "Epoch [12/5000] , Step [100/244] , Loss: 0.0071198344230652 \n",
      "Epoch [12/5000] , Step [110/244] , Loss: 0.0065911663696170 \n",
      "Epoch [12/5000] , Step [120/244] , Loss: 0.0070614819414914 \n",
      "Epoch [12/5000] , Step [130/244] , Loss: 0.0067659746855497 \n",
      "Epoch [12/5000] , Step [140/244] , Loss: 0.0073076132684946 \n",
      "Epoch [12/5000] , Step [150/244] , Loss: 0.0072134649381042 \n",
      "Epoch [12/5000] , Step [160/244] , Loss: 0.0071201343089342 \n",
      "Epoch [12/5000] , Step [170/244] , Loss: 0.0063311900012195 \n",
      "Epoch [12/5000] , Step [180/244] , Loss: 0.0071684215217829 \n",
      "Epoch [12/5000] , Step [190/244] , Loss: 0.0062691955827177 \n",
      "Epoch [12/5000] , Step [200/244] , Loss: 0.0066389287821949 \n",
      "Epoch [12/5000] , Step [210/244] , Loss: 0.0063819298520684 \n",
      "Epoch [12/5000] , Step [220/244] , Loss: 0.0071985898539424 \n",
      "Epoch [12/5000] , Step [230/244] , Loss: 0.0076956795528531 \n",
      "Epoch [12/5000] , Step [240/244] , Loss: 0.0068995016627014 \n",
      "Epoch [13/5000] , Step [10/244] , Loss: 0.0067109544761479 \n",
      "Epoch [13/5000] , Step [20/244] , Loss: 0.0066486326977611 \n",
      "Epoch [13/5000] , Step [30/244] , Loss: 0.0073008839972317 \n",
      "Epoch [13/5000] , Step [40/244] , Loss: 0.0073829530738294 \n",
      "Epoch [13/5000] , Step [50/244] , Loss: 0.0074812369421124 \n",
      "Epoch [13/5000] , Step [60/244] , Loss: 0.0065080076456070 \n",
      "Epoch [13/5000] , Step [70/244] , Loss: 0.0065829320810735 \n",
      "Epoch [13/5000] , Step [80/244] , Loss: 0.0068866461515427 \n",
      "Epoch [13/5000] , Step [90/244] , Loss: 0.0071076927706599 \n",
      "Epoch [13/5000] , Step [100/244] , Loss: 0.0068732299841940 \n",
      "Epoch [13/5000] , Step [110/244] , Loss: 0.0078822402283549 \n",
      "Epoch [13/5000] , Step [120/244] , Loss: 0.0070770825259387 \n",
      "Epoch [13/5000] , Step [130/244] , Loss: 0.0073077403940260 \n",
      "Epoch [13/5000] , Step [140/244] , Loss: 0.0078185927122831 \n",
      "Epoch [13/5000] , Step [150/244] , Loss: 0.0074738841503859 \n",
      "Epoch [13/5000] , Step [160/244] , Loss: 0.0073818541131914 \n",
      "Epoch [13/5000] , Step [170/244] , Loss: 0.0078504746779799 \n",
      "Epoch [13/5000] , Step [180/244] , Loss: 0.0073850601911545 \n",
      "Epoch [13/5000] , Step [190/244] , Loss: 0.0078912843018770 \n",
      "Epoch [13/5000] , Step [200/244] , Loss: 0.0069019454531372 \n",
      "Epoch [13/5000] , Step [210/244] , Loss: 0.0076452554203570 \n",
      "Epoch [13/5000] , Step [220/244] , Loss: 0.0061366781592369 \n",
      "Epoch [13/5000] , Step [230/244] , Loss: 0.0071262675337493 \n",
      "Epoch [13/5000] , Step [240/244] , Loss: 0.0060313683934510 \n",
      "Epoch [14/5000] , Step [10/244] , Loss: 0.0068394578993320 \n",
      "Epoch [14/5000] , Step [20/244] , Loss: 0.0078085763379931 \n",
      "Epoch [14/5000] , Step [30/244] , Loss: 0.0067104618065059 \n",
      "Epoch [14/5000] , Step [40/244] , Loss: 0.0077282334677875 \n",
      "Epoch [14/5000] , Step [50/244] , Loss: 0.0068659721873701 \n",
      "Epoch [14/5000] , Step [60/244] , Loss: 0.0070142312906682 \n",
      "Epoch [14/5000] , Step [70/244] , Loss: 0.0077557694166899 \n",
      "Epoch [14/5000] , Step [80/244] , Loss: 0.0069611519575119 \n",
      "Epoch [14/5000] , Step [90/244] , Loss: 0.0066331042908132 \n",
      "Epoch [14/5000] , Step [100/244] , Loss: 0.0073716472834349 \n",
      "Epoch [14/5000] , Step [110/244] , Loss: 0.0063675879500806 \n",
      "Epoch [14/5000] , Step [120/244] , Loss: 0.0065579013898969 \n",
      "Epoch [14/5000] , Step [130/244] , Loss: 0.0071351793594658 \n",
      "Epoch [14/5000] , Step [140/244] , Loss: 0.0065385992638767 \n",
      "Epoch [14/5000] , Step [150/244] , Loss: 0.0073304423131049 \n",
      "Epoch [14/5000] , Step [160/244] , Loss: 0.0072877295315266 \n",
      "Epoch [14/5000] , Step [170/244] , Loss: 0.0074994298629463 \n",
      "Epoch [14/5000] , Step [180/244] , Loss: 0.0071453866548836 \n",
      "Epoch [14/5000] , Step [190/244] , Loss: 0.0072826854884624 \n",
      "Epoch [14/5000] , Step [200/244] , Loss: 0.0070025036111474 \n",
      "Epoch [14/5000] , Step [210/244] , Loss: 0.0071705724112689 \n",
      "Epoch [14/5000] , Step [220/244] , Loss: 0.0069530685432255 \n",
      "Epoch [14/5000] , Step [230/244] , Loss: 0.0066218967549503 \n",
      "Epoch [14/5000] , Step [240/244] , Loss: 0.0065131685696542 \n",
      "Epoch [15/5000] , Step [10/244] , Loss: 0.0070920931175351 \n",
      "Epoch [15/5000] , Step [20/244] , Loss: 0.0074786259792745 \n",
      "Epoch [15/5000] , Step [30/244] , Loss: 0.0075784618966281 \n",
      "Epoch [15/5000] , Step [40/244] , Loss: 0.0081157274544239 \n",
      "Epoch [15/5000] , Step [50/244] , Loss: 0.0075053558684886 \n",
      "Epoch [15/5000] , Step [60/244] , Loss: 0.0066869491711259 \n",
      "Epoch [15/5000] , Step [70/244] , Loss: 0.0075687961652875 \n",
      "Epoch [15/5000] , Step [80/244] , Loss: 0.0070799132809043 \n",
      "Epoch [15/5000] , Step [90/244] , Loss: 0.0062095117755234 \n",
      "Epoch [15/5000] , Step [100/244] , Loss: 0.0073613175190985 \n",
      "Epoch [15/5000] , Step [110/244] , Loss: 0.0062142214737833 \n",
      "Epoch [15/5000] , Step [120/244] , Loss: 0.0066551989875734 \n",
      "Epoch [15/5000] , Step [130/244] , Loss: 0.0077126212418079 \n",
      "Epoch [15/5000] , Step [140/244] , Loss: 0.0068081649951637 \n",
      "Epoch [15/5000] , Step [150/244] , Loss: 0.0070089334622025 \n",
      "Epoch [15/5000] , Step [160/244] , Loss: 0.0064834235236049 \n",
      "Epoch [15/5000] , Step [170/244] , Loss: 0.0069028818979859 \n",
      "Epoch [15/5000] , Step [180/244] , Loss: 0.0072964048013091 \n",
      "Epoch [15/5000] , Step [190/244] , Loss: 0.0065698125399649 \n",
      "Epoch [15/5000] , Step [200/244] , Loss: 0.0069659645669162 \n",
      "Epoch [15/5000] , Step [210/244] , Loss: 0.0081838192418218 \n",
      "Epoch [15/5000] , Step [220/244] , Loss: 0.0071576074697077 \n",
      "Epoch [15/5000] , Step [230/244] , Loss: 0.0073178024031222 \n",
      "Epoch [15/5000] , Step [240/244] , Loss: 0.0069903056137264 \n",
      "Epoch [16/5000] , Step [10/244] , Loss: 0.0073585165664554 \n",
      "Epoch [16/5000] , Step [20/244] , Loss: 0.0067089651711285 \n",
      "Epoch [16/5000] , Step [30/244] , Loss: 0.0070076766423881 \n",
      "Epoch [16/5000] , Step [40/244] , Loss: 0.0076275304891169 \n",
      "Epoch [16/5000] , Step [50/244] , Loss: 0.0070206741802394 \n",
      "Epoch [16/5000] , Step [60/244] , Loss: 0.0071263252757490 \n",
      "Epoch [16/5000] , Step [70/244] , Loss: 0.0072157452814281 \n",
      "Epoch [16/5000] , Step [80/244] , Loss: 0.0066559133119881 \n",
      "Epoch [16/5000] , Step [90/244] , Loss: 0.0068582501262426 \n",
      "Epoch [16/5000] , Step [100/244] , Loss: 0.0067343725822866 \n",
      "Epoch [16/5000] , Step [110/244] , Loss: 0.0073121273890138 \n",
      "Epoch [16/5000] , Step [120/244] , Loss: 0.0075208242051303 \n",
      "Epoch [16/5000] , Step [130/244] , Loss: 0.0066453483887017 \n",
      "Epoch [16/5000] , Step [140/244] , Loss: 0.0077960030175745 \n",
      "Epoch [16/5000] , Step [150/244] , Loss: 0.0073144924826920 \n",
      "Epoch [16/5000] , Step [160/244] , Loss: 0.0072426241822541 \n",
      "Epoch [16/5000] , Step [170/244] , Loss: 0.0071938596665859 \n",
      "Epoch [16/5000] , Step [180/244] , Loss: 0.0073872106149793 \n",
      "Epoch [16/5000] , Step [190/244] , Loss: 0.0070593007840216 \n",
      "Epoch [16/5000] , Step [200/244] , Loss: 0.0075154989026487 \n",
      "Epoch [16/5000] , Step [210/244] , Loss: 0.0069652213715017 \n",
      "Epoch [16/5000] , Step [220/244] , Loss: 0.0072962157428265 \n",
      "Epoch [16/5000] , Step [230/244] , Loss: 0.0079918522387743 \n",
      "Epoch [16/5000] , Step [240/244] , Loss: 0.0075237136334181 \n",
      "Epoch [17/5000] , Step [10/244] , Loss: 0.0069792037829757 \n",
      "Epoch [17/5000] , Step [20/244] , Loss: 0.0066997050307691 \n",
      "Epoch [17/5000] , Step [30/244] , Loss: 0.0075171422213316 \n",
      "Epoch [17/5000] , Step [40/244] , Loss: 0.0072799068875611 \n",
      "Epoch [17/5000] , Step [50/244] , Loss: 0.0064334948547184 \n",
      "Epoch [17/5000] , Step [60/244] , Loss: 0.0076480843126774 \n",
      "Epoch [17/5000] , Step [70/244] , Loss: 0.0066170617938042 \n",
      "Epoch [17/5000] , Step [80/244] , Loss: 0.0071321167051792 \n",
      "Epoch [17/5000] , Step [90/244] , Loss: 0.0067094736732543 \n",
      "Epoch [17/5000] , Step [100/244] , Loss: 0.0076844957657158 \n",
      "Epoch [17/5000] , Step [110/244] , Loss: 0.0072511876933277 \n",
      "Epoch [17/5000] , Step [120/244] , Loss: 0.0071191955357790 \n",
      "Epoch [17/5000] , Step [130/244] , Loss: 0.0061502051539719 \n",
      "Epoch [17/5000] , Step [140/244] , Loss: 0.0075946655124426 \n",
      "Epoch [17/5000] , Step [150/244] , Loss: 0.0070703118108213 \n",
      "Epoch [17/5000] , Step [160/244] , Loss: 0.0077424938790500 \n",
      "Epoch [17/5000] , Step [170/244] , Loss: 0.0067094722762704 \n",
      "Epoch [17/5000] , Step [180/244] , Loss: 0.0076367636211216 \n",
      "Epoch [17/5000] , Step [190/244] , Loss: 0.0072046909481287 \n",
      "Epoch [17/5000] , Step [200/244] , Loss: 0.0065770293585956 \n",
      "Epoch [17/5000] , Step [210/244] , Loss: 0.0076279882341623 \n",
      "Epoch [17/5000] , Step [220/244] , Loss: 0.0071553024463356 \n",
      "Epoch [17/5000] , Step [230/244] , Loss: 0.0073653338477015 \n",
      "Epoch [17/5000] , Step [240/244] , Loss: 0.0062889233231544 \n",
      "Epoch [18/5000] , Step [10/244] , Loss: 0.0074773873202503 \n",
      "Epoch [18/5000] , Step [20/244] , Loss: 0.0071800919249654 \n",
      "Epoch [18/5000] , Step [30/244] , Loss: 0.0064221774227917 \n",
      "Epoch [18/5000] , Step [40/244] , Loss: 0.0074373520910740 \n",
      "Epoch [18/5000] , Step [50/244] , Loss: 0.0082146497443318 \n",
      "Epoch [18/5000] , Step [60/244] , Loss: 0.0077555244788527 \n",
      "Epoch [18/5000] , Step [70/244] , Loss: 0.0071914633736014 \n",
      "Epoch [18/5000] , Step [80/244] , Loss: 0.0067020752467215 \n",
      "Epoch [18/5000] , Step [90/244] , Loss: 0.0073650707490742 \n",
      "Epoch [18/5000] , Step [100/244] , Loss: 0.0073354686610401 \n",
      "Epoch [18/5000] , Step [110/244] , Loss: 0.0074733085930347 \n",
      "Epoch [18/5000] , Step [120/244] , Loss: 0.0070209447294474 \n",
      "Epoch [18/5000] , Step [130/244] , Loss: 0.0076549923978746 \n",
      "Epoch [18/5000] , Step [140/244] , Loss: 0.0067906766198575 \n",
      "Epoch [18/5000] , Step [150/244] , Loss: 0.0074697472155094 \n",
      "Epoch [18/5000] , Step [160/244] , Loss: 0.0068853842094541 \n",
      "Epoch [18/5000] , Step [170/244] , Loss: 0.0069288611412048 \n",
      "Epoch [18/5000] , Step [180/244] , Loss: 0.0071431277319789 \n",
      "Epoch [18/5000] , Step [190/244] , Loss: 0.0067937686108053 \n",
      "Epoch [18/5000] , Step [200/244] , Loss: 0.0069084642454982 \n",
      "Epoch [18/5000] , Step [210/244] , Loss: 0.0072133420035243 \n",
      "Epoch [18/5000] , Step [220/244] , Loss: 0.0071918200701475 \n",
      "Epoch [18/5000] , Step [230/244] , Loss: 0.0070458250120282 \n",
      "Epoch [18/5000] , Step [240/244] , Loss: 0.0072463266551495 \n",
      "Epoch [19/5000] , Step [10/244] , Loss: 0.0073646591044962 \n",
      "Epoch [19/5000] , Step [20/244] , Loss: 0.0071864328347147 \n",
      "Epoch [19/5000] , Step [30/244] , Loss: 0.0070440880954266 \n",
      "Epoch [19/5000] , Step [40/244] , Loss: 0.0065308762714267 \n",
      "Epoch [19/5000] , Step [50/244] , Loss: 0.0073426687158644 \n",
      "Epoch [19/5000] , Step [60/244] , Loss: 0.0073193516582251 \n",
      "Epoch [19/5000] , Step [70/244] , Loss: 0.0069403662346303 \n",
      "Epoch [19/5000] , Step [80/244] , Loss: 0.0065613863989711 \n",
      "Epoch [19/5000] , Step [90/244] , Loss: 0.0071194651536644 \n",
      "Epoch [19/5000] , Step [100/244] , Loss: 0.0068149301223457 \n",
      "Epoch [19/5000] , Step [110/244] , Loss: 0.0076351361349225 \n",
      "Epoch [19/5000] , Step [120/244] , Loss: 0.0074666463769972 \n",
      "Epoch [19/5000] , Step [130/244] , Loss: 0.0060758092440665 \n",
      "Epoch [19/5000] , Step [140/244] , Loss: 0.0082422345876694 \n",
      "Epoch [19/5000] , Step [150/244] , Loss: 0.0070282993838191 \n",
      "Epoch [19/5000] , Step [160/244] , Loss: 0.0063734045252204 \n",
      "Epoch [19/5000] , Step [170/244] , Loss: 0.0070465868338943 \n",
      "Epoch [19/5000] , Step [180/244] , Loss: 0.0080103343352675 \n",
      "Epoch [19/5000] , Step [190/244] , Loss: 0.0070568709634244 \n"
     ]
    },
    {
     "name": "stderr",
     "output_type": "stream",
     "text": [
      "Exception ignored in: <bound method IPythonKernel._clean_thread_parent_frames of <ipykernel.ipkernel.IPythonKernel object at 0x000001BC9AA4E6C0>>\n",
      "Traceback (most recent call last):\n",
      "  File \"C:\\Users\\PIV\\AppData\\Roaming\\Python\\Python312\\site-packages\\ipykernel\\ipkernel.py\", line 790, in _clean_thread_parent_frames\n",
      "    active_threads = {thread.ident for thread in threading.enumerate()}\n",
      "                                                 ^^^^^^^^^^^^^^^^^^^^^\n",
      "  File \"c:\\Users\\PIV\\.conda\\envs\\Khushi\\Lib\\threading.py\", line 1533, in enumerate\n",
      "    def enumerate():\n",
      "    \n",
      "KeyboardInterrupt: \n"
     ]
    },
    {
     "ename": "KeyboardInterrupt",
     "evalue": "",
     "output_type": "error",
     "traceback": [
      "\u001b[1;31m---------------------------------------------------------------------------\u001b[0m",
      "\u001b[1;31mKeyboardInterrupt\u001b[0m                         Traceback (most recent call last)",
      "Cell \u001b[1;32mIn[36], line 4\u001b[0m\n\u001b[0;32m      1\u001b[0m model\u001b[38;5;241m.\u001b[39mtrain()\n\u001b[0;32m      3\u001b[0m \u001b[38;5;28;01mfor\u001b[39;00m epoch \u001b[38;5;129;01min\u001b[39;00m \u001b[38;5;28mrange\u001b[39m(num_epoch):\n\u001b[1;32m----> 4\u001b[0m \u001b[43m    \u001b[49m\u001b[38;5;28;43;01mfor\u001b[39;49;00m\u001b[43m \u001b[49m\u001b[43mi\u001b[49m\u001b[43m \u001b[49m\u001b[43m,\u001b[49m\u001b[43m \u001b[49m\u001b[43m(\u001b[49m\u001b[43minput_init_conditions\u001b[49m\u001b[43m,\u001b[49m\u001b[43minput_x_loc\u001b[49m\u001b[43m,\u001b[49m\u001b[43minput_time\u001b[49m\u001b[43m,\u001b[49m\u001b[43mActual_y\u001b[49m\u001b[43m)\u001b[49m\u001b[43m \u001b[49m\u001b[38;5;129;43;01min\u001b[39;49;00m\u001b[43m \u001b[49m\u001b[38;5;28;43menumerate\u001b[39;49m\u001b[43m(\u001b[49m\u001b[43mtrain_loader\u001b[49m\u001b[43m)\u001b[49m\u001b[43m:\u001b[49m\n\u001b[0;32m      5\u001b[0m \u001b[43m        \u001b[49m\u001b[43minput1\u001b[49m\u001b[43m \u001b[49m\u001b[38;5;241;43m=\u001b[39;49m\u001b[43m \u001b[49m\u001b[43minput_init_conditions\u001b[49m\n\u001b[0;32m      6\u001b[0m \u001b[43m        \u001b[49m\u001b[43minput1\u001b[49m\u001b[43m \u001b[49m\u001b[38;5;241;43m=\u001b[39;49m\u001b[43m \u001b[49m\u001b[43minput1\u001b[49m\u001b[38;5;241;43m.\u001b[39;49m\u001b[43mto\u001b[49m\u001b[43m(\u001b[49m\u001b[43mdevice\u001b[49m\u001b[43m)\u001b[49m\n",
      "File \u001b[1;32mc:\\Users\\PIV\\.conda\\envs\\Khushi\\Lib\\site-packages\\torch\\utils\\data\\dataloader.py:631\u001b[0m, in \u001b[0;36m_BaseDataLoaderIter.__next__\u001b[1;34m(self)\u001b[0m\n\u001b[0;32m    628\u001b[0m \u001b[38;5;28;01mif\u001b[39;00m \u001b[38;5;28mself\u001b[39m\u001b[38;5;241m.\u001b[39m_sampler_iter \u001b[38;5;129;01mis\u001b[39;00m \u001b[38;5;28;01mNone\u001b[39;00m:\n\u001b[0;32m    629\u001b[0m     \u001b[38;5;66;03m# TODO(https://github.com/pytorch/pytorch/issues/76750)\u001b[39;00m\n\u001b[0;32m    630\u001b[0m     \u001b[38;5;28mself\u001b[39m\u001b[38;5;241m.\u001b[39m_reset()  \u001b[38;5;66;03m# type: ignore[call-arg]\u001b[39;00m\n\u001b[1;32m--> 631\u001b[0m data \u001b[38;5;241m=\u001b[39m \u001b[38;5;28;43mself\u001b[39;49m\u001b[38;5;241;43m.\u001b[39;49m\u001b[43m_next_data\u001b[49m\u001b[43m(\u001b[49m\u001b[43m)\u001b[49m\n\u001b[0;32m    632\u001b[0m \u001b[38;5;28mself\u001b[39m\u001b[38;5;241m.\u001b[39m_num_yielded \u001b[38;5;241m+\u001b[39m\u001b[38;5;241m=\u001b[39m \u001b[38;5;241m1\u001b[39m\n\u001b[0;32m    633\u001b[0m \u001b[38;5;28;01mif\u001b[39;00m \u001b[38;5;28mself\u001b[39m\u001b[38;5;241m.\u001b[39m_dataset_kind \u001b[38;5;241m==\u001b[39m _DatasetKind\u001b[38;5;241m.\u001b[39mIterable \u001b[38;5;129;01mand\u001b[39;00m \\\n\u001b[0;32m    634\u001b[0m         \u001b[38;5;28mself\u001b[39m\u001b[38;5;241m.\u001b[39m_IterableDataset_len_called \u001b[38;5;129;01mis\u001b[39;00m \u001b[38;5;129;01mnot\u001b[39;00m \u001b[38;5;28;01mNone\u001b[39;00m \u001b[38;5;129;01mand\u001b[39;00m \\\n\u001b[0;32m    635\u001b[0m         \u001b[38;5;28mself\u001b[39m\u001b[38;5;241m.\u001b[39m_num_yielded \u001b[38;5;241m>\u001b[39m \u001b[38;5;28mself\u001b[39m\u001b[38;5;241m.\u001b[39m_IterableDataset_len_called:\n",
      "File \u001b[1;32mc:\\Users\\PIV\\.conda\\envs\\Khushi\\Lib\\site-packages\\torch\\utils\\data\\dataloader.py:675\u001b[0m, in \u001b[0;36m_SingleProcessDataLoaderIter._next_data\u001b[1;34m(self)\u001b[0m\n\u001b[0;32m    673\u001b[0m \u001b[38;5;28;01mdef\u001b[39;00m\u001b[38;5;250m \u001b[39m\u001b[38;5;21m_next_data\u001b[39m(\u001b[38;5;28mself\u001b[39m):\n\u001b[0;32m    674\u001b[0m     index \u001b[38;5;241m=\u001b[39m \u001b[38;5;28mself\u001b[39m\u001b[38;5;241m.\u001b[39m_next_index()  \u001b[38;5;66;03m# may raise StopIteration\u001b[39;00m\n\u001b[1;32m--> 675\u001b[0m     data \u001b[38;5;241m=\u001b[39m \u001b[38;5;28;43mself\u001b[39;49m\u001b[38;5;241;43m.\u001b[39;49m\u001b[43m_dataset_fetcher\u001b[49m\u001b[38;5;241;43m.\u001b[39;49m\u001b[43mfetch\u001b[49m\u001b[43m(\u001b[49m\u001b[43mindex\u001b[49m\u001b[43m)\u001b[49m  \u001b[38;5;66;03m# may raise StopIteration\u001b[39;00m\n\u001b[0;32m    676\u001b[0m     \u001b[38;5;28;01mif\u001b[39;00m \u001b[38;5;28mself\u001b[39m\u001b[38;5;241m.\u001b[39m_pin_memory:\n\u001b[0;32m    677\u001b[0m         data \u001b[38;5;241m=\u001b[39m _utils\u001b[38;5;241m.\u001b[39mpin_memory\u001b[38;5;241m.\u001b[39mpin_memory(data, \u001b[38;5;28mself\u001b[39m\u001b[38;5;241m.\u001b[39m_pin_memory_device)\n",
      "File \u001b[1;32mc:\\Users\\PIV\\.conda\\envs\\Khushi\\Lib\\site-packages\\torch\\utils\\data\\_utils\\fetch.py:49\u001b[0m, in \u001b[0;36m_MapDatasetFetcher.fetch\u001b[1;34m(self, possibly_batched_index)\u001b[0m\n\u001b[0;32m     47\u001b[0m \u001b[38;5;28;01mif\u001b[39;00m \u001b[38;5;28mself\u001b[39m\u001b[38;5;241m.\u001b[39mauto_collation:\n\u001b[0;32m     48\u001b[0m     \u001b[38;5;28;01mif\u001b[39;00m \u001b[38;5;28mhasattr\u001b[39m(\u001b[38;5;28mself\u001b[39m\u001b[38;5;241m.\u001b[39mdataset, \u001b[38;5;124m\"\u001b[39m\u001b[38;5;124m__getitems__\u001b[39m\u001b[38;5;124m\"\u001b[39m) \u001b[38;5;129;01mand\u001b[39;00m \u001b[38;5;28mself\u001b[39m\u001b[38;5;241m.\u001b[39mdataset\u001b[38;5;241m.\u001b[39m__getitems__:\n\u001b[1;32m---> 49\u001b[0m         data \u001b[38;5;241m=\u001b[39m \u001b[38;5;28;43mself\u001b[39;49m\u001b[38;5;241;43m.\u001b[39;49m\u001b[43mdataset\u001b[49m\u001b[38;5;241;43m.\u001b[39;49m\u001b[43m__getitems__\u001b[49m\u001b[43m(\u001b[49m\u001b[43mpossibly_batched_index\u001b[49m\u001b[43m)\u001b[49m\n\u001b[0;32m     50\u001b[0m     \u001b[38;5;28;01melse\u001b[39;00m:\n\u001b[0;32m     51\u001b[0m         data \u001b[38;5;241m=\u001b[39m [\u001b[38;5;28mself\u001b[39m\u001b[38;5;241m.\u001b[39mdataset[idx] \u001b[38;5;28;01mfor\u001b[39;00m idx \u001b[38;5;129;01min\u001b[39;00m possibly_batched_index]\n",
      "File \u001b[1;32mc:\\Users\\PIV\\.conda\\envs\\Khushi\\Lib\\site-packages\\torch\\utils\\data\\dataset.py:419\u001b[0m, in \u001b[0;36mSubset.__getitems__\u001b[1;34m(self, indices)\u001b[0m\n\u001b[0;32m    417\u001b[0m     \u001b[38;5;28;01mreturn\u001b[39;00m \u001b[38;5;28mself\u001b[39m\u001b[38;5;241m.\u001b[39mdataset\u001b[38;5;241m.\u001b[39m__getitems__([\u001b[38;5;28mself\u001b[39m\u001b[38;5;241m.\u001b[39mindices[idx] \u001b[38;5;28;01mfor\u001b[39;00m idx \u001b[38;5;129;01min\u001b[39;00m indices])  \u001b[38;5;66;03m# type: ignore[attr-defined]\u001b[39;00m\n\u001b[0;32m    418\u001b[0m \u001b[38;5;28;01melse\u001b[39;00m:\n\u001b[1;32m--> 419\u001b[0m     \u001b[38;5;28;01mreturn\u001b[39;00m [\u001b[38;5;28;43mself\u001b[39;49m\u001b[38;5;241;43m.\u001b[39;49m\u001b[43mdataset\u001b[49m\u001b[43m[\u001b[49m\u001b[38;5;28;43mself\u001b[39;49m\u001b[38;5;241;43m.\u001b[39;49m\u001b[43mindices\u001b[49m\u001b[43m[\u001b[49m\u001b[43midx\u001b[49m\u001b[43m]\u001b[49m\u001b[43m]\u001b[49m \u001b[38;5;28;01mfor\u001b[39;00m idx \u001b[38;5;129;01min\u001b[39;00m indices]\n",
      "Cell \u001b[1;32mIn[8], line 9\u001b[0m, in \u001b[0;36mData.__getitem__\u001b[1;34m(self, index)\u001b[0m\n\u001b[0;32m      6\u001b[0m     \u001b[38;5;28mself\u001b[39m\u001b[38;5;241m.\u001b[39mtrue_y_value \u001b[38;5;241m=\u001b[39m torch\u001b[38;5;241m.\u001b[39mfrom_numpy(database[:,[\u001b[38;5;241m203\u001b[39m]])\u001b[38;5;66;03m#.requires_grad_(True)\u001b[39;00m\n\u001b[0;32m      7\u001b[0m     \u001b[38;5;28mself\u001b[39m\u001b[38;5;241m.\u001b[39mn_samples \u001b[38;5;241m=\u001b[39m database\u001b[38;5;241m.\u001b[39mshape[\u001b[38;5;241m0\u001b[39m]\n\u001b[1;32m----> 9\u001b[0m \u001b[38;5;28;01mdef\u001b[39;00m\u001b[38;5;250m \u001b[39m\u001b[38;5;21m__getitem__\u001b[39m(\u001b[38;5;28mself\u001b[39m, index):\n\u001b[0;32m     10\u001b[0m     \u001b[38;5;28;01mreturn\u001b[39;00m \u001b[38;5;28mself\u001b[39m\u001b[38;5;241m.\u001b[39minitial_conditions[index] , \u001b[38;5;28mself\u001b[39m\u001b[38;5;241m.\u001b[39mx_location[index] , \u001b[38;5;28mself\u001b[39m\u001b[38;5;241m.\u001b[39mtime_vale[index] , \u001b[38;5;28mself\u001b[39m\u001b[38;5;241m.\u001b[39mtrue_y_value[index]\n\u001b[0;32m     12\u001b[0m \u001b[38;5;28;01mdef\u001b[39;00m\u001b[38;5;250m \u001b[39m\u001b[38;5;21m__len__\u001b[39m(\u001b[38;5;28mself\u001b[39m):\n",
      "\u001b[1;31mKeyboardInterrupt\u001b[0m: "
     ]
    }
   ],
   "source": [
    "model.train()\n",
    "\n",
    "for epoch in range(num_epoch):\n",
    "    for i , (input_init_conditions,input_x_loc,input_time,Actual_y) in enumerate(train_loader):\n",
    "        input1 = input_init_conditions\n",
    "        input1 = input1.to(device)\n",
    "\n",
    "        input2 = torch.cat((input_x_loc,input_time),-1)\n",
    "        input2 = input2.to(device)\n",
    "\n",
    "        Actual_y = Actual_y.to(device)\n",
    "        input_time.to(device)\n",
    "\n",
    "        Outputs = model(input1,input2)\n",
    "\n",
    "        #input2_BC1 = torch.cat((torch.zeros(input_time.size(0),1),input_time),-1).to(device)\n",
    "        #target_BC1 = torch.zeros(input_time.size(0),device=device)#.to(device)\n",
    "        #predicted_BC1 = model(input1,input2_BC1)\n",
    "        #loss_BC1 = torch.mean((predicted_BC1-target_BC1)**2)\n",
    "\n",
    "        #input2_BC2 = torch.cat((torch.ones(input_time.size(0),1),input_time),-1).to(device)\n",
    "        #target_BC2 = torch.zeros(input_time.size(0),device=device) #.to(device)\n",
    "        #predicted_BC2 = model(input1,input2_BC2)\n",
    "        #loss_BC2 = torch.mean((predicted_BC2-target_BC2)**2)\n",
    "\n",
    "        #Physics_loss = Physics_loss_Burgers(input1,input_time,x_locations_for_computation)\n",
    "        \n",
    "        loss = criterion(Outputs.unsqueeze(-1),Actual_y) # + (loss_BC1 + loss_BC2) + # 0.01*Physics_loss.abs()\n",
    "        \n",
    "        loss.backward()\n",
    "        optimiser.step()    \n",
    "        optimiser.zero_grad()\n",
    "        loss_rec.append(loss.item())\n",
    "\n",
    "        if (i+1) % 10 ==0:\n",
    "            print(f'Epoch [{epoch+1}/{num_epoch}] , Step [{i+1}/{total_samples}] , Loss: {loss.item():.16f} ')#, Physics loss : {Physics_loss.item():.16f}')\n",
    "            #y_locations_test = model(input1[1],input2_physics)\n",
    "            #plt.plot(x_locations.detach().numpy(),y_locations_test.detach().numpy())\n",
    "\n",
    "        if i == 10:\n",
    "            torch.save(model.state_dict(),\"model_burgers_4.pt\")\n",
    "            #plt.plot(loss_rec)#[1000:])\n",
    "            #plt.grid()\n",
    "            "
   ]
  },
  {
   "cell_type": "code",
   "execution_count": 53,
   "metadata": {},
   "outputs": [
    {
     "data": {
      "text/plain": [
       "torch.Size([5000])"
      ]
     },
     "execution_count": 53,
     "metadata": {},
     "output_type": "execute_result"
    }
   ],
   "source": [
    "Outputs.size()                  "
   ]
  },
  {
   "cell_type": "code",
   "execution_count": 70,
   "metadata": {},
   "outputs": [],
   "source": [
    "torch.save(model.state_dict(),\"model_burgers_4.pt\") #this one"
   ]
  },
  {
   "cell_type": "code",
   "execution_count": 55,
   "metadata": {},
   "outputs": [
    {
     "data": {
      "text/plain": [
       "tensor([[ 1.2246e-16,  3.1416e-03,  6.2831e-03,  ..., -6.2831e-03,\n",
       "         -3.1416e-03, -1.2246e-16],\n",
       "        [ 1.2246e-16,  3.1416e-03,  6.2831e-03,  ..., -6.2831e-03,\n",
       "         -3.1416e-03, -1.2246e-16],\n",
       "        [ 1.2246e-16,  3.1416e-03,  6.2831e-03,  ..., -6.2831e-03,\n",
       "         -3.1416e-03, -1.2246e-16],\n",
       "        ...,\n",
       "        [ 1.2246e-16,  3.1416e-03,  6.2831e-03,  ..., -6.2831e-03,\n",
       "         -3.1416e-03, -1.2246e-16],\n",
       "        [ 1.2246e-16,  3.1416e-03,  6.2831e-03,  ..., -6.2831e-03,\n",
       "         -3.1416e-03, -1.2246e-16],\n",
       "        [ 1.2246e-16,  3.1416e-03,  6.2831e-03,  ..., -6.2831e-03,\n",
       "         -3.1416e-03, -1.2246e-16]], device='cuda:0')"
      ]
     },
     "execution_count": 55,
     "metadata": {},
     "output_type": "execute_result"
    }
   ],
   "source": [
    "input1[1].expand(100,-1)"
   ]
  },
  {
   "cell_type": "code",
   "execution_count": 64,
   "metadata": {},
   "outputs": [],
   "source": [
    "time_input_physics = torch.tensor(0.1)\n",
    "time_input = time_input_physics*torch.ones_like(x_locations,dtype=torch.float32).requires_grad_(True)\n",
    "x_locations = torch.linspace(-1,1,300,dtype=torch.float32).requires_grad_(True)\n",
    "input2_physics = torch.cat((x_locations.unsqueeze(-1),time_input.unsqueeze(-1)),-1)\n",
    "#print(input2_physics)"
   ]
  },
  {
   "cell_type": "code",
   "execution_count": 58,
   "metadata": {},
   "outputs": [],
   "source": [
    "test_x_loc = torch.linspace(-1,1,201)\n",
    "test_output_loc = torch.linspace(-1,1,201)\n",
    "test_model_input = -1*torch.sin(np.pi*test_x_loc)"
   ]
  },
  {
   "cell_type": "code",
   "execution_count": 63,
   "metadata": {},
   "outputs": [
    {
     "data": {
      "image/png": "[encoded data removed]",
      "text/plain": [
       "<Figure size 640x480 with 1 Axes>"
      ]
     },
     "metadata": {},
     "output_type": "display_data"
    }
   ],
   "source": [
    "#y_locations_test = model((input1[1].to(device)).expand(len(input2_physics),-1),input2_physics.to(device))\n",
    "time_asked = 0.9\n",
    "test_input_2 = torch.concat([test_output_loc.unsqueeze(-1) ,time_asked*torch.ones_like(test_output_loc).unsqueeze(-1)],dim=1)\n",
    "y_locations_test = model((test_model_input.to(device)),test_input_2.to(device))\n",
    "plt.plot(test_output_loc.cpu().detach().numpy(),y_locations_test.cpu().detach().numpy()) \n",
    "plt.grid()       "
   ]
  },
  {
   "cell_type": "code",
   "execution_count": 80,
   "metadata": {},
   "outputs": [
    {
     "data": {
      "text/plain": [
       "3000"
      ]
     },
     "execution_count": 80,
     "metadata": {},
     "output_type": "execute_result"
    }
   ],
   "source": [
    "input_time.size(0)"
   ]
  },
  {
   "cell_type": "code",
   "execution_count": 81,
   "metadata": {},
   "outputs": [],
   "source": [
    "input2_BC1 = torch.cat((torch.zeros(input_time.size(0),1),input_time),-1).to(device)"
   ]
  },
  {
   "cell_type": "code",
   "execution_count": 82,
   "metadata": {},
   "outputs": [],
   "source": [
    "target_BC1 = torch.zeros(input_time.size(0))"
   ]
  },
  {
   "cell_type": "code",
   "execution_count": 83,
   "metadata": {},
   "outputs": [
    {
     "data": {
      "text/plain": [
       "torch.Size([3000, 2])"
      ]
     },
     "execution_count": 83,
     "metadata": {},
     "output_type": "execute_result"
    }
   ],
   "source": [
    "input2.size()"
   ]
  },
  {
   "cell_type": "code",
   "execution_count": 37,
   "metadata": {},
   "outputs": [
    {
     "data": {
      "image/png": "[encoded data removed]",
      "text/plain": [
       "<Figure size 640x480 with 1 Axes>"
      ]
     },
     "metadata": {},
     "output_type": "display_data"
    }
   ],
   "source": [
    "plt.plot(loss_rec)#[1000:])\n",
    "plt.grid()"
   ]
  },
  {
   "cell_type": "code",
   "execution_count": 139,
   "metadata": {},
   "outputs": [],
   "source": [
    "# model(y,torch.tensor([0,0]))"
   ]
  }
 ],
 "metadata": {
  "kernelspec": {
   "display_name": "Khushi",
   "language": "python",
   "name": "python3"
  },
  "language_info": {
   "codemirror_mode": {
    "name": "ipython",
    "version": 3
   },
   "file_extension": ".py",
   "mimetype": "text/x-python",
   "name": "python",
   "nbconvert_exporter": "python",
   "pygments_lexer": "ipython3",
   "version": "3.12.3"
  }
 },
 "nbformat": 4,
 "nbformat_minor": 2
}
