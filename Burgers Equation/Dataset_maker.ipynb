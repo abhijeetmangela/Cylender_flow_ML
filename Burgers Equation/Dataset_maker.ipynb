{
 "cells": [
  {
   "cell_type": "code",
   "execution_count": 1,
   "metadata": {},
   "outputs": [],
   "source": [
    "import pandas as pd"
   ]
  },
  {
   "cell_type": "code",
   "execution_count": null,
   "metadata": {},
   "outputs": [],
   "source": [
    "df1 = pd.read_csv('minus_sin_1_pi_minus_sin_2_pi_plus_sin_3_pi.csv')\n",
    "df2 = pd.read_csv('minus_sin_1_pi_plus_sin_2_pi_plus_sin_3_pi.csv')\n",
    "df3 = pd.read_csv('minus_sin_2_pix.csv')\n",
    "df4 = pd.read_csv('minus_sin_3_pix.csv')\n",
    "df5 = pd.read_csv('minus_sin_pix.csv')\n",
    "\n",
    "df6 = pd.read_csv('sin_1_pi_plus_sin_2_pi_plus_sin_3_pi.csv')\n",
    "df7 = pd.read_csv('sin_1_pi_plus_sin_5_pi.csv')\n"
   ]
  }
 ],
 "metadata": {
  "kernelspec": {
   "display_name": "abhi",
   "language": "python",
   "name": "python3"
  },
  "language_info": {
   "codemirror_mode": {
    "name": "ipython",
    "version": 3
   },
   "file_extension": ".py",
   "mimetype": "text/x-python",
   "name": "python",
   "nbconvert_exporter": "python",
   "pygments_lexer": "ipython3",
   "version": "3.12.2"
  }
 },
 "nbformat": 4,
 "nbformat_minor": 2
}
