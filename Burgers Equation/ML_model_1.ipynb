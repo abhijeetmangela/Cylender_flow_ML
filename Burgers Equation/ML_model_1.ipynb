{
 "cells": [
  {
   "cell_type": "code",
   "execution_count": 6,
   "metadata": {},
   "outputs": [],
   "source": [
    "import numpy as np\n",
    "import matplotlib.pyplot as plt\n",
    "import pandas as pd\n",
    "import torch\n",
    "from torch.utils.data import DataLoader,Dataset\n",
    "import torch.nn as nn\n",
    "import torch.nn.functional as F"
   ]
  },
  {
   "cell_type": "code",
   "execution_count": 7,
   "metadata": {},
   "outputs": [],
   "source": [
    "device = torch.device('cuda' if torch.cuda.is_available() else 'cpu')"
   ]
  },
  {
   "cell_type": "markdown",
   "metadata": {},
   "source": [
    "## Neural Network "
   ]
  },
  {
   "cell_type": "code",
   "execution_count": 8,
   "metadata": {},
   "outputs": [],
   "source": [
    "class DeepONet(nn.Module):\n",
    "    def __init__(self):\n",
    "        super(DeepONet,self).__init__()\n",
    "        self.Bralch_L1 = nn.Linear(100,20)\n",
    "        self.Bralch_L2 = nn.Linear(20,20)\n",
    "        self.Bralch_L3 = nn.Linear(20,20)\n",
    "        self.Bralch_L4 = nn.Linear(20,20)\n",
    "        self.Bralch_L5 = nn.Linear(20,100)\n",
    "\n",
    "        self.Trunk_L1 = nn.Linear(2,20)\n",
    "        self.Trunk_L2 = nn.Linear(20,20)\n",
    "        self.Trunk_L3 = nn.Linear(20,20)\n",
    "        self.Trunk_L4 = nn.Linear(20,20)\n",
    "        self.Trunk_L5 = nn.Linear(20,100)\n",
    "        \n",
    "    def forward(self,y_0,x_loc_and_time):\n",
    "        # Branch\n",
    "        b = F.relu(self.Bralch_L1(y_0))\n",
    "        b = F.relu(self.Bralch_L1(b))\n",
    "        b = F.relu(self.Bralch_L1(b))\n",
    "        b = F.relu(self.Bralch_L1(b))\n",
    "        b = F.relu(self.Bralch_L1(b))\n",
    "\n",
    "        # Trunk \n",
    "        t = F.relu(self.Trunk_L1(x_loc_and_time))\n",
    "        t = F.relu(self.Trunk_L2(t))\n",
    "        t = F.relu(self.Trunk_L3(t))\n",
    "        t = F.relu(self.Trunk_L4(t))\n",
    "        t = F.relu(self.Trunk_L5(t))\n",
    "\n",
    "        # dot product\n",
    "        output = torch.dot(b,t)\n",
    "\n",
    "        return output"
   ]
  }
 ],
 "metadata": {
  "kernelspec": {
   "display_name": "abhi",
   "language": "python",
   "name": "python3"
  },
  "language_info": {
   "codemirror_mode": {
    "name": "ipython",
    "version": 3
   },
   "file_extension": ".py",
   "mimetype": "text/x-python",
   "name": "python",
   "nbconvert_exporter": "python",
   "pygments_lexer": "ipython3",
   "version": "3.12.2"
  }
 },
 "nbformat": 4,
 "nbformat_minor": 2
}
